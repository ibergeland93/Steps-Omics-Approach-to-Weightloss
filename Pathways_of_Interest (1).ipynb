{
 "cells": [
  {
   "cell_type": "markdown",
   "metadata": {},
   "source": [
    "## KEGG Pathways Selection Process  "
   ]
  },
  {
   "cell_type": "markdown",
   "metadata": {},
   "source": [
    "From the previous preprocessing steps for KEGG Pathways, we now select only the pathways that have high representation of genes from our Gene Expression matrix in each pathway."
   ]
  },
  {
   "cell_type": "code",
   "execution_count": 1,
   "metadata": {},
   "outputs": [
    {
     "data": {
      "text/html": [
       "<div>\n",
       "<style scoped>\n",
       "    .dataframe tbody tr th:only-of-type {\n",
       "        vertical-align: middle;\n",
       "    }\n",
       "\n",
       "    .dataframe tbody tr th {\n",
       "        vertical-align: top;\n",
       "    }\n",
       "\n",
       "    .dataframe thead th {\n",
       "        text-align: right;\n",
       "    }\n",
       "</style>\n",
       "<table border=\"1\" class=\"dataframe\">\n",
       "  <thead>\n",
       "    <tr style=\"text-align: right;\">\n",
       "      <th></th>\n",
       "      <th>Unnamed: 0</th>\n",
       "      <th>pathways</th>\n",
       "      <th>gene1</th>\n",
       "      <th>gene2</th>\n",
       "      <th>gene3</th>\n",
       "      <th>gene4</th>\n",
       "      <th>gene5</th>\n",
       "      <th>gene6</th>\n",
       "      <th>gene7</th>\n",
       "      <th>gene8</th>\n",
       "      <th>...</th>\n",
       "      <th>gene991</th>\n",
       "      <th>gene992</th>\n",
       "      <th>gene993</th>\n",
       "      <th>gene994</th>\n",
       "      <th>gene995</th>\n",
       "      <th>gene996</th>\n",
       "      <th>gene997</th>\n",
       "      <th>gene998</th>\n",
       "      <th>gene999</th>\n",
       "      <th>gene1000</th>\n",
       "    </tr>\n",
       "  </thead>\n",
       "  <tbody>\n",
       "    <tr>\n",
       "      <th>0</th>\n",
       "      <td>0</td>\n",
       "      <td>path:hsa00010</td>\n",
       "      <td>3101</td>\n",
       "      <td>3098</td>\n",
       "      <td>3099</td>\n",
       "      <td>80201</td>\n",
       "      <td>2645</td>\n",
       "      <td>2821</td>\n",
       "      <td>5213</td>\n",
       "      <td>5214</td>\n",
       "      <td>...</td>\n",
       "      <td>0</td>\n",
       "      <td>0</td>\n",
       "      <td>0</td>\n",
       "      <td>0</td>\n",
       "      <td>0</td>\n",
       "      <td>0</td>\n",
       "      <td>0</td>\n",
       "      <td>0</td>\n",
       "      <td>0</td>\n",
       "      <td>0</td>\n",
       "    </tr>\n",
       "  </tbody>\n",
       "</table>\n",
       "<p>1 rows × 1002 columns</p>\n",
       "</div>"
      ],
      "text/plain": [
       "   Unnamed: 0       pathways  gene1  gene2  gene3  gene4  gene5  gene6  gene7  \\\n",
       "0           0  path:hsa00010   3101   3098   3099  80201   2645   2821   5213   \n",
       "\n",
       "   gene8    ...     gene991  gene992  gene993  gene994  gene995  gene996  \\\n",
       "0   5214    ...           0        0        0        0        0        0   \n",
       "\n",
       "   gene997  gene998  gene999  gene1000  \n",
       "0        0        0        0         0  \n",
       "\n",
       "[1 rows x 1002 columns]"
      ]
     },
     "execution_count": 1,
     "metadata": {},
     "output_type": "execute_result"
    }
   ],
   "source": [
    "import pandas as pd\n",
    "import numpy as np\n",
    "\n",
    "df = pd.read_csv('df-geneid1.csv')\n",
    "df.head(1)"
   ]
  },
  {
   "cell_type": "code",
   "execution_count": 2,
   "metadata": {},
   "outputs": [],
   "source": [
    "#Turning pathway names into a list to have it in a column in the final dataframe later\n",
    "pathways = df.pathways.tolist()"
   ]
  },
  {
   "cell_type": "code",
   "execution_count": 3,
   "metadata": {},
   "outputs": [],
   "source": [
    "rows = df.values.tolist()"
   ]
  },
  {
   "cell_type": "code",
   "execution_count": 16,
   "metadata": {},
   "outputs": [
    {
     "data": {
      "text/html": [
       "<div>\n",
       "<style scoped>\n",
       "    .dataframe tbody tr th:only-of-type {\n",
       "        vertical-align: middle;\n",
       "    }\n",
       "\n",
       "    .dataframe tbody tr th {\n",
       "        vertical-align: top;\n",
       "    }\n",
       "\n",
       "    .dataframe thead th {\n",
       "        text-align: right;\n",
       "    }\n",
       "</style>\n",
       "<table border=\"1\" class=\"dataframe\">\n",
       "  <thead>\n",
       "    <tr style=\"text-align: right;\">\n",
       "      <th></th>\n",
       "      <th>gene_sliced</th>\n",
       "      <th>2001/1/1</th>\n",
       "      <th>2002/2/1</th>\n",
       "      <th>2003/1/1</th>\n",
       "      <th>2004/2/1</th>\n",
       "      <th>2006/2/1</th>\n",
       "      <th>2008/1/1</th>\n",
       "      <th>2010/2/1</th>\n",
       "      <th>2012/2/1</th>\n",
       "      <th>2013/2/1</th>\n",
       "      <th>...</th>\n",
       "      <th>2078/2/1</th>\n",
       "      <th>2080/2/1</th>\n",
       "      <th>2081/2/1</th>\n",
       "      <th>2082/1/1</th>\n",
       "      <th>2083/2/1</th>\n",
       "      <th>2084/1/1</th>\n",
       "      <th>2085/2/1</th>\n",
       "      <th>HGNC_ID</th>\n",
       "      <th>Approved_Symbol</th>\n",
       "      <th>Approved_name</th>\n",
       "    </tr>\n",
       "  </thead>\n",
       "  <tbody>\n",
       "    <tr>\n",
       "      <th>0</th>\n",
       "      <td>ENSG00000237973</td>\n",
       "      <td>41.1537</td>\n",
       "      <td>32.840876</td>\n",
       "      <td>33.472636</td>\n",
       "      <td>68.599342</td>\n",
       "      <td>55.83454</td>\n",
       "      <td>85.471215</td>\n",
       "      <td>82.970549</td>\n",
       "      <td>75.094779</td>\n",
       "      <td>34.152149</td>\n",
       "      <td>...</td>\n",
       "      <td>58.834271</td>\n",
       "      <td>44.044076</td>\n",
       "      <td>33.586355</td>\n",
       "      <td>41.367272</td>\n",
       "      <td>81.654563</td>\n",
       "      <td>56.295355</td>\n",
       "      <td>42.16532</td>\n",
       "      <td>52014</td>\n",
       "      <td>MTCO1P12</td>\n",
       "      <td>MT-CO1 pseudogene 12</td>\n",
       "    </tr>\n",
       "  </tbody>\n",
       "</table>\n",
       "<p>1 rows × 63 columns</p>\n",
       "</div>"
      ],
      "text/plain": [
       "       gene_sliced  2001/1/1   2002/2/1   2003/1/1   2004/2/1  2006/2/1  \\\n",
       "0  ENSG00000237973   41.1537  32.840876  33.472636  68.599342  55.83454   \n",
       "\n",
       "    2008/1/1   2010/2/1   2012/2/1   2013/2/1          ...           \\\n",
       "0  85.471215  82.970549  75.094779  34.152149          ...            \n",
       "\n",
       "    2078/2/1   2080/2/1   2081/2/1   2082/1/1   2083/2/1   2084/1/1  2085/2/1  \\\n",
       "0  58.834271  44.044076  33.586355  41.367272  81.654563  56.295355  42.16532   \n",
       "\n",
       "   HGNC_ID  Approved_Symbol         Approved_name  \n",
       "0    52014         MTCO1P12  MT-CO1 pseudogene 12  \n",
       "\n",
       "[1 rows x 63 columns]"
      ]
     },
     "execution_count": 16,
     "metadata": {},
     "output_type": "execute_result"
    }
   ],
   "source": [
    "all_genes = pd.read_csv('all_genes.csv').dropna()\n",
    "all_genes[\"HGNC_ID\"] = all_genes[\"HGNC_ID\"].astype(int)\n",
    "all_genes.head(1)"
   ]
  },
  {
   "cell_type": "code",
   "execution_count": 17,
   "metadata": {},
   "outputs": [],
   "source": [
    "#Creating a list with the approved symbol\n",
    "symbol = all_genes['Approved_Symbol'].tolist()"
   ]
  },
  {
   "cell_type": "markdown",
   "metadata": {},
   "source": [
    "Turn the rows of df dataframe into lists in order to compare with the column that contains all the genes of interest"
   ]
  },
  {
   "cell_type": "code",
   "execution_count": 18,
   "metadata": {},
   "outputs": [],
   "source": [
    "listofdf = df.values.tolist()"
   ]
  },
  {
   "cell_type": "code",
   "execution_count": 39,
   "metadata": {},
   "outputs": [],
   "source": [
    "genesofinterest = all_genes['HGNC_ID'].tolist()"
   ]
  },
  {
   "cell_type": "code",
   "execution_count": 40,
   "metadata": {},
   "outputs": [],
   "source": [
    "result = [[j for j in i if j in genesofinterest] for i in listofdf]"
   ]
  },
  {
   "cell_type": "markdown",
   "metadata": {},
   "source": [
    "The dataframe below is populated with pathways and genes in each pathway by HGNC_ID"
   ]
  },
  {
   "cell_type": "code",
   "execution_count": 68,
   "metadata": {},
   "outputs": [
    {
     "data": {
      "text/html": [
       "<div>\n",
       "<style scoped>\n",
       "    .dataframe tbody tr th:only-of-type {\n",
       "        vertical-align: middle;\n",
       "    }\n",
       "\n",
       "    .dataframe tbody tr th {\n",
       "        vertical-align: top;\n",
       "    }\n",
       "\n",
       "    .dataframe thead th {\n",
       "        text-align: right;\n",
       "    }\n",
       "</style>\n",
       "<table border=\"1\" class=\"dataframe\">\n",
       "  <thead>\n",
       "    <tr style=\"text-align: right;\">\n",
       "      <th></th>\n",
       "      <th>0</th>\n",
       "      <th>1</th>\n",
       "      <th>2</th>\n",
       "      <th>3</th>\n",
       "      <th>4</th>\n",
       "      <th>5</th>\n",
       "      <th>6</th>\n",
       "      <th>7</th>\n",
       "      <th>8</th>\n",
       "      <th>9</th>\n",
       "      <th>...</th>\n",
       "      <th>89</th>\n",
       "      <th>90</th>\n",
       "      <th>91</th>\n",
       "      <th>92</th>\n",
       "      <th>93</th>\n",
       "      <th>94</th>\n",
       "      <th>95</th>\n",
       "      <th>96</th>\n",
       "      <th>97</th>\n",
       "      <th>98</th>\n",
       "    </tr>\n",
       "    <tr>\n",
       "      <th>Pathway</th>\n",
       "      <th></th>\n",
       "      <th></th>\n",
       "      <th></th>\n",
       "      <th></th>\n",
       "      <th></th>\n",
       "      <th></th>\n",
       "      <th></th>\n",
       "      <th></th>\n",
       "      <th></th>\n",
       "      <th></th>\n",
       "      <th></th>\n",
       "      <th></th>\n",
       "      <th></th>\n",
       "      <th></th>\n",
       "      <th></th>\n",
       "      <th></th>\n",
       "      <th></th>\n",
       "      <th></th>\n",
       "      <th></th>\n",
       "      <th></th>\n",
       "      <th></th>\n",
       "    </tr>\n",
       "  </thead>\n",
       "  <tbody>\n",
       "    <tr>\n",
       "      <th>path:hsa00010</th>\n",
       "      <td>3098.0</td>\n",
       "      <td>5213.0</td>\n",
       "      <td>8789.0</td>\n",
       "      <td>226.0</td>\n",
       "      <td>2597.0</td>\n",
       "      <td>5232.0</td>\n",
       "      <td>5224.0</td>\n",
       "      <td>10327.0</td>\n",
       "      <td>220.0</td>\n",
       "      <td>669.0</td>\n",
       "      <td>...</td>\n",
       "      <td>NaN</td>\n",
       "      <td>NaN</td>\n",
       "      <td>NaN</td>\n",
       "      <td>NaN</td>\n",
       "      <td>NaN</td>\n",
       "      <td>NaN</td>\n",
       "      <td>NaN</td>\n",
       "      <td>NaN</td>\n",
       "      <td>NaN</td>\n",
       "      <td>NaN</td>\n",
       "    </tr>\n",
       "  </tbody>\n",
       "</table>\n",
       "<p>1 rows × 99 columns</p>\n",
       "</div>"
      ],
      "text/plain": [
       "                   0       1       2      3       4       5       6        7   \\\n",
       "Pathway                                                                         \n",
       "path:hsa00010  3098.0  5213.0  8789.0  226.0  2597.0  5232.0  5224.0  10327.0   \n",
       "\n",
       "                  8      9  ...  89  90  91  92  93  94  95  96  97  98  \n",
       "Pathway                     ...                                          \n",
       "path:hsa00010  220.0  669.0 ... NaN NaN NaN NaN NaN NaN NaN NaN NaN NaN  \n",
       "\n",
       "[1 rows x 99 columns]"
      ]
     },
     "execution_count": 68,
     "metadata": {},
     "output_type": "execute_result"
    }
   ],
   "source": [
    "df2 = pd.DataFrame(data = result, index = pathways, dtype = int)\n",
    "df2.index.name='Pathway'\n",
    "df2.head(1)"
   ]
  },
  {
   "cell_type": "markdown",
   "metadata": {},
   "source": [
    "We will retain the pathways with highest gene representation"
   ]
  },
  {
   "cell_type": "code",
   "execution_count": 57,
   "metadata": {},
   "outputs": [],
   "source": [
    "Non_nan_values = df2.count(axis=1)"
   ]
  },
  {
   "cell_type": "code",
   "execution_count": 58,
   "metadata": {},
   "outputs": [],
   "source": [
    "non_nan = pd.DataFrame(Non_nan_values)"
   ]
  },
  {
   "cell_type": "code",
   "execution_count": 59,
   "metadata": {},
   "outputs": [],
   "source": [
    "non_nan.index.name = 'Pathway'"
   ]
  },
  {
   "cell_type": "code",
   "execution_count": 60,
   "metadata": {},
   "outputs": [],
   "source": [
    "non_nan.columns = ['Number of non NaN values']"
   ]
  },
  {
   "cell_type": "code",
   "execution_count": 70,
   "metadata": {},
   "outputs": [],
   "source": [
    "#non_nan.sort_values('Number of non NaN values', ascending = False).head(5)"
   ]
  },
  {
   "cell_type": "code",
   "execution_count": 71,
   "metadata": {},
   "outputs": [],
   "source": [
    "pathwayscount = df2.merge(non_nan, on = 'Pathway')"
   ]
  },
  {
   "cell_type": "code",
   "execution_count": null,
   "metadata": {},
   "outputs": [],
   "source": []
  }
 ],
 "metadata": {
  "kernelspec": {
   "display_name": "Python 3",
   "language": "python",
   "name": "python3"
  },
  "language_info": {
   "codemirror_mode": {
    "name": "ipython",
    "version": 3
   },
   "file_extension": ".py",
   "mimetype": "text/x-python",
   "name": "python",
   "nbconvert_exporter": "python",
   "pygments_lexer": "ipython3",
   "version": "3.7.1"
  }
 },
 "nbformat": 4,
 "nbformat_minor": 2
}
