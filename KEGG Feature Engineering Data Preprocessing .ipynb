{
 "cells": [
  {
   "cell_type": "markdown",
   "metadata": {},
   "source": [
    "# KEGG Feature Engineering Data Preprocessing "
   ]
  },
  {
   "cell_type": "markdown",
   "metadata": {},
   "source": [
    "### Nomenclature Conversion:"
   ]
  },
  {
   "cell_type": "markdown",
   "metadata": {},
   "source": [
    "Merging of HGNC ID and Normalized Counts dataframes"
   ]
  },
  {
   "cell_type": "markdown",
   "metadata": {},
   "source": [
    "KEGG Pathways database uses HGNC ID naming convention but the Gene Expression dataset uses Ensembl Gene ID. To make the data relateable, we must map the Ensembl Gene ID to the HGNC ID for the Gene Expression matrix which has been normalized."
   ]
  },
  {
   "cell_type": "markdown",
   "metadata": {},
   "source": [
    "#### HGNC Data Importation"
   ]
  },
  {
   "cell_type": "code",
   "execution_count": 1,
   "metadata": {},
   "outputs": [],
   "source": [
    "#Imports pandas and numpy packages\n",
    "import pandas as pd\n",
    "import numpy as np\n",
    "\n",
    "#Imports HGNC dataframe\n",
    "HGNC = pd.read_csv('HGNC.csv')"
   ]
  },
  {
   "cell_type": "code",
   "execution_count": 3,
   "metadata": {},
   "outputs": [
    {
     "data": {
      "text/html": [
       "<div>\n",
       "<style scoped>\n",
       "    .dataframe tbody tr th:only-of-type {\n",
       "        vertical-align: middle;\n",
       "    }\n",
       "\n",
       "    .dataframe tbody tr th {\n",
       "        vertical-align: top;\n",
       "    }\n",
       "\n",
       "    .dataframe thead th {\n",
       "        text-align: right;\n",
       "    }\n",
       "</style>\n",
       "<table border=\"1\" class=\"dataframe\">\n",
       "  <thead>\n",
       "    <tr style=\"text-align: right;\">\n",
       "      <th></th>\n",
       "      <th>HGNC ID</th>\n",
       "      <th>Approved symbol</th>\n",
       "      <th>Approved name</th>\n",
       "      <th>Ensembl gene ID</th>\n",
       "    </tr>\n",
       "  </thead>\n",
       "  <tbody>\n",
       "    <tr>\n",
       "      <th>0</th>\n",
       "      <td>5</td>\n",
       "      <td>A1BG</td>\n",
       "      <td>alpha-1-B glycoprotein</td>\n",
       "      <td>ENSG00000121410</td>\n",
       "    </tr>\n",
       "  </tbody>\n",
       "</table>\n",
       "</div>"
      ],
      "text/plain": [
       "   HGNC ID Approved symbol           Approved name  Ensembl gene ID\n",
       "0        5            A1BG  alpha-1-B glycoprotein  ENSG00000121410"
      ]
     },
     "execution_count": 3,
     "metadata": {},
     "output_type": "execute_result"
    }
   ],
   "source": [
    "#Displays HGCN dataframe containing all human gene ID's taken from the HGNC database\n",
    "HGNC.head(1)"
   ]
  },
  {
   "cell_type": "code",
   "execution_count": 4,
   "metadata": {},
   "outputs": [
    {
     "data": {
      "text/html": [
       "<div>\n",
       "<style scoped>\n",
       "    .dataframe tbody tr th:only-of-type {\n",
       "        vertical-align: middle;\n",
       "    }\n",
       "\n",
       "    .dataframe tbody tr th {\n",
       "        vertical-align: top;\n",
       "    }\n",
       "\n",
       "    .dataframe thead th {\n",
       "        text-align: right;\n",
       "    }\n",
       "</style>\n",
       "<table border=\"1\" class=\"dataframe\">\n",
       "  <thead>\n",
       "    <tr style=\"text-align: right;\">\n",
       "      <th></th>\n",
       "      <th>HGNC_ID</th>\n",
       "      <th>Approved_Symbol</th>\n",
       "      <th>Approved_name</th>\n",
       "      <th>gene_sliced</th>\n",
       "    </tr>\n",
       "  </thead>\n",
       "  <tbody>\n",
       "    <tr>\n",
       "      <th>0</th>\n",
       "      <td>5</td>\n",
       "      <td>A1BG</td>\n",
       "      <td>alpha-1-B glycoprotein</td>\n",
       "      <td>ENSG00000121410</td>\n",
       "    </tr>\n",
       "  </tbody>\n",
       "</table>\n",
       "</div>"
      ],
      "text/plain": [
       "   HGNC_ID Approved_Symbol           Approved_name      gene_sliced\n",
       "0        5            A1BG  alpha-1-B glycoprotein  ENSG00000121410"
      ]
     },
     "execution_count": 4,
     "metadata": {},
     "output_type": "execute_result"
    }
   ],
   "source": [
    "#Renames 'Ensembl gene ID' column to 'gene_sliced' and displays first 5 rows of the dataframe\n",
    "HGNC.columns = ['HGNC_ID', 'Approved_Symbol', 'Approved_name','gene_sliced']\n",
    "HGNC.head(1)"
   ]
  },
  {
   "cell_type": "code",
   "execution_count": 5,
   "metadata": {},
   "outputs": [
    {
     "data": {
      "text/html": [
       "<div>\n",
       "<style scoped>\n",
       "    .dataframe tbody tr th:only-of-type {\n",
       "        vertical-align: middle;\n",
       "    }\n",
       "\n",
       "    .dataframe tbody tr th {\n",
       "        vertical-align: top;\n",
       "    }\n",
       "\n",
       "    .dataframe thead th {\n",
       "        text-align: right;\n",
       "    }\n",
       "</style>\n",
       "<table border=\"1\" class=\"dataframe\">\n",
       "  <thead>\n",
       "    <tr style=\"text-align: right;\">\n",
       "      <th></th>\n",
       "      <th>HGNC_ID</th>\n",
       "      <th>gene_sliced</th>\n",
       "    </tr>\n",
       "  </thead>\n",
       "  <tbody>\n",
       "    <tr>\n",
       "      <th>0</th>\n",
       "      <td>5</td>\n",
       "      <td>ENSG00000121410</td>\n",
       "    </tr>\n",
       "  </tbody>\n",
       "</table>\n",
       "</div>"
      ],
      "text/plain": [
       "   HGNC_ID      gene_sliced\n",
       "0        5  ENSG00000121410"
      ]
     },
     "execution_count": 5,
     "metadata": {},
     "output_type": "execute_result"
    }
   ],
   "source": [
    "HGNC_map = HGNC.drop(['Approved_Symbol', 'Approved_name'], axis = 1)\n",
    "HGNC_map.head(1)"
   ]
  },
  {
   "cell_type": "code",
   "execution_count": 7,
   "metadata": {},
   "outputs": [],
   "source": [
    "#Creates list of Ensemble gene ID's\n",
    "HGNC_id = list(HGNC_map.iloc[: , 0])"
   ]
  },
  {
   "cell_type": "code",
   "execution_count": 47,
   "metadata": {},
   "outputs": [],
   "source": [
    "#Creates an empty list and fills with Ensemble gene ID's after removing any numbers from Ensemble ID following decimal \n",
    "\n",
    "#gene_sliced=[]\n",
    "#for gene in gene_sliced:\n",
    "#    gene_new=gene.split('.')[0]\n",
    "    \n",
    "#    gene_sliced.append(gene_new)\n",
    "    \n",
    "#print(gene_sliced)"
   ]
  },
  {
   "cell_type": "markdown",
   "metadata": {},
   "source": [
    "### Gene Expression Data Importation"
   ]
  },
  {
   "cell_type": "markdown",
   "metadata": {},
   "source": [
    "Gene Expression has been normalized prior to importation."
   ]
  },
  {
   "cell_type": "code",
   "execution_count": 18,
   "metadata": {},
   "outputs": [
    {
     "data": {
      "text/html": [
       "<div>\n",
       "<style scoped>\n",
       "    .dataframe tbody tr th:only-of-type {\n",
       "        vertical-align: middle;\n",
       "    }\n",
       "\n",
       "    .dataframe tbody tr th {\n",
       "        vertical-align: top;\n",
       "    }\n",
       "\n",
       "    .dataframe thead th {\n",
       "        text-align: right;\n",
       "    }\n",
       "</style>\n",
       "<table border=\"1\" class=\"dataframe\">\n",
       "  <thead>\n",
       "    <tr style=\"text-align: right;\">\n",
       "      <th></th>\n",
       "      <th>Unnamed: 0</th>\n",
       "      <th>2001/1/1</th>\n",
       "      <th>2002/2/1</th>\n",
       "      <th>2003/1/1</th>\n",
       "      <th>2004/2/1</th>\n",
       "      <th>2006/2/1</th>\n",
       "      <th>2008/1/1</th>\n",
       "      <th>2010/2/1</th>\n",
       "      <th>2012/2/1</th>\n",
       "      <th>2013/2/1</th>\n",
       "      <th>...</th>\n",
       "      <th>2075/1/1</th>\n",
       "      <th>2078/2/1</th>\n",
       "      <th>2080/2/1</th>\n",
       "      <th>2081/2/1</th>\n",
       "      <th>2082/1/1</th>\n",
       "      <th>2083/2/1</th>\n",
       "      <th>2084/1/1</th>\n",
       "      <th>2085/2/1</th>\n",
       "      <th>gene_sliced</th>\n",
       "      <th>Ensemble ID</th>\n",
       "    </tr>\n",
       "  </thead>\n",
       "  <tbody>\n",
       "    <tr>\n",
       "      <th>0</th>\n",
       "      <td>ENSG00000237973.1</td>\n",
       "      <td>41.1537</td>\n",
       "      <td>32.840876</td>\n",
       "      <td>33.472636</td>\n",
       "      <td>68.599342</td>\n",
       "      <td>55.83454</td>\n",
       "      <td>85.471215</td>\n",
       "      <td>82.970549</td>\n",
       "      <td>75.094779</td>\n",
       "      <td>34.152149</td>\n",
       "      <td>...</td>\n",
       "      <td>59.909131</td>\n",
       "      <td>58.834271</td>\n",
       "      <td>44.044076</td>\n",
       "      <td>33.586355</td>\n",
       "      <td>41.367272</td>\n",
       "      <td>81.654563</td>\n",
       "      <td>56.295355</td>\n",
       "      <td>42.16532</td>\n",
       "      <td>ENSG00000121410</td>\n",
       "      <td>ENSG00000121410</td>\n",
       "    </tr>\n",
       "  </tbody>\n",
       "</table>\n",
       "<p>1 rows × 62 columns</p>\n",
       "</div>"
      ],
      "text/plain": [
       "          Unnamed: 0  2001/1/1   2002/2/1   2003/1/1   2004/2/1  2006/2/1  \\\n",
       "0  ENSG00000237973.1   41.1537  32.840876  33.472636  68.599342  55.83454   \n",
       "\n",
       "    2008/1/1   2010/2/1   2012/2/1   2013/2/1       ...          2075/1/1  \\\n",
       "0  85.471215  82.970549  75.094779  34.152149       ...         59.909131   \n",
       "\n",
       "    2078/2/1   2080/2/1   2081/2/1   2082/1/1   2083/2/1   2084/1/1  2085/2/1  \\\n",
       "0  58.834271  44.044076  33.586355  41.367272  81.654563  56.295355  42.16532   \n",
       "\n",
       "       gene_sliced      Ensemble ID  \n",
       "0  ENSG00000121410  ENSG00000121410  \n",
       "\n",
       "[1 rows x 62 columns]"
      ]
     },
     "execution_count": 18,
     "metadata": {},
     "output_type": "execute_result"
    }
   ],
   "source": [
    "#Imports normalized gene counts dataframe with Ensemble ID as index\n",
    "counts = pd.read_csv('cpm_renamed_original.csv')\n",
    "\n",
    "#Adds 'gene_sliced' as a new column in Counts dataframe and sets as an index \n",
    "counts['gene_sliced'] = HGNC['gene_sliced']\n",
    "counts['Ensemble ID'] = HGNC['gene_sliced']\n",
    "counts.head(1)"
   ]
  },
  {
   "cell_type": "markdown",
   "metadata": {},
   "source": [
    "MAPPING HGNC and Counts dataframes"
   ]
  },
  {
   "cell_type": "code",
   "execution_count": 19,
   "metadata": {},
   "outputs": [],
   "source": [
    "#Creates a dictionary from HGNC_map dataframe to connect 'gene_sliced' to 'HGNC_ID'\n",
    "mapping = dict(HGNC_map[['gene_sliced', 'HGNC_ID']].values)\n",
    "\n",
    "#Creates new column in counts dataframe with HGNC_ID label\n",
    "counts['HGNC_ID'] = counts.gene_sliced.replace(mapping, inplace = True)"
   ]
  },
  {
   "cell_type": "code",
   "execution_count": 21,
   "metadata": {},
   "outputs": [
    {
     "data": {
      "text/html": [
       "<div>\n",
       "<style scoped>\n",
       "    .dataframe tbody tr th:only-of-type {\n",
       "        vertical-align: middle;\n",
       "    }\n",
       "\n",
       "    .dataframe tbody tr th {\n",
       "        vertical-align: top;\n",
       "    }\n",
       "\n",
       "    .dataframe thead th {\n",
       "        text-align: right;\n",
       "    }\n",
       "</style>\n",
       "<table border=\"1\" class=\"dataframe\">\n",
       "  <thead>\n",
       "    <tr style=\"text-align: right;\">\n",
       "      <th></th>\n",
       "      <th>2001/1/1</th>\n",
       "      <th>2002/2/1</th>\n",
       "      <th>2003/1/1</th>\n",
       "      <th>2004/2/1</th>\n",
       "      <th>2006/2/1</th>\n",
       "      <th>2008/1/1</th>\n",
       "      <th>2010/2/1</th>\n",
       "      <th>2012/2/1</th>\n",
       "      <th>2013/2/1</th>\n",
       "      <th>2014/1/1</th>\n",
       "      <th>...</th>\n",
       "      <th>2074/1/1</th>\n",
       "      <th>2075/1/1</th>\n",
       "      <th>2078/2/1</th>\n",
       "      <th>2080/2/1</th>\n",
       "      <th>2081/2/1</th>\n",
       "      <th>2082/1/1</th>\n",
       "      <th>2083/2/1</th>\n",
       "      <th>2084/1/1</th>\n",
       "      <th>2085/2/1</th>\n",
       "      <th>gene_sliced</th>\n",
       "    </tr>\n",
       "    <tr>\n",
       "      <th>Ensemble ID</th>\n",
       "      <th></th>\n",
       "      <th></th>\n",
       "      <th></th>\n",
       "      <th></th>\n",
       "      <th></th>\n",
       "      <th></th>\n",
       "      <th></th>\n",
       "      <th></th>\n",
       "      <th></th>\n",
       "      <th></th>\n",
       "      <th></th>\n",
       "      <th></th>\n",
       "      <th></th>\n",
       "      <th></th>\n",
       "      <th></th>\n",
       "      <th></th>\n",
       "      <th></th>\n",
       "      <th></th>\n",
       "      <th></th>\n",
       "      <th></th>\n",
       "      <th></th>\n",
       "    </tr>\n",
       "  </thead>\n",
       "  <tbody>\n",
       "    <tr>\n",
       "      <th>ENSG00000121410</th>\n",
       "      <td>41.1537</td>\n",
       "      <td>32.840876</td>\n",
       "      <td>33.472636</td>\n",
       "      <td>68.599342</td>\n",
       "      <td>55.83454</td>\n",
       "      <td>85.471215</td>\n",
       "      <td>82.970549</td>\n",
       "      <td>75.094779</td>\n",
       "      <td>34.152149</td>\n",
       "      <td>29.143781</td>\n",
       "      <td>...</td>\n",
       "      <td>72.274791</td>\n",
       "      <td>59.909131</td>\n",
       "      <td>58.834271</td>\n",
       "      <td>44.044076</td>\n",
       "      <td>33.586355</td>\n",
       "      <td>41.367272</td>\n",
       "      <td>81.654563</td>\n",
       "      <td>56.295355</td>\n",
       "      <td>42.16532</td>\n",
       "      <td>5</td>\n",
       "    </tr>\n",
       "  </tbody>\n",
       "</table>\n",
       "<p>1 rows × 60 columns</p>\n",
       "</div>"
      ],
      "text/plain": [
       "                 2001/1/1   2002/2/1   2003/1/1   2004/2/1  2006/2/1  \\\n",
       "Ensemble ID                                                            \n",
       "ENSG00000121410   41.1537  32.840876  33.472636  68.599342  55.83454   \n",
       "\n",
       "                  2008/1/1   2010/2/1   2012/2/1   2013/2/1   2014/1/1  \\\n",
       "Ensemble ID                                                              \n",
       "ENSG00000121410  85.471215  82.970549  75.094779  34.152149  29.143781   \n",
       "\n",
       "                    ...        2074/1/1   2075/1/1   2078/2/1   2080/2/1  \\\n",
       "Ensemble ID         ...                                                    \n",
       "ENSG00000121410     ...       72.274791  59.909131  58.834271  44.044076   \n",
       "\n",
       "                  2081/2/1   2082/1/1   2083/2/1   2084/1/1  2085/2/1  \\\n",
       "Ensemble ID                                                             \n",
       "ENSG00000121410  33.586355  41.367272  81.654563  56.295355  42.16532   \n",
       "\n",
       "                 gene_sliced  \n",
       "Ensemble ID                   \n",
       "ENSG00000121410            5  \n",
       "\n",
       "[1 rows x 60 columns]"
      ]
     },
     "execution_count": 21,
     "metadata": {},
     "output_type": "execute_result"
    }
   ],
   "source": [
    "counts = counts.drop(['Unnamed: 0', 'HGNC_ID'], axis = 1).set_index('Ensemble ID')\n",
    "counts.head(1)"
   ]
  },
  {
   "cell_type": "code",
   "execution_count": 40,
   "metadata": {},
   "outputs": [],
   "source": [
    "counts.to_csv('counts_by_HGNCid.csv')"
   ]
  },
  {
   "cell_type": "code",
   "execution_count": null,
   "metadata": {},
   "outputs": [],
   "source": []
  },
  {
   "cell_type": "code",
   "execution_count": null,
   "metadata": {},
   "outputs": [],
   "source": []
  }
 ],
 "metadata": {
  "kernelspec": {
   "display_name": "Python 3",
   "language": "python",
   "name": "python3"
  },
  "language_info": {
   "codemirror_mode": {
    "name": "ipython",
    "version": 3
   },
   "file_extension": ".py",
   "mimetype": "text/x-python",
   "name": "python",
   "nbconvert_exporter": "python",
   "pygments_lexer": "ipython3",
   "version": "3.7.1"
  }
 },
 "nbformat": 4,
 "nbformat_minor": 2
}
