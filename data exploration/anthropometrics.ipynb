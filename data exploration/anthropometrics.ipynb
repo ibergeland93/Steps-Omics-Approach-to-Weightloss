{
 "cells": [
  {
   "cell_type": "code",
   "execution_count": null,
   "metadata": {},
   "outputs": [],
   "source": [
    "anthropometrics=pd.read_csv('anthropometrics.csv')\n",
    "anthropometrics['Date'] =  pd.to_datetime(anthropometrics['Date'], format='%m%d%Y.0')\n",
    "#Change on Excel manually to make the RVCorrected Column into the \"Short datetime\" format\n",
    "anthropometrics['CorrectedRVDate']=pd.to_datetime(anthropometrics['CorrectedRVDate'], format='%Y/%m/%d')\n",
    "anthropometrics=anthropometrics.drop(columns=['RVDate','CorrectedDate','RVNotes'],axis=1)\n",
    "anthropometrics=anthropometrics.set_index('studyID')\n",
    "anthropometrics"
   ]
  }
 ],
 "metadata": {
  "kernelspec": {
   "display_name": "Python 3",
   "language": "python",
   "name": "python3"
  },
  "language_info": {
   "codemirror_mode": {
    "name": "ipython",
    "version": 3
   },
   "file_extension": ".py",
   "mimetype": "text/x-python",
   "name": "python",
   "nbconvert_exporter": "python",
   "pygments_lexer": "ipython3",
   "version": "3.6.5"
  }
 },
 "nbformat": 4,
 "nbformat_minor": 2
}
