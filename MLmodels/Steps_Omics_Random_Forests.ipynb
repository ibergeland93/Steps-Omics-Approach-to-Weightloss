{
 "cells": [
  {
   "cell_type": "markdown",
   "metadata": {},
   "source": [
    "## Random Forests"
   ]
  },
  {
   "cell_type": "code",
   "execution_count": 76,
   "metadata": {},
   "outputs": [
    {
     "name": "stdout",
     "output_type": "stream",
     "text": [
      "Requirement already satisfied: pydotplus in /Users/marikitamarinaki/anaconda3/lib/python3.7/site-packages (2.0.2)\n",
      "Requirement already satisfied: pyparsing>=2.0.1 in /Users/marikitamarinaki/anaconda3/lib/python3.7/site-packages (from pydotplus) (2.3.0)\n",
      "Requirement already satisfied: graphviz in /Users/marikitamarinaki/anaconda3/lib/python3.7/site-packages (0.10.1)\n"
     ]
    }
   ],
   "source": [
    "import pandas as pd\n",
    "import numpy as np\n",
    "from sklearn.model_selection import train_test_split\n",
    "from sklearn import ensemble\n",
    "from sklearn.metrics import mean_squared_error\n",
    "from sklearn import metrics\n",
    "import matplotlib.pyplot as plt\n",
    "import numpy as np\n",
    "from sklearn.ensemble import RandomForestClassifier\n",
    "from sklearn.model_selection import RandomizedSearchCV\n",
    "from sklearn.model_selection import GridSearchCV\n",
    "from sklearn.tree import DecisionTreeRegressor\n",
    "from sklearn.linear_model import LogisticRegression\n",
    "from sklearn.tree import DecisionTreeClassifier\n",
    "from sklearn.metrics import accuracy_score\n",
    "from sklearn.metrics import roc_curve, roc_auc_score\n",
    "from sklearn.tree import export_graphviz\n",
    "from subprocess import call\n",
    "from IPython.display import Image\n",
    "! python -m pip install pydotplus\n",
    "! pip install graphviz\n",
    "import statistics\n",
    "from sklearn.model_selection import cross_val_score\n",
    "\n"
   ]
  },
  {
   "cell_type": "code",
   "execution_count": 39,
   "metadata": {},
   "outputs": [],
   "source": [
    "pathways = pd.read_csv('KEGG_7pathways_steps.csv')\n",
    "pathways = pathways.drop(['Unnamed: 0'], axis=1)\n",
    "pathways.set_index('studyID',inplace=True)"
   ]
  },
  {
   "cell_type": "code",
   "execution_count": 90,
   "metadata": {},
   "outputs": [
    {
     "data": {
      "text/html": [
       "<div>\n",
       "<style scoped>\n",
       "    .dataframe tbody tr th:only-of-type {\n",
       "        vertical-align: middle;\n",
       "    }\n",
       "\n",
       "    .dataframe tbody tr th {\n",
       "        vertical-align: top;\n",
       "    }\n",
       "\n",
       "    .dataframe thead th {\n",
       "        text-align: right;\n",
       "    }\n",
       "</style>\n",
       "<table border=\"1\" class=\"dataframe\">\n",
       "  <thead>\n",
       "    <tr style=\"text-align: right;\">\n",
       "      <th></th>\n",
       "      <th>PC1</th>\n",
       "      <th>PC2</th>\n",
       "      <th>PC3</th>\n",
       "      <th>PC4</th>\n",
       "      <th>PC5</th>\n",
       "      <th>Gender</th>\n",
       "      <th>BMI</th>\n",
       "      <th>Weight_loss_band</th>\n",
       "      <th>Steps</th>\n",
       "    </tr>\n",
       "    <tr>\n",
       "      <th>studyID</th>\n",
       "      <th></th>\n",
       "      <th></th>\n",
       "      <th></th>\n",
       "      <th></th>\n",
       "      <th></th>\n",
       "      <th></th>\n",
       "      <th></th>\n",
       "      <th></th>\n",
       "      <th></th>\n",
       "    </tr>\n",
       "  </thead>\n",
       "  <tbody>\n",
       "    <tr>\n",
       "      <th>2001</th>\n",
       "      <td>8.061646</td>\n",
       "      <td>-5.761836</td>\n",
       "      <td>-4.841193</td>\n",
       "      <td>-2.171323</td>\n",
       "      <td>-2.788218</td>\n",
       "      <td>0</td>\n",
       "      <td>36.24</td>\n",
       "      <td>1</td>\n",
       "      <td>10723.455560</td>\n",
       "    </tr>\n",
       "    <tr>\n",
       "      <th>2002</th>\n",
       "      <td>8.430937</td>\n",
       "      <td>6.946562</td>\n",
       "      <td>1.794457</td>\n",
       "      <td>-0.015105</td>\n",
       "      <td>-3.024961</td>\n",
       "      <td>1</td>\n",
       "      <td>35.71</td>\n",
       "      <td>0</td>\n",
       "      <td>4654.916667</td>\n",
       "    </tr>\n",
       "    <tr>\n",
       "      <th>2003</th>\n",
       "      <td>8.256683</td>\n",
       "      <td>8.288072</td>\n",
       "      <td>2.570019</td>\n",
       "      <td>-0.302641</td>\n",
       "      <td>-3.554665</td>\n",
       "      <td>1</td>\n",
       "      <td>42.80</td>\n",
       "      <td>0</td>\n",
       "      <td>5675.133333</td>\n",
       "    </tr>\n",
       "    <tr>\n",
       "      <th>2004</th>\n",
       "      <td>8.376866</td>\n",
       "      <td>-0.916554</td>\n",
       "      <td>-6.212482</td>\n",
       "      <td>1.182002</td>\n",
       "      <td>-0.328640</td>\n",
       "      <td>0</td>\n",
       "      <td>26.72</td>\n",
       "      <td>1</td>\n",
       "      <td>9855.843373</td>\n",
       "    </tr>\n",
       "    <tr>\n",
       "      <th>2006</th>\n",
       "      <td>8.258802</td>\n",
       "      <td>0.870977</td>\n",
       "      <td>4.219331</td>\n",
       "      <td>0.654543</td>\n",
       "      <td>-3.580225</td>\n",
       "      <td>1</td>\n",
       "      <td>43.89</td>\n",
       "      <td>0</td>\n",
       "      <td>7595.388889</td>\n",
       "    </tr>\n",
       "  </tbody>\n",
       "</table>\n",
       "</div>"
      ],
      "text/plain": [
       "              PC1       PC2       PC3       PC4       PC5  Gender    BMI  \\\n",
       "studyID                                                                    \n",
       "2001     8.061646 -5.761836 -4.841193 -2.171323 -2.788218       0  36.24   \n",
       "2002     8.430937  6.946562  1.794457 -0.015105 -3.024961       1  35.71   \n",
       "2003     8.256683  8.288072  2.570019 -0.302641 -3.554665       1  42.80   \n",
       "2004     8.376866 -0.916554 -6.212482  1.182002 -0.328640       0  26.72   \n",
       "2006     8.258802  0.870977  4.219331  0.654543 -3.580225       1  43.89   \n",
       "\n",
       "         Weight_loss_band         Steps  \n",
       "studyID                                  \n",
       "2001                    1  10723.455560  \n",
       "2002                    0   4654.916667  \n",
       "2003                    0   5675.133333  \n",
       "2004                    1   9855.843373  \n",
       "2006                    0   7595.388889  "
      ]
     },
     "execution_count": 90,
     "metadata": {},
     "output_type": "execute_result"
    }
   ],
   "source": [
    "pcs = pd.read_csv('PC_final result(use in modeling) (1).csv')\n",
    "pcs = pcs.iloc[:,:6]\n",
    "pcs.set_index('studyID',inplace = True)\n",
    "pathways_2 = pd.read_csv('KEGG_7pathways_steps.csv')\n",
    "pathways_2 = pathways_2.drop(['Unnamed: 0', 'Group', 'Age', \n",
    "       'path:hsa03040-mean',\n",
    "       'path:hsa03040-variance', 'path:hsa03050-mean',\n",
    "       'path:hsa03050-variance', 'path:hsa03060-mean',\n",
    "       'path:hsa03060-variance', 'path:hsa04130-mean',\n",
    "       'path:hsa04130-variance', 'path:hsa04141-mean',\n",
    "       'path:hsa04141-variance', 'path:hsa04662-mean',\n",
    "       'path:hsa04662-variance', 'path:hsa05220-mean',\n",
    "       'path:hsa05220-variance'], axis=1)\n",
    "pathways_2.set_index('studyID', inplace = True)\n",
    "pcs = pcs.merge(pathways_2, how = 'outer', on ='studyID')\n",
    "pcs.head()"
   ]
  },
  {
   "cell_type": "code",
   "execution_count": null,
   "metadata": {},
   "outputs": [],
   "source": []
  },
  {
   "cell_type": "code",
   "execution_count": 38,
   "metadata": {},
   "outputs": [
    {
     "data": {
      "text/html": [
       "<div>\n",
       "<style scoped>\n",
       "    .dataframe tbody tr th:only-of-type {\n",
       "        vertical-align: middle;\n",
       "    }\n",
       "\n",
       "    .dataframe tbody tr th {\n",
       "        vertical-align: top;\n",
       "    }\n",
       "\n",
       "    .dataframe thead th {\n",
       "        text-align: right;\n",
       "    }\n",
       "</style>\n",
       "<table border=\"1\" class=\"dataframe\">\n",
       "  <thead>\n",
       "    <tr style=\"text-align: right;\">\n",
       "      <th></th>\n",
       "      <th>Group</th>\n",
       "      <th>Age</th>\n",
       "      <th>Gender</th>\n",
       "      <th>BMI</th>\n",
       "      <th>Weight_loss_band</th>\n",
       "    </tr>\n",
       "    <tr>\n",
       "      <th>studyID</th>\n",
       "      <th></th>\n",
       "      <th></th>\n",
       "      <th></th>\n",
       "      <th></th>\n",
       "      <th></th>\n",
       "    </tr>\n",
       "  </thead>\n",
       "  <tbody>\n",
       "    <tr>\n",
       "      <th>2001</th>\n",
       "      <td>0</td>\n",
       "      <td>28</td>\n",
       "      <td>0</td>\n",
       "      <td>36.24</td>\n",
       "      <td>1</td>\n",
       "    </tr>\n",
       "    <tr>\n",
       "      <th>2002</th>\n",
       "      <td>1</td>\n",
       "      <td>38</td>\n",
       "      <td>1</td>\n",
       "      <td>35.71</td>\n",
       "      <td>0</td>\n",
       "    </tr>\n",
       "    <tr>\n",
       "      <th>2003</th>\n",
       "      <td>0</td>\n",
       "      <td>26</td>\n",
       "      <td>1</td>\n",
       "      <td>42.80</td>\n",
       "      <td>0</td>\n",
       "    </tr>\n",
       "    <tr>\n",
       "      <th>2004</th>\n",
       "      <td>1</td>\n",
       "      <td>60</td>\n",
       "      <td>0</td>\n",
       "      <td>26.72</td>\n",
       "      <td>1</td>\n",
       "    </tr>\n",
       "    <tr>\n",
       "      <th>2006</th>\n",
       "      <td>1</td>\n",
       "      <td>48</td>\n",
       "      <td>1</td>\n",
       "      <td>43.89</td>\n",
       "      <td>0</td>\n",
       "    </tr>\n",
       "  </tbody>\n",
       "</table>\n",
       "</div>"
      ],
      "text/plain": [
       "         Group  Age  Gender    BMI  Weight_loss_band\n",
       "studyID                                             \n",
       "2001         0   28       0  36.24                 1\n",
       "2002         1   38       1  35.71                 0\n",
       "2003         0   26       1  42.80                 0\n",
       "2004         1   60       0  26.72                 1\n",
       "2006         1   48       1  43.89                 0"
      ]
     },
     "execution_count": 38,
     "metadata": {},
     "output_type": "execute_result"
    }
   ],
   "source": [
    "demographics = pathways.drop(['Steps','path:hsa03040-mean',\n",
    "       'path:hsa03040-variance', 'path:hsa03050-mean',\n",
    "       'path:hsa03050-variance', 'path:hsa03060-mean',\n",
    "       'path:hsa03060-variance', 'path:hsa04130-mean',\n",
    "       'path:hsa04130-variance', 'path:hsa04141-mean',\n",
    "       'path:hsa04141-variance', 'path:hsa04662-mean',\n",
    "       'path:hsa04662-variance', 'path:hsa05220-mean',\n",
    "       'path:hsa05220-variance'], axis = 1)\n",
    "demographics.head()"
   ]
  },
  {
   "cell_type": "code",
   "execution_count": 50,
   "metadata": {},
   "outputs": [],
   "source": [
    "steps = pathways.drop(['path:hsa03040-mean',\n",
    "       'path:hsa03040-variance', 'path:hsa03050-mean',\n",
    "       'path:hsa03050-variance', 'path:hsa03060-mean',\n",
    "       'path:hsa03060-variance', 'path:hsa04130-mean',\n",
    "       'path:hsa04130-variance', 'path:hsa04141-mean',\n",
    "       'path:hsa04141-variance', 'path:hsa04662-mean',\n",
    "       'path:hsa04662-variance', 'path:hsa05220-mean',\n",
    "       'path:hsa05220-variance'], axis=1)"
   ]
  },
  {
   "cell_type": "markdown",
   "metadata": {},
   "source": [
    "Grid for Randomized Search CV - Hyperparameter Tuning"
   ]
  },
  {
   "cell_type": "code",
   "execution_count": 40,
   "metadata": {},
   "outputs": [],
   "source": [
    "# Number of trees in random forest\n",
    "n_estimators = [int(x) for x in np.linspace(start = 20, stop = 400,num=10)]\n",
    "# Number of features to consider at every split\n",
    "max_features = ['auto','sqrt']\n",
    "# Maximum number of levels in tree\n",
    "max_depth = [int(x) for x in np.linspace(2, 50, num = 5)]\n",
    "max_depth.append(None)\n",
    "# Minimum number of samples required to split a node\n",
    "min_samples_split = [2, 5,7,10]\n",
    "# Minimum number of samples required at each leaf node\n",
    "min_samples_leaf = [1,2,3,4,5]\n",
    "# Method of selecting samples for training each tree\n",
    "bootstrap = [True, False]\n",
    "# Create the random grid\n",
    "random_grid = {'n_estimators': n_estimators,\n",
    "               'max_features': max_features,\n",
    "               'max_depth': max_depth,\n",
    "               'min_samples_split': min_samples_split,\n",
    "               'min_samples_leaf': min_samples_leaf,\n",
    "               'bootstrap': bootstrap}"
   ]
  },
  {
   "cell_type": "markdown",
   "metadata": {},
   "source": [
    "## Demographic Data"
   ]
  },
  {
   "cell_type": "code",
   "execution_count": 42,
   "metadata": {},
   "outputs": [],
   "source": [
    "X_dem = demographics[['Group', 'Age', 'Gender', 'BMI']]\n",
    "Y_dem = demographics['Weight_loss_band']                  \n",
    "X_train, X_test, y_train, y_test = train_test_split(X_dem,Y_dem, test_size = 0.2, random_state=42)"
   ]
  },
  {
   "cell_type": "code",
   "execution_count": 43,
   "metadata": {},
   "outputs": [
    {
     "name": "stdout",
     "output_type": "stream",
     "text": [
      "Fitting 3 folds for each of 100 candidates, totalling 300 fits\n"
     ]
    },
    {
     "name": "stderr",
     "output_type": "stream",
     "text": [
      "[Parallel(n_jobs=-1)]: Using backend LokyBackend with 4 concurrent workers.\n",
      "[Parallel(n_jobs=-1)]: Done  33 tasks      | elapsed:    4.7s\n",
      "[Parallel(n_jobs=-1)]: Done 154 tasks      | elapsed:   12.1s\n",
      "[Parallel(n_jobs=-1)]: Done 300 out of 300 | elapsed:   20.0s finished\n",
      "/Users/marikitamarinaki/anaconda3/lib/python3.7/site-packages/sklearn/model_selection/_search.py:841: DeprecationWarning: The default of the `iid` parameter will change from True to False in version 0.22 and will be removed in 0.24. This will change numeric results when test-set sizes are unequal.\n",
      "  DeprecationWarning)\n"
     ]
    },
    {
     "data": {
      "text/plain": [
       "RandomizedSearchCV(cv=3, error_score='raise-deprecating',\n",
       "          estimator=RandomForestClassifier(bootstrap=True, class_weight=None, criterion='gini',\n",
       "            max_depth=None, max_features='auto', max_leaf_nodes=None,\n",
       "            min_impurity_decrease=0.0, min_impurity_split=None,\n",
       "            min_samples_leaf=1, min_samples_split=2,\n",
       "            min_weight_fraction_leaf=0.0, n_estimators='warn', n_jobs=None,\n",
       "            oob_score=False, random_state=None, verbose=0,\n",
       "            warm_start=False),\n",
       "          fit_params=None, iid='warn', n_iter=100, n_jobs=-1,\n",
       "          param_distributions={'n_estimators': [20, 62, 104, 146, 188, 231, 273, 315, 357, 400], 'max_features': ['auto', 'sqrt'], 'max_depth': [2, 14, 26, 38, 50, None], 'min_samples_split': [2, 5, 7, 10], 'min_samples_leaf': [1, 2, 3, 4, 5], 'bootstrap': [True, False]},\n",
       "          pre_dispatch='2*n_jobs', random_state=42, refit=True,\n",
       "          return_train_score='warn', scoring=None, verbose=2)"
      ]
     },
     "execution_count": 43,
     "metadata": {},
     "output_type": "execute_result"
    }
   ],
   "source": [
    "rf = RandomForestClassifier()\n",
    "rf_random= RandomizedSearchCV(estimator = rf, param_distributions = random_grid, \n",
    "                               n_iter = 100, cv = 3, verbose=2, \n",
    "                               random_state=42, n_jobs = -1)\n",
    "\n",
    "rf_random.fit(X_train, y_train)"
   ]
  },
  {
   "cell_type": "code",
   "execution_count": 44,
   "metadata": {},
   "outputs": [
    {
     "data": {
      "text/plain": [
       "{'n_estimators': 62,\n",
       " 'min_samples_split': 10,\n",
       " 'min_samples_leaf': 1,\n",
       " 'max_features': 'auto',\n",
       " 'max_depth': 38,\n",
       " 'bootstrap': True}"
      ]
     },
     "execution_count": 44,
     "metadata": {},
     "output_type": "execute_result"
    }
   ],
   "source": [
    "rf_random.best_params_"
   ]
  },
  {
   "cell_type": "code",
   "execution_count": 45,
   "metadata": {},
   "outputs": [
    {
     "data": {
      "image/png": "[encoded data removed]",
      "text/plain": [
       "<Figure size 432x288 with 1 Axes>"
      ]
     },
     "metadata": {
      "needs_background": "light"
     },
     "output_type": "display_data"
    }
   ],
   "source": [
    "random_forest = RandomForestClassifier(n_estimators = 188,\n",
    " min_samples_split = 10,\n",
    " min_samples_leaf = 2,\n",
    " max_features = 'sqrt',\n",
    " max_depth = 50,\n",
    " bootstrap = True , random_state = 42)\n",
    "random_forest.fit(X_train,y_train)\n",
    "y_pred = random_forest.predict(X_test)\n",
    "importance = pd.Series(random_forest.feature_importances_, index=X_dem.columns)\n",
    "importance.nlargest(10).plot(kind='bar');\n",
    "plt.show()"
   ]
  },
  {
   "cell_type": "code",
   "execution_count": 83,
   "metadata": {
    "scrolled": true
   },
   "outputs": [
    {
     "name": "stdout",
     "output_type": "stream",
     "text": [
      "Mean Training Accuracy: 0.8603272774127046\n",
      "Mean Test Accuracy: 0.649127992905705\n",
      "0.09539699493314409\n",
      "AUC score equals 0.5681719801694676\n",
      "Standard Deviation for auc score 0.10595317408818809\n"
     ]
    }
   ],
   "source": [
    "random_state = list(range(1,200))\n",
    "#print(random_state)\n",
    "d1_train_acc = []\n",
    "d1_test_acc = []\n",
    "d1_auc_score = []\n",
    "\n",
    "for i in random_state :\n",
    "    \n",
    "    X_dem = demographics[['Group', 'Age', 'Gender', 'BMI']]\n",
    "    Y_dem = demographics['Weight_loss_band']\n",
    "    \n",
    "    X_train, X_test, y_train, y_test= train_test_split(X_dem,Y_dem, test_size = 0.3, random_state = i) \n",
    "    \n",
    "    random_forest= RandomForestClassifier(n_estimators = 188,\n",
    "     min_samples_split = 10,\n",
    "     min_samples_leaf = 2,\n",
    "     max_features = 'sqrt',\n",
    "     max_depth = 50,\n",
    "     bootstrap = True , random_state = 42)\n",
    "    \n",
    "    random_forest.fit(X_train,y_train)\n",
    "    y_pred = random_forest.predict(X_test) \n",
    "\n",
    "    rf_train_acc = random_forest.score(X_train, y_train)\n",
    "    rf_test_acc = accuracy_score(y_test,y_pred)\n",
    "    auc_score = roc_auc_score(y_test,y_pred)\n",
    "\n",
    "    d1_train_acc.append(rf_train_acc)\n",
    "    d1_test_acc.append(rf_test_acc)\n",
    "    d1_auc_score.append(auc_score)\n",
    "    \n",
    "\n",
    "print('Mean Training Accuracy:', np.mean(d1_train_acc)) \n",
    "print('Mean Test Accuracy:', np.mean(d1_test_acc))\n",
    "print(statistics.stdev(d1_test_acc))\n",
    "\n",
    "print('AUC score equals',np.mean(d1_auc_score))\n",
    "print('Standard Deviation for auc score',statistics.stdev(d1_auc_score))"
   ]
  },
  {
   "cell_type": "markdown",
   "metadata": {},
   "source": [
    "k-fold Cross Validation"
   ]
  },
  {
   "cell_type": "code",
   "execution_count": 84,
   "metadata": {},
   "outputs": [
    {
     "name": "stdout",
     "output_type": "stream",
     "text": [
      "Accuracy: 0.53 (+/- 0.42)\n"
     ]
    },
    {
     "name": "stderr",
     "output_type": "stream",
     "text": [
      "/Users/marikitamarinaki/anaconda3/lib/python3.7/site-packages/sklearn/ensemble/forest.py:246: FutureWarning: The default value of n_estimators will change from 10 in version 0.20 to 100 in 0.22.\n",
      "  \"10 in version 0.20 to 100 in 0.22.\", FutureWarning)\n",
      "/Users/marikitamarinaki/anaconda3/lib/python3.7/site-packages/sklearn/ensemble/forest.py:246: FutureWarning: The default value of n_estimators will change from 10 in version 0.20 to 100 in 0.22.\n",
      "  \"10 in version 0.20 to 100 in 0.22.\", FutureWarning)\n",
      "/Users/marikitamarinaki/anaconda3/lib/python3.7/site-packages/sklearn/ensemble/forest.py:246: FutureWarning: The default value of n_estimators will change from 10 in version 0.20 to 100 in 0.22.\n",
      "  \"10 in version 0.20 to 100 in 0.22.\", FutureWarning)\n",
      "/Users/marikitamarinaki/anaconda3/lib/python3.7/site-packages/sklearn/ensemble/forest.py:246: FutureWarning: The default value of n_estimators will change from 10 in version 0.20 to 100 in 0.22.\n",
      "  \"10 in version 0.20 to 100 in 0.22.\", FutureWarning)\n",
      "/Users/marikitamarinaki/anaconda3/lib/python3.7/site-packages/sklearn/ensemble/forest.py:246: FutureWarning: The default value of n_estimators will change from 10 in version 0.20 to 100 in 0.22.\n",
      "  \"10 in version 0.20 to 100 in 0.22.\", FutureWarning)\n"
     ]
    }
   ],
   "source": [
    "scores = cross_val_score(rf,X_train,y_train, cv=5)\n",
    "scores               \n",
    "print(\"Accuracy: %0.2f (+/- %0.2f)\" % (scores.mean(), scores.std() * 2))"
   ]
  },
  {
   "cell_type": "markdown",
   "metadata": {},
   "source": [
    "## Steps"
   ]
  },
  {
   "cell_type": "code",
   "execution_count": 51,
   "metadata": {},
   "outputs": [],
   "source": [
    "X_st = steps[['Group', 'Age', 'Gender', 'BMI', 'Steps']]\n",
    "Y_st =steps['Weight_loss_band']                  \n",
    "X_train, X_test, y_train, y_test = train_test_split(X_st,Y_st, test_size = 0.2, random_state=42)"
   ]
  },
  {
   "cell_type": "code",
   "execution_count": 52,
   "metadata": {},
   "outputs": [
    {
     "name": "stdout",
     "output_type": "stream",
     "text": [
      "Fitting 3 folds for each of 100 candidates, totalling 300 fits\n"
     ]
    },
    {
     "name": "stderr",
     "output_type": "stream",
     "text": [
      "[Parallel(n_jobs=-1)]: Using backend LokyBackend with 4 concurrent workers.\n",
      "[Parallel(n_jobs=-1)]: Done  33 tasks      | elapsed:    4.6s\n",
      "[Parallel(n_jobs=-1)]: Done 154 tasks      | elapsed:   12.0s\n",
      "[Parallel(n_jobs=-1)]: Done 300 out of 300 | elapsed:   20.8s finished\n",
      "/Users/marikitamarinaki/anaconda3/lib/python3.7/site-packages/sklearn/model_selection/_search.py:841: DeprecationWarning: The default of the `iid` parameter will change from True to False in version 0.22 and will be removed in 0.24. This will change numeric results when test-set sizes are unequal.\n",
      "  DeprecationWarning)\n"
     ]
    },
    {
     "data": {
      "text/plain": [
       "RandomizedSearchCV(cv=3, error_score='raise-deprecating',\n",
       "          estimator=RandomForestClassifier(bootstrap=True, class_weight=None, criterion='gini',\n",
       "            max_depth=None, max_features='auto', max_leaf_nodes=None,\n",
       "            min_impurity_decrease=0.0, min_impurity_split=None,\n",
       "            min_samples_leaf=1, min_samples_split=2,\n",
       "            min_weight_fraction_leaf=0.0, n_estimators='warn', n_jobs=None,\n",
       "            oob_score=False, random_state=None, verbose=0,\n",
       "            warm_start=False),\n",
       "          fit_params=None, iid='warn', n_iter=100, n_jobs=-1,\n",
       "          param_distributions={'n_estimators': [20, 62, 104, 146, 188, 231, 273, 315, 357, 400], 'max_features': ['auto', 'sqrt'], 'max_depth': [2, 14, 26, 38, 50, None], 'min_samples_split': [2, 5, 7, 10], 'min_samples_leaf': [1, 2, 3, 4, 5], 'bootstrap': [True, False]},\n",
       "          pre_dispatch='2*n_jobs', random_state=42, refit=True,\n",
       "          return_train_score='warn', scoring=None, verbose=2)"
      ]
     },
     "execution_count": 52,
     "metadata": {},
     "output_type": "execute_result"
    }
   ],
   "source": [
    "rf = RandomForestClassifier()\n",
    "rf_random= RandomizedSearchCV(estimator = rf, param_distributions = random_grid, \n",
    "                               n_iter = 100, cv = 3, verbose=2, \n",
    "                               random_state=42, n_jobs = -1)\n",
    "\n",
    "rf_random.fit(X_train, y_train)"
   ]
  },
  {
   "cell_type": "code",
   "execution_count": 54,
   "metadata": {},
   "outputs": [
    {
     "data": {
      "text/plain": [
       "{'n_estimators': 104,\n",
       " 'min_samples_split': 10,\n",
       " 'min_samples_leaf': 3,\n",
       " 'max_features': 'auto',\n",
       " 'max_depth': 2,\n",
       " 'bootstrap': False}"
      ]
     },
     "execution_count": 54,
     "metadata": {},
     "output_type": "execute_result"
    }
   ],
   "source": [
    "rf_random.best_params_"
   ]
  },
  {
   "cell_type": "code",
   "execution_count": 55,
   "metadata": {},
   "outputs": [
    {
     "data": {
      "image/png": "[encoded data removed]",
      "text/plain": [
       "<Figure size 432x288 with 1 Axes>"
      ]
     },
     "metadata": {
      "needs_background": "light"
     },
     "output_type": "display_data"
    }
   ],
   "source": [
    "random_forest = RandomForestClassifier(n_estimators = 104,\n",
    " min_samples_split = 10,\n",
    " min_samples_leaf = 3,\n",
    " max_features = 'auto',\n",
    " max_depth = 2,\n",
    " bootstrap =  False)\n",
    "random_forest.fit(X_train,y_train)\n",
    "y_pred = random_forest.predict(X_test)\n",
    "importance= pd.Series(random_forest.feature_importances_, index=X_st.columns)\n",
    "importance.nlargest(5).plot(kind='bar');\n",
    "plt.show()"
   ]
  },
  {
   "cell_type": "code",
   "execution_count": 81,
   "metadata": {
    "scrolled": false
   },
   "outputs": [
    {
     "name": "stdout",
     "output_type": "stream",
     "text": [
      "Mean Training Accuracy: 0.8434216537231615\n",
      "Mean Test Accuracy: 0.6813232830820769\n",
      "0.12518844116755168\n",
      "AUC score equals 0.5991893087370475\n",
      "Standard Deviation for auc score 0.13282332106968303\n"
     ]
    }
   ],
   "source": [
    "random_state = list(range(1,200))\n",
    "\n",
    "d1_train_acc = []\n",
    "d1_test_acc = []\n",
    "d1_auc_score = []\n",
    "\n",
    "for i in random_state :\n",
    "    \n",
    "    X_steps = pathways[['Group', 'Age', 'Gender', 'BMI',  'Steps']]\n",
    "    Y_steps = steps['Weight_loss_band']\n",
    "    \n",
    "    X_train, X_test, y_train, y_test= train_test_split(X_steps,Y_steps, test_size = 0.2, random_state = i) \n",
    "    \n",
    "    random_forest= RandomForestClassifier(n_estimators = 104,\n",
    "     min_samples_split = 10,\n",
    "     min_samples_leaf = 3,\n",
    "     max_features = 'auto',\n",
    "     max_depth = 2,\n",
    "     bootstrap =  False)\n",
    "    \n",
    "    random_forest.fit(X_train,y_train)\n",
    "    y_pred = random_forest.predict(X_test) \n",
    "\n",
    "    rf_train_acc = random_forest.score(X_train, y_train)\n",
    "    rf_test_acc = accuracy_score(y_test,y_pred)\n",
    "    auc_score = roc_auc_score(y_test,y_pred)\n",
    "\n",
    "    d1_train_acc.append(rf_train_acc)\n",
    "    d1_test_acc.append(rf_test_acc)\n",
    "    d1_auc_score.append(auc_score)\n",
    "    \n",
    "\n",
    "print('Mean Training Accuracy:', np.mean(d1_train_acc)) \n",
    "print('Mean Test Accuracy:', np.mean(d1_test_acc))\n",
    "print(statistics.stdev(d1_test_acc))\n",
    "\n",
    "print('AUC score equals',np.mean(d1_auc_score))\n",
    "print('Standard Deviation for auc score',statistics.stdev(d1_auc_score))"
   ]
  },
  {
   "cell_type": "code",
   "execution_count": 82,
   "metadata": {},
   "outputs": [
    {
     "name": "stdout",
     "output_type": "stream",
     "text": [
      "Accuracy: 0.68 (+/- 0.16)\n"
     ]
    },
    {
     "name": "stderr",
     "output_type": "stream",
     "text": [
      "/Users/marikitamarinaki/anaconda3/lib/python3.7/site-packages/sklearn/ensemble/forest.py:246: FutureWarning: The default value of n_estimators will change from 10 in version 0.20 to 100 in 0.22.\n",
      "  \"10 in version 0.20 to 100 in 0.22.\", FutureWarning)\n",
      "/Users/marikitamarinaki/anaconda3/lib/python3.7/site-packages/sklearn/ensemble/forest.py:246: FutureWarning: The default value of n_estimators will change from 10 in version 0.20 to 100 in 0.22.\n",
      "  \"10 in version 0.20 to 100 in 0.22.\", FutureWarning)\n",
      "/Users/marikitamarinaki/anaconda3/lib/python3.7/site-packages/sklearn/ensemble/forest.py:246: FutureWarning: The default value of n_estimators will change from 10 in version 0.20 to 100 in 0.22.\n",
      "  \"10 in version 0.20 to 100 in 0.22.\", FutureWarning)\n",
      "/Users/marikitamarinaki/anaconda3/lib/python3.7/site-packages/sklearn/ensemble/forest.py:246: FutureWarning: The default value of n_estimators will change from 10 in version 0.20 to 100 in 0.22.\n",
      "  \"10 in version 0.20 to 100 in 0.22.\", FutureWarning)\n",
      "/Users/marikitamarinaki/anaconda3/lib/python3.7/site-packages/sklearn/ensemble/forest.py:246: FutureWarning: The default value of n_estimators will change from 10 in version 0.20 to 100 in 0.22.\n",
      "  \"10 in version 0.20 to 100 in 0.22.\", FutureWarning)\n"
     ]
    }
   ],
   "source": [
    "scores = cross_val_score(rf,X_train,y_train, cv=5)\n",
    "scores               \n",
    "print(\"Accuracy: %0.2f (+/- %0.2f)\" % (scores.mean(), scores.std() * 2))"
   ]
  },
  {
   "cell_type": "markdown",
   "metadata": {},
   "source": [
    "## Pathways"
   ]
  },
  {
   "cell_type": "code",
   "execution_count": 67,
   "metadata": {},
   "outputs": [],
   "source": [
    "X_pa = pathways[['Group', 'Age', 'Gender', 'BMI', 'Steps',\n",
    "       'path:hsa03040-mean', 'path:hsa03040-variance', 'path:hsa03050-mean',\n",
    "       'path:hsa03050-variance', 'path:hsa03060-mean',\n",
    "       'path:hsa03060-variance', 'path:hsa04130-mean',\n",
    "       'path:hsa04130-variance', 'path:hsa04141-mean',\n",
    "       'path:hsa04141-variance', 'path:hsa04662-mean',\n",
    "       'path:hsa04662-variance', 'path:hsa05220-mean',\n",
    "       'path:hsa05220-variance']]\n",
    "Y_pa =pathways['Weight_loss_band']                  \n",
    "X_train, X_test, y_train, y_test = train_test_split(X_pa,Y_pa, test_size = 0.2, random_state=42)"
   ]
  },
  {
   "cell_type": "code",
   "execution_count": 68,
   "metadata": {},
   "outputs": [
    {
     "name": "stdout",
     "output_type": "stream",
     "text": [
      "Fitting 3 folds for each of 100 candidates, totalling 300 fits\n"
     ]
    },
    {
     "name": "stderr",
     "output_type": "stream",
     "text": [
      "[Parallel(n_jobs=-1)]: Using backend LokyBackend with 4 concurrent workers.\n",
      "[Parallel(n_jobs=-1)]: Done  99 tasks      | elapsed:    7.8s\n",
      "[Parallel(n_jobs=-1)]: Done 220 tasks      | elapsed:   15.2s\n",
      "[Parallel(n_jobs=-1)]: Done 300 out of 300 | elapsed:   20.1s finished\n",
      "/Users/marikitamarinaki/anaconda3/lib/python3.7/site-packages/sklearn/model_selection/_search.py:841: DeprecationWarning: The default of the `iid` parameter will change from True to False in version 0.22 and will be removed in 0.24. This will change numeric results when test-set sizes are unequal.\n",
      "  DeprecationWarning)\n"
     ]
    },
    {
     "data": {
      "text/plain": [
       "{'n_estimators': 62,\n",
       " 'min_samples_split': 2,\n",
       " 'min_samples_leaf': 3,\n",
       " 'max_features': 'auto',\n",
       " 'max_depth': 2,\n",
       " 'bootstrap': False}"
      ]
     },
     "execution_count": 68,
     "metadata": {},
     "output_type": "execute_result"
    }
   ],
   "source": [
    "rf = RandomForestClassifier()\n",
    "rf_random= RandomizedSearchCV(estimator = rf, param_distributions = random_grid, \n",
    "                               n_iter = 100, cv = 3, verbose=2, \n",
    "                               random_state=42, n_jobs = -1)\n",
    "\n",
    "rf_random.fit(X_train, y_train)\n",
    "rf_random.best_params_"
   ]
  },
  {
   "cell_type": "code",
   "execution_count": 69,
   "metadata": {},
   "outputs": [
    {
     "data": {
      "image/png": "[encoded data removed]",
      "text/plain": [
       "<Figure size 432x288 with 1 Axes>"
      ]
     },
     "metadata": {
      "needs_background": "light"
     },
     "output_type": "display_data"
    }
   ],
   "source": [
    "random_forest = RandomForestClassifier(n_estimators = 273,\n",
    " min_samples_split = 5,\n",
    " min_samples_leaf = 3,\n",
    " max_features = 'sqrt',\n",
    " criterion = 'entropy',\n",
    " max_depth = 2,\n",
    " bootstrap = True)\n",
    "random_forest.fit(X_train,y_train)\n",
    "y_pred = random_forest.predict(X_test)\n",
    "importance = pd.Series(random_forest.feature_importances_, index=X_pa.columns)\n",
    "importance.nlargest(10).plot(kind='bar');\n",
    "plt.show()"
   ]
  },
  {
   "cell_type": "code",
   "execution_count": 79,
   "metadata": {},
   "outputs": [
    {
     "name": "stdout",
     "output_type": "stream",
     "text": [
      "Mean Training Accuracy: 0.912745545911375\n",
      "Mean Test Accuracy: 0.614321608040201\n",
      "0.12143952958386035\n",
      "AUC score equals 0.5350908583320644\n",
      "Standard Deviation for auc score 0.13826336112088103\n"
     ]
    }
   ],
   "source": [
    "random_state = list(range(1,200))\n",
    "\n",
    "d1_train_acc = []\n",
    "d1_test_acc = []\n",
    "d1_auc_score = []\n",
    "\n",
    "for i in random_state :\n",
    "    \n",
    "    X_pa = pathways[['Group', 'Age', 'Gender', 'BMI', 'Steps',\n",
    "       'path:hsa03040-mean', 'path:hsa03040-variance', 'path:hsa03050-mean',\n",
    "       'path:hsa03050-variance', 'path:hsa03060-mean',\n",
    "       'path:hsa03060-variance', 'path:hsa04130-mean',\n",
    "       'path:hsa04130-variance', 'path:hsa04141-mean',\n",
    "       'path:hsa04141-variance', 'path:hsa04662-mean',\n",
    "       'path:hsa04662-variance', 'path:hsa05220-mean',\n",
    "       'path:hsa05220-variance']]\n",
    "    Y_pa = pathways['Weight_loss_band']\n",
    "    \n",
    "    X_train, X_test, y_train, y_test= train_test_split(X_pa,Y_pa, test_size = 0.2, random_state = i) \n",
    "    \n",
    "    random_forest= RandomForestClassifier(n_estimators = 104,\n",
    "     min_samples_split = 10,\n",
    "     min_samples_leaf = 3,\n",
    "     max_features = 'auto',\n",
    "     max_depth = 2,\n",
    "     bootstrap =  False)\n",
    "    \n",
    "    random_forest.fit(X_train,y_train)\n",
    "    y_pred = random_forest.predict(X_test) \n",
    "\n",
    "    rf_train_acc = random_forest.score(X_train, y_train)\n",
    "    rf_test_acc = accuracy_score(y_test,y_pred)\n",
    "    auc_score = roc_auc_score(y_test,y_pred)\n",
    "\n",
    "    d1_train_acc.append(rf_train_acc)\n",
    "    d1_test_acc.append(rf_test_acc)\n",
    "    d1_auc_score.append(auc_score)\n",
    "    \n",
    "\n",
    "print('Mean Training Accuracy:', np.mean(d1_train_acc)) \n",
    "print('Mean Test Accuracy:', np.mean(d1_test_acc))\n",
    "print(statistics.stdev(d1_test_acc))\n",
    "\n",
    "print('AUC score equals',np.mean(d1_auc_score))\n",
    "print('Standard Deviation for auc score',statistics.stdev(d1_auc_score))"
   ]
  },
  {
   "cell_type": "code",
   "execution_count": 80,
   "metadata": {},
   "outputs": [
    {
     "name": "stdout",
     "output_type": "stream",
     "text": [
      "Accuracy: 0.59 (+/- 0.13)\n"
     ]
    },
    {
     "name": "stderr",
     "output_type": "stream",
     "text": [
      "/Users/marikitamarinaki/anaconda3/lib/python3.7/site-packages/sklearn/ensemble/forest.py:246: FutureWarning: The default value of n_estimators will change from 10 in version 0.20 to 100 in 0.22.\n",
      "  \"10 in version 0.20 to 100 in 0.22.\", FutureWarning)\n",
      "/Users/marikitamarinaki/anaconda3/lib/python3.7/site-packages/sklearn/ensemble/forest.py:246: FutureWarning: The default value of n_estimators will change from 10 in version 0.20 to 100 in 0.22.\n",
      "  \"10 in version 0.20 to 100 in 0.22.\", FutureWarning)\n",
      "/Users/marikitamarinaki/anaconda3/lib/python3.7/site-packages/sklearn/ensemble/forest.py:246: FutureWarning: The default value of n_estimators will change from 10 in version 0.20 to 100 in 0.22.\n",
      "  \"10 in version 0.20 to 100 in 0.22.\", FutureWarning)\n",
      "/Users/marikitamarinaki/anaconda3/lib/python3.7/site-packages/sklearn/ensemble/forest.py:246: FutureWarning: The default value of n_estimators will change from 10 in version 0.20 to 100 in 0.22.\n",
      "  \"10 in version 0.20 to 100 in 0.22.\", FutureWarning)\n",
      "/Users/marikitamarinaki/anaconda3/lib/python3.7/site-packages/sklearn/ensemble/forest.py:246: FutureWarning: The default value of n_estimators will change from 10 in version 0.20 to 100 in 0.22.\n",
      "  \"10 in version 0.20 to 100 in 0.22.\", FutureWarning)\n"
     ]
    }
   ],
   "source": [
    "scores = cross_val_score(rf,X_train,y_train, cv=5)\n",
    "scores               \n",
    "print(\"Accuracy: %0.2f (+/- %0.2f)\" % (scores.mean(), scores.std() * 2))"
   ]
  },
  {
   "cell_type": "markdown",
   "metadata": {},
   "source": [
    "## Extra model without some pathways"
   ]
  },
  {
   "cell_type": "code",
   "execution_count": 74,
   "metadata": {},
   "outputs": [
    {
     "name": "stdout",
     "output_type": "stream",
     "text": [
      "Mean Training Accuracy: 0.9034947464595706\n",
      "Mean Test Accuracy: 0.6046901172529313\n",
      "0.12393339105387169\n",
      "AUC score equals 0.5272677420290486\n",
      "Standard Deviation for auc score 0.13330975088796324\n"
     ]
    }
   ],
   "source": [
    "random_state = list(range(1,200))\n",
    "\n",
    "d1_train_acc = []\n",
    "d1_test_acc = []\n",
    "d1_auc_score = []\n",
    "\n",
    "for i in random_state :\n",
    "    \n",
    "    X_pa = pathways[['Group', 'Age', 'Gender', 'BMI', 'Steps',\n",
    "       'path:hsa03040-mean', 'path:hsa03040-variance', 'path:hsa03050-mean',\n",
    "       'path:hsa03050-variance', 'path:hsa03060-mean',\n",
    "       'path:hsa03060-variance']]\n",
    "    Y_pa = pathways['Weight_loss_band']\n",
    "    \n",
    "    X_train, X_test, y_train, y_test= train_test_split(X_pa,Y_pa, test_size = 0.2, random_state = i) \n",
    "    \n",
    "    random_forest= RandomForestClassifier(n_estimators = 104,\n",
    "     min_samples_split = 10,\n",
    "     min_samples_leaf = 3,\n",
    "     max_features = 'auto',\n",
    "     max_depth = 2,\n",
    "     bootstrap =  False)\n",
    "    \n",
    "    random_forest.fit(X_train,y_train)\n",
    "    y_pred = random_forest.predict(X_test) \n",
    "\n",
    "    rf_train_acc = random_forest.score(X_train, y_train)\n",
    "    rf_test_acc = accuracy_score(y_test,y_pred)\n",
    "    auc_score = roc_auc_score(y_test,y_pred)\n",
    "\n",
    "    d1_train_acc.append(rf_train_acc)\n",
    "    d1_test_acc.append(rf_test_acc)\n",
    "    d1_auc_score.append(auc_score)\n",
    "    \n",
    "\n",
    "print('Mean Training Accuracy:', np.mean(d1_train_acc)) \n",
    "print('Mean Test Accuracy:', np.mean(d1_test_acc))\n",
    "print(statistics.stdev(d1_test_acc))\n",
    "\n",
    "print('AUC score equals',np.mean(d1_auc_score))\n",
    "print('Standard Deviation for auc score',statistics.stdev(d1_auc_score))"
   ]
  },
  {
   "cell_type": "code",
   "execution_count": 78,
   "metadata": {},
   "outputs": [
    {
     "name": "stdout",
     "output_type": "stream",
     "text": [
      "Accuracy: 0.61 (+/- 0.14)\n"
     ]
    },
    {
     "name": "stderr",
     "output_type": "stream",
     "text": [
      "/Users/marikitamarinaki/anaconda3/lib/python3.7/site-packages/sklearn/ensemble/forest.py:246: FutureWarning: The default value of n_estimators will change from 10 in version 0.20 to 100 in 0.22.\n",
      "  \"10 in version 0.20 to 100 in 0.22.\", FutureWarning)\n",
      "/Users/marikitamarinaki/anaconda3/lib/python3.7/site-packages/sklearn/ensemble/forest.py:246: FutureWarning: The default value of n_estimators will change from 10 in version 0.20 to 100 in 0.22.\n",
      "  \"10 in version 0.20 to 100 in 0.22.\", FutureWarning)\n",
      "/Users/marikitamarinaki/anaconda3/lib/python3.7/site-packages/sklearn/ensemble/forest.py:246: FutureWarning: The default value of n_estimators will change from 10 in version 0.20 to 100 in 0.22.\n",
      "  \"10 in version 0.20 to 100 in 0.22.\", FutureWarning)\n",
      "/Users/marikitamarinaki/anaconda3/lib/python3.7/site-packages/sklearn/ensemble/forest.py:246: FutureWarning: The default value of n_estimators will change from 10 in version 0.20 to 100 in 0.22.\n",
      "  \"10 in version 0.20 to 100 in 0.22.\", FutureWarning)\n",
      "/Users/marikitamarinaki/anaconda3/lib/python3.7/site-packages/sklearn/ensemble/forest.py:246: FutureWarning: The default value of n_estimators will change from 10 in version 0.20 to 100 in 0.22.\n",
      "  \"10 in version 0.20 to 100 in 0.22.\", FutureWarning)\n"
     ]
    }
   ],
   "source": [
    "scores = cross_val_score(rf,X_train,y_train, cv=5)\n",
    "scores               \n",
    "print(\"Accuracy: %0.2f (+/- %0.2f)\" % (scores.mean(), scores.std() * 2))"
   ]
  },
  {
   "cell_type": "markdown",
   "metadata": {},
   "source": [
    "## PCA"
   ]
  },
  {
   "cell_type": "code",
   "execution_count": 91,
   "metadata": {},
   "outputs": [],
   "source": [
    "X= pcs[['PC1', 'PC2', 'PC3', 'PC4', 'PC5','Steps','Gender','BMI']]\n",
    "Y = pcs['Weight_loss_band']                \n",
    "X_train, X_test, y_train, y_test= train_test_split(X,Y, test_size = 0.3, random_state=42)"
   ]
  },
  {
   "cell_type": "code",
   "execution_count": 93,
   "metadata": {},
   "outputs": [
    {
     "name": "stdout",
     "output_type": "stream",
     "text": [
      "Fitting 3 folds for each of 100 candidates, totalling 300 fits\n"
     ]
    },
    {
     "name": "stderr",
     "output_type": "stream",
     "text": [
      "[Parallel(n_jobs=-1)]: Using backend LokyBackend with 4 concurrent workers.\n",
      "[Parallel(n_jobs=-1)]: Done  33 tasks      | elapsed:    4.7s\n",
      "[Parallel(n_jobs=-1)]: Done 154 tasks      | elapsed:   13.6s\n",
      "[Parallel(n_jobs=-1)]: Done 300 out of 300 | elapsed:   22.8s finished\n",
      "/Users/marikitamarinaki/anaconda3/lib/python3.7/site-packages/sklearn/model_selection/_search.py:841: DeprecationWarning: The default of the `iid` parameter will change from True to False in version 0.22 and will be removed in 0.24. This will change numeric results when test-set sizes are unequal.\n",
      "  DeprecationWarning)\n"
     ]
    },
    {
     "data": {
      "text/plain": [
       "{'n_estimators': 315,\n",
       " 'min_samples_split': 7,\n",
       " 'min_samples_leaf': 2,\n",
       " 'max_features': 'auto',\n",
       " 'max_depth': 14,\n",
       " 'bootstrap': False}"
      ]
     },
     "execution_count": 93,
     "metadata": {},
     "output_type": "execute_result"
    }
   ],
   "source": [
    "rf = RandomForestClassifier()\n",
    "rf_random= RandomizedSearchCV(estimator = rf, param_distributions = random_grid, \n",
    "                               n_iter = 100, cv = 3, verbose=2, \n",
    "                               random_state=42, n_jobs = -1)\n",
    "\n",
    "rf_random.fit(X_train, y_train)\n",
    "rf_random.best_params_"
   ]
  },
  {
   "cell_type": "code",
   "execution_count": 94,
   "metadata": {},
   "outputs": [
    {
     "data": {
      "image/png": "[encoded data removed]",
      "text/plain": [
       "<Figure size 432x288 with 1 Axes>"
      ]
     },
     "metadata": {
      "needs_background": "light"
     },
     "output_type": "display_data"
    }
   ],
   "source": [
    "random_forest= RandomForestClassifier(n_estimators = 315,\n",
    " min_samples_split = 7,\n",
    " min_samples_leaf = 2,\n",
    " max_features = 'auto',\n",
    " max_depth = 14,\n",
    " bootstrap = False , random_state = 42)\n",
    "random_forest.fit(X_train,y_train)\n",
    "y_pred = random_forest.predict(X_test)\n",
    "importance = pd.Series(random_forest.feature_importances_, index=X.columns)\n",
    "importance.nlargest(10).plot(kind='bar');\n",
    "plt.show()"
   ]
  },
  {
   "cell_type": "code",
   "execution_count": 99,
   "metadata": {},
   "outputs": [
    {
     "name": "stdout",
     "output_type": "stream",
     "text": [
      "Mean Training Accuracy: 0.9987437185929648\n",
      "Mean Test Accuracy: 0.6654103852596316\n",
      "0.11799311686166586\n",
      "AUC score equals 0.6060452877663933\n",
      "Standard Deviation for auc score 0.1392229974682876\n"
     ]
    }
   ],
   "source": [
    "random_state = list(range(1,200))\n",
    "\n",
    "d1_train_acc = []\n",
    "d1_test_acc = []\n",
    "d1_auc_score = []\n",
    "\n",
    "for i in random_state :\n",
    "    \n",
    "    X_pcs = pcs[['PC3', 'PC2', 'PC5', 'Gender', 'BMI', 'Steps']]\n",
    "    Y_pcs = pcs['Weight_loss_band']\n",
    "    \n",
    "    X_train, X_test, y_train, y_test= train_test_split(X_pcs,Y_pcs, test_size = 0.2, random_state = i) \n",
    "    \n",
    "    random_forest= RandomForestClassifier(n_estimators = 315,\n",
    "     min_samples_split = 7,\n",
    "     min_samples_leaf = 2,\n",
    "     max_features = 'auto',\n",
    "     max_depth = 14,\n",
    "     bootstrap = False)\n",
    "    \n",
    "    random_forest.fit(X_train,y_train)\n",
    "    y_pred = random_forest.predict(X_test) \n",
    "\n",
    "    rf_train_acc = random_forest.score(X_train, y_train)\n",
    "    rf_test_acc = accuracy_score(y_test,y_pred)\n",
    "    auc_score = roc_auc_score(y_test,y_pred)\n",
    "\n",
    "    d1_train_acc.append(rf_train_acc)\n",
    "    d1_test_acc.append(rf_test_acc)\n",
    "    d1_auc_score.append(auc_score)\n",
    "    \n",
    "\n",
    "print('Mean Training Accuracy:', np.mean(d1_train_acc)) \n",
    "print('Mean Test Accuracy:', np.mean(d1_test_acc))\n",
    "print(statistics.stdev(d1_test_acc))\n",
    "\n",
    "print('AUC score equals',np.mean(d1_auc_score))\n",
    "print('Standard Deviation for auc score',statistics.stdev(d1_auc_score))"
   ]
  },
  {
   "cell_type": "code",
   "execution_count": 109,
   "metadata": {},
   "outputs": [
    {
     "name": "stdout",
     "output_type": "stream",
     "text": [
      "Accuracy: 0.57 (+/- 0.34)\n"
     ]
    },
    {
     "name": "stderr",
     "output_type": "stream",
     "text": [
      "/Users/marikitamarinaki/anaconda3/lib/python3.7/site-packages/sklearn/ensemble/forest.py:246: FutureWarning: The default value of n_estimators will change from 10 in version 0.20 to 100 in 0.22.\n",
      "  \"10 in version 0.20 to 100 in 0.22.\", FutureWarning)\n",
      "/Users/marikitamarinaki/anaconda3/lib/python3.7/site-packages/sklearn/ensemble/forest.py:246: FutureWarning: The default value of n_estimators will change from 10 in version 0.20 to 100 in 0.22.\n",
      "  \"10 in version 0.20 to 100 in 0.22.\", FutureWarning)\n",
      "/Users/marikitamarinaki/anaconda3/lib/python3.7/site-packages/sklearn/ensemble/forest.py:246: FutureWarning: The default value of n_estimators will change from 10 in version 0.20 to 100 in 0.22.\n",
      "  \"10 in version 0.20 to 100 in 0.22.\", FutureWarning)\n",
      "/Users/marikitamarinaki/anaconda3/lib/python3.7/site-packages/sklearn/ensemble/forest.py:246: FutureWarning: The default value of n_estimators will change from 10 in version 0.20 to 100 in 0.22.\n",
      "  \"10 in version 0.20 to 100 in 0.22.\", FutureWarning)\n",
      "/Users/marikitamarinaki/anaconda3/lib/python3.7/site-packages/sklearn/ensemble/forest.py:246: FutureWarning: The default value of n_estimators will change from 10 in version 0.20 to 100 in 0.22.\n",
      "  \"10 in version 0.20 to 100 in 0.22.\", FutureWarning)\n"
     ]
    }
   ],
   "source": [
    "scores = cross_val_score(rf,X_train,y_train, cv=5)\n",
    "scores               \n",
    "print(\"Accuracy: %0.2f (+/- %0.2f)\" % (scores.mean(), scores.std() * 2))"
   ]
  },
  {
   "cell_type": "code",
   "execution_count": null,
   "metadata": {},
   "outputs": [],
   "source": []
  }
 ],
 "metadata": {
  "kernelspec": {
   "display_name": "Python 3",
   "language": "python",
   "name": "python3"
  },
  "language_info": {
   "codemirror_mode": {
    "name": "ipython",
    "version": 3
   },
   "file_extension": ".py",
   "mimetype": "text/x-python",
   "name": "python",
   "nbconvert_exporter": "python",
   "pygments_lexer": "ipython3",
   "version": "3.7.1"
  }
 },
 "nbformat": 4,
 "nbformat_minor": 2
}
