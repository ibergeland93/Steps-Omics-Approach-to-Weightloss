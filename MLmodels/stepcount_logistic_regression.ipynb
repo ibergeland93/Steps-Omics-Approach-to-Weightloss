{
 "cells": [
  {
   "cell_type": "code",
   "execution_count": 1,
   "metadata": {},
   "outputs": [],
   "source": [
    "# No warnings\n",
    "import warnings\n",
    "warnings.filterwarnings('ignore') # Filter out warnings\n",
    "\n",
    "# data analysis and wrangling\n",
    "import pandas as pd\n",
    "import numpy as np\n",
    "\n",
    "# machine learning\n",
    "from sklearn.linear_model import LogisticRegression"
   ]
  },
  {
   "cell_type": "code",
   "execution_count": 2,
   "metadata": {},
   "outputs": [],
   "source": [
    "data = pd.read_csv('logisticStepData.csv')\n",
    "\n",
    "#index_col='studyID'"
   ]
  },
  {
   "cell_type": "code",
   "execution_count": 3,
   "metadata": {
    "scrolled": true
   },
   "outputs": [
    {
     "data": {
      "text/html": [
       "<div>\n",
       "<style scoped>\n",
       "    .dataframe tbody tr th:only-of-type {\n",
       "        vertical-align: middle;\n",
       "    }\n",
       "\n",
       "    .dataframe tbody tr th {\n",
       "        vertical-align: top;\n",
       "    }\n",
       "\n",
       "    .dataframe thead th {\n",
       "        text-align: right;\n",
       "    }\n",
       "</style>\n",
       "<table border=\"1\" class=\"dataframe\">\n",
       "  <thead>\n",
       "    <tr style=\"text-align: right;\">\n",
       "      <th></th>\n",
       "      <th>studyID</th>\n",
       "      <th>Group</th>\n",
       "      <th>Age</th>\n",
       "      <th>Gender</th>\n",
       "      <th>BMI</th>\n",
       "      <th>Weight_loss</th>\n",
       "    </tr>\n",
       "  </thead>\n",
       "  <tbody>\n",
       "    <tr>\n",
       "      <th>0</th>\n",
       "      <td>2001</td>\n",
       "      <td>Blue</td>\n",
       "      <td>28</td>\n",
       "      <td>0</td>\n",
       "      <td>36.24</td>\n",
       "      <td>0.1170</td>\n",
       "    </tr>\n",
       "    <tr>\n",
       "      <th>1</th>\n",
       "      <td>2002</td>\n",
       "      <td>Red</td>\n",
       "      <td>38</td>\n",
       "      <td>1</td>\n",
       "      <td>35.71</td>\n",
       "      <td>0.0225</td>\n",
       "    </tr>\n",
       "    <tr>\n",
       "      <th>2</th>\n",
       "      <td>2003</td>\n",
       "      <td>Blue</td>\n",
       "      <td>26</td>\n",
       "      <td>1</td>\n",
       "      <td>42.80</td>\n",
       "      <td>-0.0080</td>\n",
       "    </tr>\n",
       "    <tr>\n",
       "      <th>3</th>\n",
       "      <td>2004</td>\n",
       "      <td>Red</td>\n",
       "      <td>60</td>\n",
       "      <td>0</td>\n",
       "      <td>26.72</td>\n",
       "      <td>0.0942</td>\n",
       "    </tr>\n",
       "    <tr>\n",
       "      <th>4</th>\n",
       "      <td>2006</td>\n",
       "      <td>Red</td>\n",
       "      <td>48</td>\n",
       "      <td>1</td>\n",
       "      <td>43.89</td>\n",
       "      <td>-0.0017</td>\n",
       "    </tr>\n",
       "  </tbody>\n",
       "</table>\n",
       "</div>"
      ],
      "text/plain": [
       "   studyID Group  Age  Gender    BMI  Weight_loss\n",
       "0     2001  Blue   28       0  36.24       0.1170\n",
       "1     2002   Red   38       1  35.71       0.0225\n",
       "2     2003  Blue   26       1  42.80      -0.0080\n",
       "3     2004   Red   60       0  26.72       0.0942\n",
       "4     2006   Red   48       1  43.89      -0.0017"
      ]
     },
     "execution_count": 3,
     "metadata": {},
     "output_type": "execute_result"
    }
   ],
   "source": [
    "data.head()"
   ]
  },
  {
   "cell_type": "code",
   "execution_count": 4,
   "metadata": {},
   "outputs": [
    {
     "data": {
      "text/html": [
       "<div>\n",
       "<style scoped>\n",
       "    .dataframe tbody tr th:only-of-type {\n",
       "        vertical-align: middle;\n",
       "    }\n",
       "\n",
       "    .dataframe tbody tr th {\n",
       "        vertical-align: top;\n",
       "    }\n",
       "\n",
       "    .dataframe thead th {\n",
       "        text-align: right;\n",
       "    }\n",
       "</style>\n",
       "<table border=\"1\" class=\"dataframe\">\n",
       "  <thead>\n",
       "    <tr style=\"text-align: right;\">\n",
       "      <th></th>\n",
       "      <th>studyID</th>\n",
       "      <th>Age</th>\n",
       "      <th>Gender</th>\n",
       "      <th>BMI</th>\n",
       "      <th>Weight_loss</th>\n",
       "    </tr>\n",
       "  </thead>\n",
       "  <tbody>\n",
       "    <tr>\n",
       "      <th>count</th>\n",
       "      <td>57.000000</td>\n",
       "      <td>57.000000</td>\n",
       "      <td>57.00000</td>\n",
       "      <td>57.000000</td>\n",
       "      <td>57.000000</td>\n",
       "    </tr>\n",
       "    <tr>\n",
       "      <th>mean</th>\n",
       "      <td>2043.596491</td>\n",
       "      <td>43.157895</td>\n",
       "      <td>0.54386</td>\n",
       "      <td>29.453509</td>\n",
       "      <td>0.025940</td>\n",
       "    </tr>\n",
       "    <tr>\n",
       "      <th>std</th>\n",
       "      <td>25.247249</td>\n",
       "      <td>12.387767</td>\n",
       "      <td>0.50250</td>\n",
       "      <td>4.922317</td>\n",
       "      <td>0.100527</td>\n",
       "    </tr>\n",
       "    <tr>\n",
       "      <th>min</th>\n",
       "      <td>2001.000000</td>\n",
       "      <td>25.000000</td>\n",
       "      <td>0.00000</td>\n",
       "      <td>17.710000</td>\n",
       "      <td>-0.589600</td>\n",
       "    </tr>\n",
       "    <tr>\n",
       "      <th>25%</th>\n",
       "      <td>2024.000000</td>\n",
       "      <td>33.000000</td>\n",
       "      <td>0.00000</td>\n",
       "      <td>26.630000</td>\n",
       "      <td>0.012400</td>\n",
       "    </tr>\n",
       "    <tr>\n",
       "      <th>50%</th>\n",
       "      <td>2044.000000</td>\n",
       "      <td>42.000000</td>\n",
       "      <td>1.00000</td>\n",
       "      <td>28.520000</td>\n",
       "      <td>0.036100</td>\n",
       "    </tr>\n",
       "    <tr>\n",
       "      <th>75%</th>\n",
       "      <td>2066.000000</td>\n",
       "      <td>52.000000</td>\n",
       "      <td>1.00000</td>\n",
       "      <td>31.410000</td>\n",
       "      <td>0.059100</td>\n",
       "    </tr>\n",
       "    <tr>\n",
       "      <th>max</th>\n",
       "      <td>2085.000000</td>\n",
       "      <td>78.000000</td>\n",
       "      <td>1.00000</td>\n",
       "      <td>43.890000</td>\n",
       "      <td>0.153600</td>\n",
       "    </tr>\n",
       "  </tbody>\n",
       "</table>\n",
       "</div>"
      ],
      "text/plain": [
       "           studyID        Age    Gender        BMI  Weight_loss\n",
       "count    57.000000  57.000000  57.00000  57.000000    57.000000\n",
       "mean   2043.596491  43.157895   0.54386  29.453509     0.025940\n",
       "std      25.247249  12.387767   0.50250   4.922317     0.100527\n",
       "min    2001.000000  25.000000   0.00000  17.710000    -0.589600\n",
       "25%    2024.000000  33.000000   0.00000  26.630000     0.012400\n",
       "50%    2044.000000  42.000000   1.00000  28.520000     0.036100\n",
       "75%    2066.000000  52.000000   1.00000  31.410000     0.059100\n",
       "max    2085.000000  78.000000   1.00000  43.890000     0.153600"
      ]
     },
     "execution_count": 4,
     "metadata": {},
     "output_type": "execute_result"
    }
   ],
   "source": [
    "data.describe()"
   ]
  },
  {
   "cell_type": "code",
   "execution_count": 5,
   "metadata": {
    "scrolled": true
   },
   "outputs": [
    {
     "data": {
      "text/html": [
       "<div>\n",
       "<style scoped>\n",
       "    .dataframe tbody tr th:only-of-type {\n",
       "        vertical-align: middle;\n",
       "    }\n",
       "\n",
       "    .dataframe tbody tr th {\n",
       "        vertical-align: top;\n",
       "    }\n",
       "\n",
       "    .dataframe thead th {\n",
       "        text-align: right;\n",
       "    }\n",
       "</style>\n",
       "<table border=\"1\" class=\"dataframe\">\n",
       "  <thead>\n",
       "    <tr style=\"text-align: right;\">\n",
       "      <th></th>\n",
       "      <th>studyID</th>\n",
       "      <th>Group</th>\n",
       "      <th>Age</th>\n",
       "      <th>Gender</th>\n",
       "      <th>BMI</th>\n",
       "      <th>Weight_loss</th>\n",
       "    </tr>\n",
       "  </thead>\n",
       "  <tbody>\n",
       "    <tr>\n",
       "      <th>0</th>\n",
       "      <td>2001</td>\n",
       "      <td>0</td>\n",
       "      <td>28</td>\n",
       "      <td>0</td>\n",
       "      <td>36.24</td>\n",
       "      <td>0.1170</td>\n",
       "    </tr>\n",
       "    <tr>\n",
       "      <th>1</th>\n",
       "      <td>2002</td>\n",
       "      <td>1</td>\n",
       "      <td>38</td>\n",
       "      <td>1</td>\n",
       "      <td>35.71</td>\n",
       "      <td>0.0225</td>\n",
       "    </tr>\n",
       "    <tr>\n",
       "      <th>2</th>\n",
       "      <td>2003</td>\n",
       "      <td>0</td>\n",
       "      <td>26</td>\n",
       "      <td>1</td>\n",
       "      <td>42.80</td>\n",
       "      <td>-0.0080</td>\n",
       "    </tr>\n",
       "    <tr>\n",
       "      <th>3</th>\n",
       "      <td>2004</td>\n",
       "      <td>1</td>\n",
       "      <td>60</td>\n",
       "      <td>0</td>\n",
       "      <td>26.72</td>\n",
       "      <td>0.0942</td>\n",
       "    </tr>\n",
       "    <tr>\n",
       "      <th>4</th>\n",
       "      <td>2006</td>\n",
       "      <td>1</td>\n",
       "      <td>48</td>\n",
       "      <td>1</td>\n",
       "      <td>43.89</td>\n",
       "      <td>-0.0017</td>\n",
       "    </tr>\n",
       "  </tbody>\n",
       "</table>\n",
       "</div>"
      ],
      "text/plain": [
       "   studyID  Group  Age  Gender    BMI  Weight_loss\n",
       "0     2001      0   28       0  36.24       0.1170\n",
       "1     2002      1   38       1  35.71       0.0225\n",
       "2     2003      0   26       1  42.80      -0.0080\n",
       "3     2004      1   60       0  26.72       0.0942\n",
       "4     2006      1   48       1  43.89      -0.0017"
      ]
     },
     "execution_count": 5,
     "metadata": {},
     "output_type": "execute_result"
    }
   ],
   "source": [
    "mapping = {'Blue': 0, 'Red': 1}\n",
    "\n",
    "df=data.replace({'Group': mapping})\n",
    "df.head()"
   ]
  },
  {
   "cell_type": "code",
   "execution_count": null,
   "metadata": {},
   "outputs": [],
   "source": [
    "# Age_band=[]\n",
    "# for a in df['Age']:\n",
    "#     if a>=25 and a <35:\n",
    "#         Age_band.append(0)\n",
    "#     elif a>=35 and a <45:\n",
    "#         Age_band.append(1)\n",
    "#     elif a>=45 and a <55:\n",
    "#         Age_band.append(2)\n",
    "#     elif a>=55 and a <65:\n",
    "#         Age_band.append(3)\n",
    "#     elif a>=65:\n",
    "#         Age_band.append(4)\n",
    "        \n",
    "# df['Age_band']=Age_band\n",
    "# df=df.drop('Age',axis=1)\n",
    " \n",
    "# df.head()"
   ]
  },
  {
   "cell_type": "code",
   "execution_count": null,
   "metadata": {},
   "outputs": [],
   "source": [
    "# BMI_band=[]\n",
    "# for b in df['BMI']:\n",
    "#     if b>=10 and b <20:\n",
    "#         BMI_band.append(0)\n",
    "#     elif b>=20 and b <30:\n",
    "#         BMI_band.append(1)\n",
    "#     elif b>=30 and b <40:\n",
    "#         BMI_band.append(2)\n",
    "#     elif b>=30:\n",
    "#         BMI_band.append(3)\n",
    "        \n",
    "# df['BMI_band']=BMI_band\n",
    "# df=df.drop('BMI',axis=1)\n",
    " \n",
    "# df.head()"
   ]
  },
  {
   "cell_type": "code",
   "execution_count": 6,
   "metadata": {},
   "outputs": [],
   "source": [
    "Weight_loss_band=[]\n",
    "for w in df['Weight_loss']:\n",
    "    if w <0.05:\n",
    "        Weight_loss_band.append(0)\n",
    "    elif w>=0.05:\n",
    "        Weight_loss_band.append(1)\n",
    "        \n",
    "df['Weight_loss_band']=Weight_loss_band\n",
    "df=df.drop('Weight_loss',axis=1)\n"
   ]
  },
  {
   "cell_type": "code",
   "execution_count": 7,
   "metadata": {},
   "outputs": [
    {
     "data": {
      "text/html": [
       "<div>\n",
       "<style scoped>\n",
       "    .dataframe tbody tr th:only-of-type {\n",
       "        vertical-align: middle;\n",
       "    }\n",
       "\n",
       "    .dataframe tbody tr th {\n",
       "        vertical-align: top;\n",
       "    }\n",
       "\n",
       "    .dataframe thead th {\n",
       "        text-align: right;\n",
       "    }\n",
       "</style>\n",
       "<table border=\"1\" class=\"dataframe\">\n",
       "  <thead>\n",
       "    <tr style=\"text-align: right;\">\n",
       "      <th></th>\n",
       "      <th>studyID</th>\n",
       "      <th>Group</th>\n",
       "      <th>Age</th>\n",
       "      <th>Gender</th>\n",
       "      <th>BMI</th>\n",
       "      <th>Weight_loss_band</th>\n",
       "    </tr>\n",
       "  </thead>\n",
       "  <tbody>\n",
       "    <tr>\n",
       "      <th>0</th>\n",
       "      <td>2001</td>\n",
       "      <td>0</td>\n",
       "      <td>28</td>\n",
       "      <td>0</td>\n",
       "      <td>36.24</td>\n",
       "      <td>1</td>\n",
       "    </tr>\n",
       "    <tr>\n",
       "      <th>1</th>\n",
       "      <td>2002</td>\n",
       "      <td>1</td>\n",
       "      <td>38</td>\n",
       "      <td>1</td>\n",
       "      <td>35.71</td>\n",
       "      <td>0</td>\n",
       "    </tr>\n",
       "    <tr>\n",
       "      <th>2</th>\n",
       "      <td>2003</td>\n",
       "      <td>0</td>\n",
       "      <td>26</td>\n",
       "      <td>1</td>\n",
       "      <td>42.80</td>\n",
       "      <td>0</td>\n",
       "    </tr>\n",
       "    <tr>\n",
       "      <th>3</th>\n",
       "      <td>2004</td>\n",
       "      <td>1</td>\n",
       "      <td>60</td>\n",
       "      <td>0</td>\n",
       "      <td>26.72</td>\n",
       "      <td>1</td>\n",
       "    </tr>\n",
       "    <tr>\n",
       "      <th>4</th>\n",
       "      <td>2006</td>\n",
       "      <td>1</td>\n",
       "      <td>48</td>\n",
       "      <td>1</td>\n",
       "      <td>43.89</td>\n",
       "      <td>0</td>\n",
       "    </tr>\n",
       "  </tbody>\n",
       "</table>\n",
       "</div>"
      ],
      "text/plain": [
       "   studyID  Group  Age  Gender    BMI  Weight_loss_band\n",
       "0     2001      0   28       0  36.24                 1\n",
       "1     2002      1   38       1  35.71                 0\n",
       "2     2003      0   26       1  42.80                 0\n",
       "3     2004      1   60       0  26.72                 1\n",
       "4     2006      1   48       1  43.89                 0"
      ]
     },
     "execution_count": 7,
     "metadata": {},
     "output_type": "execute_result"
    }
   ],
   "source": [
    "df.head()"
   ]
  },
  {
   "cell_type": "code",
   "execution_count": 8,
   "metadata": {},
   "outputs": [
    {
     "name": "stdout",
     "output_type": "stream",
     "text": [
      "logreg training acuracy=  0.7333333333333333\n",
      "logreg test accuracy=  0.5833333333333334\n"
     ]
    }
   ],
   "source": [
    "#random1\n",
    "from sklearn.model_selection import train_test_split\n",
    "train_df, test_df = train_test_split(df, test_size=0.2, random_state=100)\n",
    "X_train = train_df.drop('Weight_loss_band', axis=1)\n",
    "Y_train = train_df['Weight_loss_band']  \n",
    "X_test  = test_df.drop('Weight_loss_band', axis=1)\n",
    "Y_test = test_df['Weight_loss_band']  \n",
    "logreg = LogisticRegression()  \n",
    "logreg.fit(X_train, Y_train)\n",
    "logreg_train_acc = logreg.score(X_train, Y_train)\n",
    "logreg_test_acc = logreg.score(X_test, Y_test)\n",
    "print ('logreg training acuracy= ',logreg_train_acc)\n",
    "print('logreg test accuracy= ',logreg_test_acc)"
   ]
  },
  {
   "cell_type": "code",
   "execution_count": 9,
   "metadata": {},
   "outputs": [
    {
     "name": "stdout",
     "output_type": "stream",
     "text": [
      "logreg training acuracy=  0.6666666666666666\n",
      "logreg test accuracy=  0.6666666666666666\n"
     ]
    }
   ],
   "source": [
    "#random2\n",
    "from sklearn.model_selection import train_test_split\n",
    "train_df, test_df = train_test_split(df, test_size=0.2, random_state=122)\n",
    "X_train = train_df.drop('Weight_loss_band', axis=1)\n",
    "Y_train = train_df['Weight_loss_band']  \n",
    "X_test  = test_df.drop('Weight_loss_band', axis=1)\n",
    "Y_test = test_df['Weight_loss_band']  \n",
    "logreg = LogisticRegression()  \n",
    "logreg.fit(X_train, Y_train)\n",
    "logreg_train_acc = logreg.score(X_train, Y_train)\n",
    "logreg_test_acc = logreg.score(X_test, Y_test)\n",
    "print ('logreg training acuracy= ',logreg_train_acc)\n",
    "print('logreg test accuracy= ',logreg_test_acc)"
   ]
  },
  {
   "cell_type": "code",
   "execution_count": 10,
   "metadata": {},
   "outputs": [
    {
     "name": "stdout",
     "output_type": "stream",
     "text": [
      "logreg training acuracy=  0.8222222222222222\n",
      "logreg test accuracy=  0.5833333333333334\n"
     ]
    }
   ],
   "source": [
    "#random3\n",
    "from sklearn.model_selection import train_test_split\n",
    "train_df, test_df = train_test_split(df, test_size=0.2, random_state=200)\n",
    "X_train = train_df.drop('Weight_loss_band', axis=1)\n",
    "Y_train = train_df['Weight_loss_band']  \n",
    "X_test  = test_df.drop('Weight_loss_band', axis=1)\n",
    "Y_test = test_df['Weight_loss_band']  \n",
    "logreg = LogisticRegression()  \n",
    "logreg.fit(X_train, Y_train)\n",
    "logreg_train_acc = logreg.score(X_train, Y_train)\n",
    "logreg_test_acc = logreg.score(X_test, Y_test)\n",
    "print ('logreg training acuracy= ',logreg_train_acc)\n",
    "print('logreg test accuracy= ',logreg_test_acc)"
   ]
  },
  {
   "cell_type": "code",
   "execution_count": 11,
   "metadata": {},
   "outputs": [
    {
     "name": "stdout",
     "output_type": "stream",
     "text": [
      "logreg training acuracy=  0.7333333333333333\n",
      "logreg test accuracy=  0.6666666666666666\n"
     ]
    }
   ],
   "source": [
    "#random4\n",
    "from sklearn.model_selection import train_test_split\n",
    "train_df, test_df = train_test_split(df, test_size=0.2, random_state=300)\n",
    "X_train = train_df.drop('Weight_loss_band', axis=1)\n",
    "Y_train = train_df['Weight_loss_band']  \n",
    "X_test  = test_df.drop('Weight_loss_band', axis=1)\n",
    "Y_test = test_df['Weight_loss_band']  \n",
    "logreg = LogisticRegression()  \n",
    "logreg.fit(X_train, Y_train)\n",
    "logreg_train_acc = logreg.score(X_train, Y_train)\n",
    "logreg_test_acc = logreg.score(X_test, Y_test)\n",
    "print ('logreg training acuracy= ',logreg_train_acc)\n",
    "print('logreg test accuracy= ',logreg_test_acc)"
   ]
  },
  {
   "cell_type": "code",
   "execution_count": 12,
   "metadata": {},
   "outputs": [
    {
     "name": "stdout",
     "output_type": "stream",
     "text": [
      "logreg training acuracy=  0.7333333333333333\n",
      "logreg test accuracy=  0.6666666666666666\n"
     ]
    }
   ],
   "source": [
    "#random5\n",
    "from sklearn.model_selection import train_test_split\n",
    "train_df, test_df = train_test_split(df, test_size=0.2, random_state=368)\n",
    "X_train = train_df.drop('Weight_loss_band', axis=1)\n",
    "Y_train = train_df['Weight_loss_band']  \n",
    "X_test  = test_df.drop('Weight_loss_band', axis=1)\n",
    "Y_test = test_df['Weight_loss_band']  \n",
    "logreg = LogisticRegression()  \n",
    "logreg.fit(X_train, Y_train)\n",
    "logreg_train_acc = logreg.score(X_train, Y_train)\n",
    "logreg_test_acc = logreg.score(X_test, Y_test)\n",
    "print ('logreg training acuracy= ',logreg_train_acc)\n",
    "print('logreg test accuracy= ',logreg_test_acc)"
   ]
  },
  {
   "cell_type": "code",
   "execution_count": 13,
   "metadata": {},
   "outputs": [
    {
     "name": "stdout",
     "output_type": "stream",
     "text": [
      "logreg training acuracy=  0.7555555555555555\n",
      "logreg test accuracy=  0.5833333333333334\n"
     ]
    }
   ],
   "source": [
    "#random6\n",
    "from sklearn.model_selection import train_test_split\n",
    "train_df, test_df = train_test_split(df, test_size=0.2, random_state=400)\n",
    "X_train = train_df.drop('Weight_loss_band', axis=1)\n",
    "Y_train = train_df['Weight_loss_band']  \n",
    "X_test  = test_df.drop('Weight_loss_band', axis=1)\n",
    "Y_test = test_df['Weight_loss_band']  \n",
    "logreg = LogisticRegression()  \n",
    "logreg.fit(X_train, Y_train)\n",
    "logreg_train_acc = logreg.score(X_train, Y_train)\n",
    "logreg_test_acc = logreg.score(X_test, Y_test)\n",
    "print ('logreg training acuracy= ',logreg_train_acc)\n",
    "print('logreg test accuracy= ',logreg_test_acc)"
   ]
  },
  {
   "cell_type": "code",
   "execution_count": 14,
   "metadata": {},
   "outputs": [
    {
     "name": "stdout",
     "output_type": "stream",
     "text": [
      "logreg training acuracy=  0.7777777777777778\n",
      "logreg test accuracy=  0.5\n"
     ]
    }
   ],
   "source": [
    "#random7\n",
    "from sklearn.model_selection import train_test_split\n",
    "train_df, test_df = train_test_split(df, test_size=0.2, random_state=500)\n",
    "X_train = train_df.drop('Weight_loss_band', axis=1)\n",
    "Y_train = train_df['Weight_loss_band']  \n",
    "X_test  = test_df.drop('Weight_loss_band', axis=1)\n",
    "Y_test = test_df['Weight_loss_band']  \n",
    "logreg = LogisticRegression()  \n",
    "logreg.fit(X_train, Y_train)\n",
    "logreg_train_acc = logreg.score(X_train, Y_train)\n",
    "logreg_test_acc = logreg.score(X_test, Y_test)\n",
    "print ('logreg training acuracy= ',logreg_train_acc)\n",
    "print('logreg test accuracy= ',logreg_test_acc)"
   ]
  },
  {
   "cell_type": "code",
   "execution_count": 15,
   "metadata": {},
   "outputs": [
    {
     "name": "stdout",
     "output_type": "stream",
     "text": [
      "logreg training acuracy=  0.7111111111111111\n",
      "logreg test accuracy=  0.75\n"
     ]
    }
   ],
   "source": [
    "#random8\n",
    "from sklearn.model_selection import train_test_split\n",
    "train_df, test_df = train_test_split(df, test_size=0.2, random_state=600)\n",
    "X_train = train_df.drop('Weight_loss_band', axis=1)\n",
    "Y_train = train_df['Weight_loss_band']  \n",
    "X_test  = test_df.drop('Weight_loss_band', axis=1)\n",
    "Y_test = test_df['Weight_loss_band']  \n",
    "logreg = LogisticRegression()  \n",
    "logreg.fit(X_train, Y_train)\n",
    "logreg_train_acc = logreg.score(X_train, Y_train)\n",
    "logreg_test_acc = logreg.score(X_test, Y_test)\n",
    "print ('logreg training acuracy= ',logreg_train_acc)\n",
    "print('logreg test accuracy= ',logreg_test_acc)"
   ]
  },
  {
   "cell_type": "code",
   "execution_count": 16,
   "metadata": {},
   "outputs": [
    {
     "name": "stdout",
     "output_type": "stream",
     "text": [
      "logreg training acuracy=  0.7555555555555555\n",
      "logreg test accuracy=  0.6666666666666666\n"
     ]
    }
   ],
   "source": [
    "#random9\n",
    "from sklearn.model_selection import train_test_split\n",
    "train_df, test_df = train_test_split(df, test_size=0.2, random_state=700)\n",
    "X_train = train_df.drop('Weight_loss_band', axis=1)\n",
    "Y_train = train_df['Weight_loss_band']  \n",
    "X_test  = test_df.drop('Weight_loss_band', axis=1)\n",
    "Y_test = test_df['Weight_loss_band']  \n",
    "logreg = LogisticRegression()  \n",
    "logreg.fit(X_train, Y_train)\n",
    "logreg_train_acc = logreg.score(X_train, Y_train)\n",
    "logreg_test_acc = logreg.score(X_test, Y_test)\n",
    "print ('logreg training acuracy= ',logreg_train_acc)\n",
    "print('logreg test accuracy= ',logreg_test_acc)"
   ]
  },
  {
   "cell_type": "code",
   "execution_count": 17,
   "metadata": {},
   "outputs": [
    {
     "name": "stdout",
     "output_type": "stream",
     "text": [
      "logreg training acuracy=  0.6666666666666666\n",
      "logreg test accuracy=  0.5833333333333334\n"
     ]
    }
   ],
   "source": [
    "#random10\n",
    "from sklearn.model_selection import train_test_split\n",
    "train_df, test_df = train_test_split(df, test_size=0.2, random_state=22)\n",
    "X_train = train_df.drop('Weight_loss_band', axis=1)\n",
    "Y_train = train_df['Weight_loss_band']  \n",
    "X_test  = test_df.drop('Weight_loss_band', axis=1)\n",
    "Y_test = test_df['Weight_loss_band']  \n",
    "logreg = LogisticRegression()  \n",
    "logreg.fit(X_train, Y_train)\n",
    "logreg_train_acc = logreg.score(X_train, Y_train)\n",
    "logreg_test_acc = logreg.score(X_test, Y_test)\n",
    "print ('logreg training acuracy= ',logreg_train_acc)\n",
    "print('logreg test accuracy= ',logreg_test_acc)"
   ]
  },
  {
   "cell_type": "code",
   "execution_count": 18,
   "metadata": {},
   "outputs": [],
   "source": [
    "stepcounts = pd.read_csv('step_count_all_includenewstudyID.csv')"
   ]
  },
  {
   "cell_type": "code",
   "execution_count": 19,
   "metadata": {},
   "outputs": [
    {
     "data": {
      "text/html": [
       "<div>\n",
       "<style scoped>\n",
       "    .dataframe tbody tr th:only-of-type {\n",
       "        vertical-align: middle;\n",
       "    }\n",
       "\n",
       "    .dataframe tbody tr th {\n",
       "        vertical-align: top;\n",
       "    }\n",
       "\n",
       "    .dataframe thead th {\n",
       "        text-align: right;\n",
       "    }\n",
       "</style>\n",
       "<table border=\"1\" class=\"dataframe\">\n",
       "  <thead>\n",
       "    <tr style=\"text-align: right;\">\n",
       "      <th></th>\n",
       "      <th>studyID</th>\n",
       "      <th>Steps</th>\n",
       "      <th>Date</th>\n",
       "      <th>Weight</th>\n",
       "      <th>BMI</th>\n",
       "    </tr>\n",
       "  </thead>\n",
       "  <tbody>\n",
       "    <tr>\n",
       "      <th>0</th>\n",
       "      <td>2001</td>\n",
       "      <td>2931.0</td>\n",
       "      <td>11/17/14</td>\n",
       "      <td>253.40</td>\n",
       "      <td>36.24</td>\n",
       "    </tr>\n",
       "    <tr>\n",
       "      <th>1</th>\n",
       "      <td>2001</td>\n",
       "      <td>2264.0</td>\n",
       "      <td>11/18/14</td>\n",
       "      <td>253.55</td>\n",
       "      <td>36.26</td>\n",
       "    </tr>\n",
       "    <tr>\n",
       "      <th>2</th>\n",
       "      <td>2001</td>\n",
       "      <td>5347.0</td>\n",
       "      <td>11/19/14</td>\n",
       "      <td>253.71</td>\n",
       "      <td>36.28</td>\n",
       "    </tr>\n",
       "    <tr>\n",
       "      <th>3</th>\n",
       "      <td>2001</td>\n",
       "      <td>5924.0</td>\n",
       "      <td>11/20/14</td>\n",
       "      <td>253.87</td>\n",
       "      <td>36.30</td>\n",
       "    </tr>\n",
       "    <tr>\n",
       "      <th>4</th>\n",
       "      <td>2001</td>\n",
       "      <td>6961.0</td>\n",
       "      <td>11/21/14</td>\n",
       "      <td>254.02</td>\n",
       "      <td>36.33</td>\n",
       "    </tr>\n",
       "  </tbody>\n",
       "</table>\n",
       "</div>"
      ],
      "text/plain": [
       "   studyID   Steps      Date  Weight    BMI\n",
       "0     2001  2931.0  11/17/14  253.40  36.24\n",
       "1     2001  2264.0  11/18/14  253.55  36.26\n",
       "2     2001  5347.0  11/19/14  253.71  36.28\n",
       "3     2001  5924.0  11/20/14  253.87  36.30\n",
       "4     2001  6961.0  11/21/14  254.02  36.33"
      ]
     },
     "execution_count": 19,
     "metadata": {},
     "output_type": "execute_result"
    }
   ],
   "source": [
    "stepcounts.head()"
   ]
  },
  {
   "cell_type": "code",
   "execution_count": 20,
   "metadata": {},
   "outputs": [
    {
     "data": {
      "text/html": [
       "<div>\n",
       "<style scoped>\n",
       "    .dataframe tbody tr th:only-of-type {\n",
       "        vertical-align: middle;\n",
       "    }\n",
       "\n",
       "    .dataframe tbody tr th {\n",
       "        vertical-align: top;\n",
       "    }\n",
       "\n",
       "    .dataframe thead th {\n",
       "        text-align: right;\n",
       "    }\n",
       "</style>\n",
       "<table border=\"1\" class=\"dataframe\">\n",
       "  <thead>\n",
       "    <tr style=\"text-align: right;\">\n",
       "      <th></th>\n",
       "      <th>studyID</th>\n",
       "      <th>Steps</th>\n",
       "    </tr>\n",
       "  </thead>\n",
       "  <tbody>\n",
       "    <tr>\n",
       "      <th>0</th>\n",
       "      <td>2001</td>\n",
       "      <td>2931.0</td>\n",
       "    </tr>\n",
       "    <tr>\n",
       "      <th>1</th>\n",
       "      <td>2001</td>\n",
       "      <td>2264.0</td>\n",
       "    </tr>\n",
       "    <tr>\n",
       "      <th>2</th>\n",
       "      <td>2001</td>\n",
       "      <td>5347.0</td>\n",
       "    </tr>\n",
       "    <tr>\n",
       "      <th>3</th>\n",
       "      <td>2001</td>\n",
       "      <td>5924.0</td>\n",
       "    </tr>\n",
       "    <tr>\n",
       "      <th>4</th>\n",
       "      <td>2001</td>\n",
       "      <td>6961.0</td>\n",
       "    </tr>\n",
       "  </tbody>\n",
       "</table>\n",
       "</div>"
      ],
      "text/plain": [
       "   studyID   Steps\n",
       "0     2001  2931.0\n",
       "1     2001  2264.0\n",
       "2     2001  5347.0\n",
       "3     2001  5924.0\n",
       "4     2001  6961.0"
      ]
     },
     "execution_count": 20,
     "metadata": {},
     "output_type": "execute_result"
    }
   ],
   "source": [
    "step_df=stepcounts.loc[:,'studyID':'Steps']\n",
    "step_df.head()"
   ]
  },
  {
   "cell_type": "code",
   "execution_count": 21,
   "metadata": {},
   "outputs": [],
   "source": [
    "step_df.loc[step_df['Steps'] == 0,'Steps'] = np.nan"
   ]
  },
  {
   "cell_type": "code",
   "execution_count": 22,
   "metadata": {},
   "outputs": [],
   "source": [
    "step_df=step_df.dropna()"
   ]
  },
  {
   "cell_type": "code",
   "execution_count": 23,
   "metadata": {},
   "outputs": [
    {
     "data": {
      "text/plain": [
       "4760"
      ]
     },
     "execution_count": 23,
     "metadata": {},
     "output_type": "execute_result"
    }
   ],
   "source": [
    "len(step_df)"
   ]
  },
  {
   "cell_type": "code",
   "execution_count": 24,
   "metadata": {},
   "outputs": [
    {
     "data": {
      "text/html": [
       "<div>\n",
       "<style scoped>\n",
       "    .dataframe tbody tr th:only-of-type {\n",
       "        vertical-align: middle;\n",
       "    }\n",
       "\n",
       "    .dataframe tbody tr th {\n",
       "        vertical-align: top;\n",
       "    }\n",
       "\n",
       "    .dataframe thead th {\n",
       "        text-align: right;\n",
       "    }\n",
       "</style>\n",
       "<table border=\"1\" class=\"dataframe\">\n",
       "  <thead>\n",
       "    <tr style=\"text-align: right;\">\n",
       "      <th></th>\n",
       "      <th>studyID</th>\n",
       "      <th>Steps</th>\n",
       "    </tr>\n",
       "  </thead>\n",
       "  <tbody>\n",
       "    <tr>\n",
       "      <th>0</th>\n",
       "      <td>2001</td>\n",
       "      <td>10723.455556</td>\n",
       "    </tr>\n",
       "    <tr>\n",
       "      <th>1</th>\n",
       "      <td>2002</td>\n",
       "      <td>4654.916667</td>\n",
       "    </tr>\n",
       "    <tr>\n",
       "      <th>2</th>\n",
       "      <td>2003</td>\n",
       "      <td>5675.133333</td>\n",
       "    </tr>\n",
       "    <tr>\n",
       "      <th>3</th>\n",
       "      <td>2004</td>\n",
       "      <td>9855.843373</td>\n",
       "    </tr>\n",
       "    <tr>\n",
       "      <th>4</th>\n",
       "      <td>2006</td>\n",
       "      <td>7595.388889</td>\n",
       "    </tr>\n",
       "  </tbody>\n",
       "</table>\n",
       "</div>"
      ],
      "text/plain": [
       "   studyID         Steps\n",
       "0     2001  10723.455556\n",
       "1     2002   4654.916667\n",
       "2     2003   5675.133333\n",
       "3     2004   9855.843373\n",
       "4     2006   7595.388889"
      ]
     },
     "execution_count": 24,
     "metadata": {},
     "output_type": "execute_result"
    }
   ],
   "source": [
    "counts_df=step_df.groupby('studyID', as_index=False)['Steps'].mean()\n",
    "counts_df.head()"
   ]
  },
  {
   "cell_type": "code",
   "execution_count": 25,
   "metadata": {},
   "outputs": [],
   "source": [
    "new_df= pd.concat([df, counts_df['Steps']], axis=1, sort=False)"
   ]
  },
  {
   "cell_type": "code",
   "execution_count": 26,
   "metadata": {},
   "outputs": [
    {
     "data": {
      "text/html": [
       "<div>\n",
       "<style scoped>\n",
       "    .dataframe tbody tr th:only-of-type {\n",
       "        vertical-align: middle;\n",
       "    }\n",
       "\n",
       "    .dataframe tbody tr th {\n",
       "        vertical-align: top;\n",
       "    }\n",
       "\n",
       "    .dataframe thead th {\n",
       "        text-align: right;\n",
       "    }\n",
       "</style>\n",
       "<table border=\"1\" class=\"dataframe\">\n",
       "  <thead>\n",
       "    <tr style=\"text-align: right;\">\n",
       "      <th></th>\n",
       "      <th>studyID</th>\n",
       "      <th>Group</th>\n",
       "      <th>Age</th>\n",
       "      <th>Gender</th>\n",
       "      <th>BMI</th>\n",
       "      <th>Weight_loss_band</th>\n",
       "      <th>Steps</th>\n",
       "    </tr>\n",
       "  </thead>\n",
       "  <tbody>\n",
       "    <tr>\n",
       "      <th>0</th>\n",
       "      <td>2001</td>\n",
       "      <td>0</td>\n",
       "      <td>28</td>\n",
       "      <td>0</td>\n",
       "      <td>36.24</td>\n",
       "      <td>1</td>\n",
       "      <td>10723.455556</td>\n",
       "    </tr>\n",
       "    <tr>\n",
       "      <th>1</th>\n",
       "      <td>2002</td>\n",
       "      <td>1</td>\n",
       "      <td>38</td>\n",
       "      <td>1</td>\n",
       "      <td>35.71</td>\n",
       "      <td>0</td>\n",
       "      <td>4654.916667</td>\n",
       "    </tr>\n",
       "    <tr>\n",
       "      <th>2</th>\n",
       "      <td>2003</td>\n",
       "      <td>0</td>\n",
       "      <td>26</td>\n",
       "      <td>1</td>\n",
       "      <td>42.80</td>\n",
       "      <td>0</td>\n",
       "      <td>5675.133333</td>\n",
       "    </tr>\n",
       "    <tr>\n",
       "      <th>3</th>\n",
       "      <td>2004</td>\n",
       "      <td>1</td>\n",
       "      <td>60</td>\n",
       "      <td>0</td>\n",
       "      <td>26.72</td>\n",
       "      <td>1</td>\n",
       "      <td>9855.843373</td>\n",
       "    </tr>\n",
       "    <tr>\n",
       "      <th>4</th>\n",
       "      <td>2006</td>\n",
       "      <td>1</td>\n",
       "      <td>48</td>\n",
       "      <td>1</td>\n",
       "      <td>43.89</td>\n",
       "      <td>0</td>\n",
       "      <td>7595.388889</td>\n",
       "    </tr>\n",
       "  </tbody>\n",
       "</table>\n",
       "</div>"
      ],
      "text/plain": [
       "   studyID  Group  Age  Gender    BMI  Weight_loss_band         Steps\n",
       "0     2001      0   28       0  36.24                 1  10723.455556\n",
       "1     2002      1   38       1  35.71                 0   4654.916667\n",
       "2     2003      0   26       1  42.80                 0   5675.133333\n",
       "3     2004      1   60       0  26.72                 1   9855.843373\n",
       "4     2006      1   48       1  43.89                 0   7595.388889"
      ]
     },
     "execution_count": 26,
     "metadata": {},
     "output_type": "execute_result"
    }
   ],
   "source": [
    "new_df.head()"
   ]
  },
  {
   "cell_type": "code",
   "execution_count": 27,
   "metadata": {
    "scrolled": false
   },
   "outputs": [
    {
     "data": {
      "text/html": [
       "<div>\n",
       "<style scoped>\n",
       "    .dataframe tbody tr th:only-of-type {\n",
       "        vertical-align: middle;\n",
       "    }\n",
       "\n",
       "    .dataframe tbody tr th {\n",
       "        vertical-align: top;\n",
       "    }\n",
       "\n",
       "    .dataframe thead th {\n",
       "        text-align: right;\n",
       "    }\n",
       "</style>\n",
       "<table border=\"1\" class=\"dataframe\">\n",
       "  <thead>\n",
       "    <tr style=\"text-align: right;\">\n",
       "      <th></th>\n",
       "      <th>studyID</th>\n",
       "      <th>Group</th>\n",
       "      <th>Age</th>\n",
       "      <th>Gender</th>\n",
       "      <th>BMI</th>\n",
       "      <th>Weight_loss_band</th>\n",
       "      <th>Steps</th>\n",
       "    </tr>\n",
       "  </thead>\n",
       "  <tbody>\n",
       "    <tr>\n",
       "      <th>count</th>\n",
       "      <td>57.000000</td>\n",
       "      <td>57.000000</td>\n",
       "      <td>57.000000</td>\n",
       "      <td>57.00000</td>\n",
       "      <td>57.000000</td>\n",
       "      <td>57.000000</td>\n",
       "      <td>57.000000</td>\n",
       "    </tr>\n",
       "    <tr>\n",
       "      <th>mean</th>\n",
       "      <td>2043.596491</td>\n",
       "      <td>0.526316</td>\n",
       "      <td>43.157895</td>\n",
       "      <td>0.54386</td>\n",
       "      <td>29.453509</td>\n",
       "      <td>0.333333</td>\n",
       "      <td>9511.987926</td>\n",
       "    </tr>\n",
       "    <tr>\n",
       "      <th>std</th>\n",
       "      <td>25.247249</td>\n",
       "      <td>0.503745</td>\n",
       "      <td>12.387767</td>\n",
       "      <td>0.50250</td>\n",
       "      <td>4.922317</td>\n",
       "      <td>0.475595</td>\n",
       "      <td>2921.206191</td>\n",
       "    </tr>\n",
       "    <tr>\n",
       "      <th>min</th>\n",
       "      <td>2001.000000</td>\n",
       "      <td>0.000000</td>\n",
       "      <td>25.000000</td>\n",
       "      <td>0.00000</td>\n",
       "      <td>17.710000</td>\n",
       "      <td>0.000000</td>\n",
       "      <td>3087.068182</td>\n",
       "    </tr>\n",
       "    <tr>\n",
       "      <th>25%</th>\n",
       "      <td>2024.000000</td>\n",
       "      <td>0.000000</td>\n",
       "      <td>33.000000</td>\n",
       "      <td>0.00000</td>\n",
       "      <td>26.630000</td>\n",
       "      <td>0.000000</td>\n",
       "      <td>7802.383721</td>\n",
       "    </tr>\n",
       "    <tr>\n",
       "      <th>50%</th>\n",
       "      <td>2044.000000</td>\n",
       "      <td>1.000000</td>\n",
       "      <td>42.000000</td>\n",
       "      <td>1.00000</td>\n",
       "      <td>28.520000</td>\n",
       "      <td>0.000000</td>\n",
       "      <td>9783.255556</td>\n",
       "    </tr>\n",
       "    <tr>\n",
       "      <th>75%</th>\n",
       "      <td>2066.000000</td>\n",
       "      <td>1.000000</td>\n",
       "      <td>52.000000</td>\n",
       "      <td>1.00000</td>\n",
       "      <td>31.410000</td>\n",
       "      <td>1.000000</td>\n",
       "      <td>11297.533333</td>\n",
       "    </tr>\n",
       "    <tr>\n",
       "      <th>max</th>\n",
       "      <td>2085.000000</td>\n",
       "      <td>1.000000</td>\n",
       "      <td>78.000000</td>\n",
       "      <td>1.00000</td>\n",
       "      <td>43.890000</td>\n",
       "      <td>1.000000</td>\n",
       "      <td>18288.966667</td>\n",
       "    </tr>\n",
       "  </tbody>\n",
       "</table>\n",
       "</div>"
      ],
      "text/plain": [
       "           studyID      Group        Age    Gender        BMI  \\\n",
       "count    57.000000  57.000000  57.000000  57.00000  57.000000   \n",
       "mean   2043.596491   0.526316  43.157895   0.54386  29.453509   \n",
       "std      25.247249   0.503745  12.387767   0.50250   4.922317   \n",
       "min    2001.000000   0.000000  25.000000   0.00000  17.710000   \n",
       "25%    2024.000000   0.000000  33.000000   0.00000  26.630000   \n",
       "50%    2044.000000   1.000000  42.000000   1.00000  28.520000   \n",
       "75%    2066.000000   1.000000  52.000000   1.00000  31.410000   \n",
       "max    2085.000000   1.000000  78.000000   1.00000  43.890000   \n",
       "\n",
       "       Weight_loss_band         Steps  \n",
       "count         57.000000     57.000000  \n",
       "mean           0.333333   9511.987926  \n",
       "std            0.475595   2921.206191  \n",
       "min            0.000000   3087.068182  \n",
       "25%            0.000000   7802.383721  \n",
       "50%            0.000000   9783.255556  \n",
       "75%            1.000000  11297.533333  \n",
       "max            1.000000  18288.966667  "
      ]
     },
     "execution_count": 27,
     "metadata": {},
     "output_type": "execute_result"
    }
   ],
   "source": [
    "new_df.describe()"
   ]
  },
  {
   "cell_type": "code",
   "execution_count": 28,
   "metadata": {},
   "outputs": [],
   "source": [
    "# Steps_band=[]\n",
    "# for s in new_df['Steps']:\n",
    "#     if s >=3000 and s <6500:\n",
    "#         Steps_band.append(0)\n",
    "#     elif s>=6500 and s <10000:\n",
    "#         Steps_band.append(1)\n",
    "#     elif s>=10000 and s <13500:\n",
    "#         Steps_band.append(2)\n",
    "#     elif s>=13500 and s <17000:\n",
    "#         Steps_band.append(3)\n",
    "#     elif s>=17000:\n",
    "#         Steps_band.append(4)    \n",
    "        \n",
    "# new_df['Steps_band']=Steps_band\n",
    "# new_df=new_df.drop('Steps',axis=1)\n",
    "# new_df.head()"
   ]
  },
  {
   "cell_type": "code",
   "execution_count": 29,
   "metadata": {},
   "outputs": [
    {
     "name": "stdout",
     "output_type": "stream",
     "text": [
      "logreg training acuracy=  0.7555555555555555\n",
      "logreg test accuracy=  0.75\n"
     ]
    }
   ],
   "source": [
    "#random11\n",
    "from sklearn.model_selection import train_test_split\n",
    "train_df, test_df = train_test_split(new_df, test_size=0.2, random_state=100)\n",
    "X_train = train_df.drop('Weight_loss_band', axis=1)\n",
    "Y_train = train_df['Weight_loss_band']  \n",
    "X_test  = test_df.drop('Weight_loss_band', axis=1)\n",
    "Y_test = test_df['Weight_loss_band']  \n",
    "logreg = LogisticRegression()  \n",
    "logreg.fit(X_train, Y_train)\n",
    "logreg_train_acc = logreg.score(X_train, Y_train)\n",
    "logreg_test_acc = logreg.score(X_test, Y_test)\n",
    "print ('logreg training acuracy= ',logreg_train_acc)\n",
    "print('logreg test accuracy= ',logreg_test_acc)"
   ]
  },
  {
   "cell_type": "code",
   "execution_count": 30,
   "metadata": {},
   "outputs": [
    {
     "name": "stdout",
     "output_type": "stream",
     "text": [
      "logreg training acuracy=  0.7333333333333333\n",
      "logreg test accuracy=  0.75\n"
     ]
    }
   ],
   "source": [
    "#random12\n",
    "from sklearn.model_selection import train_test_split\n",
    "train_df, test_df = train_test_split(new_df, test_size=0.2, random_state=122)\n",
    "X_train = train_df.drop('Weight_loss_band', axis=1)\n",
    "Y_train = train_df['Weight_loss_band']  \n",
    "X_test  = test_df.drop('Weight_loss_band', axis=1)\n",
    "Y_test = test_df['Weight_loss_band']  \n",
    "logreg = LogisticRegression()  \n",
    "logreg.fit(X_train, Y_train)\n",
    "logreg_train_acc = logreg.score(X_train, Y_train)\n",
    "logreg_test_acc = logreg.score(X_test, Y_test)\n",
    "print ('logreg training acuracy= ',logreg_train_acc)\n",
    "print('logreg test accuracy= ',logreg_test_acc)"
   ]
  },
  {
   "cell_type": "code",
   "execution_count": 31,
   "metadata": {},
   "outputs": [
    {
     "name": "stdout",
     "output_type": "stream",
     "text": [
      "logreg training acuracy=  0.7777777777777778\n",
      "logreg test accuracy=  0.5833333333333334\n"
     ]
    }
   ],
   "source": [
    "#random13\n",
    "from sklearn.model_selection import train_test_split\n",
    "train_df, test_df = train_test_split(new_df, test_size=0.2, random_state=200)\n",
    "X_train = train_df.drop('Weight_loss_band', axis=1)\n",
    "Y_train = train_df['Weight_loss_band']  \n",
    "X_test  = test_df.drop('Weight_loss_band', axis=1)\n",
    "Y_test = test_df['Weight_loss_band']  \n",
    "logreg = LogisticRegression()  \n",
    "logreg.fit(X_train, Y_train)\n",
    "logreg_train_acc = logreg.score(X_train, Y_train)\n",
    "logreg_test_acc = logreg.score(X_test, Y_test)\n",
    "print ('logreg training acuracy= ',logreg_train_acc)\n",
    "print('logreg test accuracy= ',logreg_test_acc)"
   ]
  },
  {
   "cell_type": "code",
   "execution_count": 32,
   "metadata": {},
   "outputs": [
    {
     "name": "stdout",
     "output_type": "stream",
     "text": [
      "logreg training acuracy=  0.7777777777777778\n",
      "logreg test accuracy=  0.5\n"
     ]
    }
   ],
   "source": [
    "#random14\n",
    "from sklearn.model_selection import train_test_split\n",
    "train_df, test_df = train_test_split(new_df, test_size=0.2, random_state=300)\n",
    "X_train = train_df.drop('Weight_loss_band', axis=1)\n",
    "Y_train = train_df['Weight_loss_band']  \n",
    "X_test  = test_df.drop('Weight_loss_band', axis=1)\n",
    "Y_test = test_df['Weight_loss_band']  \n",
    "logreg = LogisticRegression()  \n",
    "logreg.fit(X_train, Y_train)\n",
    "logreg_train_acc = logreg.score(X_train, Y_train)\n",
    "logreg_test_acc = logreg.score(X_test, Y_test)\n",
    "print ('logreg training acuracy= ',logreg_train_acc)\n",
    "print('logreg test accuracy= ',logreg_test_acc)"
   ]
  },
  {
   "cell_type": "code",
   "execution_count": 33,
   "metadata": {},
   "outputs": [
    {
     "name": "stdout",
     "output_type": "stream",
     "text": [
      "logreg training acuracy=  0.8444444444444444\n",
      "logreg test accuracy=  0.5833333333333334\n"
     ]
    }
   ],
   "source": [
    "#random15\n",
    "from sklearn.model_selection import train_test_split\n",
    "train_df, test_df = train_test_split(new_df, test_size=0.2, random_state=368)\n",
    "X_train = train_df.drop('Weight_loss_band', axis=1)\n",
    "Y_train = train_df['Weight_loss_band']  \n",
    "X_test  = test_df.drop('Weight_loss_band', axis=1)\n",
    "Y_test = test_df['Weight_loss_band']  \n",
    "logreg = LogisticRegression()  \n",
    "logreg.fit(X_train, Y_train)\n",
    "logreg_train_acc = logreg.score(X_train, Y_train)\n",
    "logreg_test_acc = logreg.score(X_test, Y_test)\n",
    "print ('logreg training acuracy= ',logreg_train_acc)\n",
    "print('logreg test accuracy= ',logreg_test_acc)"
   ]
  },
  {
   "cell_type": "code",
   "execution_count": 34,
   "metadata": {},
   "outputs": [
    {
     "name": "stdout",
     "output_type": "stream",
     "text": [
      "logreg training acuracy=  0.7777777777777778\n",
      "logreg test accuracy=  0.6666666666666666\n"
     ]
    }
   ],
   "source": [
    "#random16\n",
    "from sklearn.model_selection import train_test_split\n",
    "train_df, test_df = train_test_split(new_df, test_size=0.2, random_state=400)\n",
    "X_train = train_df.drop('Weight_loss_band', axis=1)\n",
    "Y_train = train_df['Weight_loss_band']  \n",
    "X_test  = test_df.drop('Weight_loss_band', axis=1)\n",
    "Y_test = test_df['Weight_loss_band']  \n",
    "logreg = LogisticRegression()  \n",
    "logreg.fit(X_train, Y_train)\n",
    "logreg_train_acc = logreg.score(X_train, Y_train)\n",
    "logreg_test_acc = logreg.score(X_test, Y_test)\n",
    "print ('logreg training acuracy= ',logreg_train_acc)\n",
    "print('logreg test accuracy= ',logreg_test_acc)"
   ]
  },
  {
   "cell_type": "code",
   "execution_count": 35,
   "metadata": {},
   "outputs": [
    {
     "name": "stdout",
     "output_type": "stream",
     "text": [
      "logreg training acuracy=  0.7777777777777778\n",
      "logreg test accuracy=  0.5833333333333334\n"
     ]
    }
   ],
   "source": [
    "#random17\n",
    "from sklearn.model_selection import train_test_split\n",
    "train_df, test_df = train_test_split(new_df, test_size=0.2, random_state=500)\n",
    "X_train = train_df.drop('Weight_loss_band', axis=1)\n",
    "Y_train = train_df['Weight_loss_band']  \n",
    "X_test  = test_df.drop('Weight_loss_band', axis=1)\n",
    "Y_test = test_df['Weight_loss_band']  \n",
    "logreg = LogisticRegression()  \n",
    "logreg.fit(X_train, Y_train)\n",
    "logreg_train_acc = logreg.score(X_train, Y_train)\n",
    "logreg_test_acc = logreg.score(X_test, Y_test)\n",
    "print ('logreg training acuracy= ',logreg_train_acc)\n",
    "print('logreg test accuracy= ',logreg_test_acc)"
   ]
  },
  {
   "cell_type": "code",
   "execution_count": 36,
   "metadata": {},
   "outputs": [
    {
     "name": "stdout",
     "output_type": "stream",
     "text": [
      "logreg training acuracy=  0.8\n",
      "logreg test accuracy=  0.5833333333333334\n"
     ]
    }
   ],
   "source": [
    "#random18\n",
    "from sklearn.model_selection import train_test_split\n",
    "train_df, test_df = train_test_split(new_df, test_size=0.2, random_state=600)\n",
    "X_train = train_df.drop('Weight_loss_band', axis=1)\n",
    "Y_train = train_df['Weight_loss_band']  \n",
    "X_test  = test_df.drop('Weight_loss_band', axis=1)\n",
    "Y_test = test_df['Weight_loss_band']  \n",
    "logreg = LogisticRegression()  \n",
    "logreg.fit(X_train, Y_train)\n",
    "logreg_train_acc = logreg.score(X_train, Y_train)\n",
    "logreg_test_acc = logreg.score(X_test, Y_test)\n",
    "print ('logreg training acuracy= ',logreg_train_acc)\n",
    "print('logreg test accuracy= ',logreg_test_acc)"
   ]
  },
  {
   "cell_type": "code",
   "execution_count": 37,
   "metadata": {},
   "outputs": [
    {
     "name": "stdout",
     "output_type": "stream",
     "text": [
      "logreg training acuracy=  0.7777777777777778\n",
      "logreg test accuracy=  0.6666666666666666\n"
     ]
    }
   ],
   "source": [
    "#random19\n",
    "from sklearn.model_selection import train_test_split\n",
    "train_df, test_df = train_test_split(new_df, test_size=0.2, random_state=700)\n",
    "X_train = train_df.drop('Weight_loss_band', axis=1)\n",
    "Y_train = train_df['Weight_loss_band']  \n",
    "X_test  = test_df.drop('Weight_loss_band', axis=1)\n",
    "Y_test = test_df['Weight_loss_band']  \n",
    "logreg = LogisticRegression()  \n",
    "logreg.fit(X_train, Y_train)\n",
    "logreg_train_acc = logreg.score(X_train, Y_train)\n",
    "logreg_test_acc = logreg.score(X_test, Y_test)\n",
    "print ('logreg training acuracy= ',logreg_train_acc)\n",
    "print('logreg test accuracy= ',logreg_test_acc)"
   ]
  },
  {
   "cell_type": "code",
   "execution_count": 38,
   "metadata": {},
   "outputs": [
    {
     "name": "stdout",
     "output_type": "stream",
     "text": [
      "logreg training acuracy=  0.7333333333333333\n",
      "logreg test accuracy=  0.8333333333333334\n"
     ]
    }
   ],
   "source": [
    "#random20\n",
    "from sklearn.model_selection import train_test_split\n",
    "train_df, test_df = train_test_split(new_df, test_size=0.2, random_state=22)\n",
    "X_train = train_df.drop('Weight_loss_band', axis=1)\n",
    "Y_train = train_df['Weight_loss_band']  \n",
    "X_test  = test_df.drop('Weight_loss_band', axis=1)\n",
    "Y_test = test_df['Weight_loss_band']  \n",
    "logreg = LogisticRegression()  \n",
    "logreg.fit(X_train, Y_train)\n",
    "logreg_train_acc = logreg.score(X_train, Y_train)\n",
    "logreg_test_acc = logreg.score(X_test, Y_test)\n",
    "print ('logreg training acuracy= ',logreg_train_acc)\n",
    "print('logreg test accuracy= ',logreg_test_acc)"
   ]
  },
  {
   "cell_type": "code",
   "execution_count": 39,
   "metadata": {},
   "outputs": [],
   "source": [
    "new_df.to_excel(\"demo_steps.xlsx\")"
   ]
  },
  {
   "cell_type": "code",
   "execution_count": null,
   "metadata": {},
   "outputs": [],
   "source": []
  }
 ],
 "metadata": {
  "kernelspec": {
   "display_name": "Python 3",
   "language": "python",
   "name": "python3"
  },
  "language_info": {
   "codemirror_mode": {
    "name": "ipython",
    "version": 3
   },
   "file_extension": ".py",
   "mimetype": "text/x-python",
   "name": "python",
   "nbconvert_exporter": "python",
   "pygments_lexer": "ipython3",
   "version": "3.6.5"
  }
 },
 "nbformat": 4,
 "nbformat_minor": 2
}
