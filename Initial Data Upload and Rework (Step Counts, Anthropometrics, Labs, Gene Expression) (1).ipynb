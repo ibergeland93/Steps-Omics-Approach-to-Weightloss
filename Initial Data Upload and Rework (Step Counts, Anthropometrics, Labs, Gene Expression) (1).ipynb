{
 "cells": [
  {
   "cell_type": "markdown",
   "metadata": {},
   "source": [
    "# Data Importation"
   ]
  },
  {
   "cell_type": "markdown",
   "metadata": {},
   "source": [
    "### Step Count Data"
   ]
  },
  {
   "cell_type": "markdown",
   "metadata": {},
   "source": [
    "This dataset contains 90 days worth of step count data collected for each of the 84 participants depending on their assigned study group. Participants in \"Blue\" study group retained 90 days worth data taken from baseline whereas participants in \"Red\" study group retained 90 days worth of data taken starting from day 90. Data considered for each group were: Date, weight, BMI, and step count.\n",
    "\n",
    "Step count data was imported from a folder containing 66 sub-folders -- one for each participant. Each subfolder contained 18 .csv files for each month of the trial."
   ]
  },
  {
   "cell_type": "code",
   "execution_count": 2,
   "metadata": {},
   "outputs": [],
   "source": [
    "#Uploads .xls files from each step count folder for each participant\n",
    "\n",
    "import os\n",
    "\n",
    "directory_list = []\n",
    "for root, dirs, files in os.walk(\"/Users/ibergeland/Box Sync/Step-Omics/step count data files/\", topdown = False):\n",
    "    for name in dirs:\n",
    "        directory_list.append(os.path.join(root, name))\n",
    "\n",
    "import glob\n",
    "import pandas as pd\n",
    "\n",
    "step_count_activity = pd.DataFrame()\n",
    "filenames = pd.DataFrame()\n",
    "str = '/*.xls'\n",
    "paths = [x + str for x in directory_list]\n",
    "paths.sort()"
   ]
  },
  {
   "cell_type": "markdown",
   "metadata": {},
   "source": [
    "From the Step Count spreadsheets, there are two tabs that we wish to select from the file for our resulting dataframe -- \"Activities\" & \"Body\"."
   ]
  },
  {
   "cell_type": "markdown",
   "metadata": {},
   "source": [
    "#### Activities"
   ]
  },
  {
   "cell_type": "code",
   "execution_count": 3,
   "metadata": {
    "scrolled": false
   },
   "outputs": [],
   "source": [
    "for path in paths:\n",
    "    filenames = glob.glob(path)\n",
    "    for filename in filenames:\n",
    "        df = pd.read_excel(filename, sheet_name='Activities')\n",
    "        df['studyID']=path[60:64]\n",
    "        step_count_activity = step_count_activity.append(df)\n",
    "\n",
    "#Arranges by studyID and then Date in chronological order\n",
    "step_count_activity['Date'] = pd.to_datetime(step_count_activity['Date'])\n",
    "step_count_activity = step_count_activity.sort_values(['studyID','Date'])\n"
   ]
  },
  {
   "cell_type": "code",
   "execution_count": 8,
   "metadata": {},
   "outputs": [
    {
     "data": {
      "text/html": [
       "<div>\n",
       "<style scoped>\n",
       "    .dataframe tbody tr th:only-of-type {\n",
       "        vertical-align: middle;\n",
       "    }\n",
       "\n",
       "    .dataframe tbody tr th {\n",
       "        vertical-align: top;\n",
       "    }\n",
       "\n",
       "    .dataframe thead th {\n",
       "        text-align: right;\n",
       "    }\n",
       "</style>\n",
       "<table border=\"1\" class=\"dataframe\">\n",
       "  <thead>\n",
       "    <tr style=\"text-align: right;\">\n",
       "      <th></th>\n",
       "      <th>Activity Calories</th>\n",
       "      <th>studyID</th>\n",
       "      <th>Date</th>\n",
       "      <th>Calories Burned</th>\n",
       "      <th>Steps</th>\n",
       "      <th>Distance</th>\n",
       "      <th>Floors</th>\n",
       "      <th>Minutes Sedentary</th>\n",
       "      <th>Minutes Lightly Active</th>\n",
       "      <th>Minutes Fairly Active</th>\n",
       "      <th>Minutes Very Active</th>\n",
       "    </tr>\n",
       "  </thead>\n",
       "  <tbody>\n",
       "    <tr>\n",
       "      <th>0</th>\n",
       "      <td>407</td>\n",
       "      <td>2001</td>\n",
       "      <td>2014-11-17</td>\n",
       "      <td>2,422</td>\n",
       "      <td>2,931</td>\n",
       "      <td>1.36</td>\n",
       "      <td>0.0</td>\n",
       "      <td>1,364</td>\n",
       "      <td>31.0</td>\n",
       "      <td>40.0</td>\n",
       "      <td>5</td>\n",
       "    </tr>\n",
       "  </tbody>\n",
       "</table>\n",
       "</div>"
      ],
      "text/plain": [
       "  Activity Calories studyID       Date Calories Burned  Steps  Distance  \\\n",
       "0               407    2001 2014-11-17           2,422  2,931      1.36   \n",
       "\n",
       "   Floors Minutes Sedentary  Minutes Lightly Active  Minutes Fairly Active  \\\n",
       "0     0.0             1,364                    31.0                   40.0   \n",
       "\n",
       "  Minutes Very Active  \n",
       "0                   5  "
      ]
     },
     "execution_count": 8,
     "metadata": {},
     "output_type": "execute_result"
    }
   ],
   "source": [
    "cols = step_count_activity.columns.tolist()\n",
    "cols = cols[-1:] + cols[:-1]\n",
    "step_count_activity = step_count_activity[cols]\n",
    "step_count_activity.head(1)"
   ]
  },
  {
   "cell_type": "markdown",
   "metadata": {},
   "source": [
    "#### Body"
   ]
  },
  {
   "cell_type": "code",
   "execution_count": 5,
   "metadata": {},
   "outputs": [],
   "source": [
    "step_count_body=pd.DataFrame()\n",
    "filenames=pd.DataFrame()\n",
    "str='/*.xls'\n",
    "paths=[x+str for x in directory_list]\n",
    "paths.sort()\n",
    "for path in paths:\n",
    "    filenames = glob.glob(path)\n",
    "    for filename in filenames:\n",
    "        df=pd.read_excel(filename, sheet_name='Body')\n",
    "        df['studyID']=path[60:64]\n",
    "        step_count_body=step_count_body.append(df)\n",
    "        \n",
    "#Arranges by studyID and then Date in chronological order\n",
    "step_count_body['Date'] = pd.to_datetime(step_count_body['Date'])\n",
    "step_count_body = step_count_body.sort_values(['studyID','Date'])"
   ]
  },
  {
   "cell_type": "code",
   "execution_count": 9,
   "metadata": {},
   "outputs": [
    {
     "data": {
      "text/html": [
       "<div>\n",
       "<style scoped>\n",
       "    .dataframe tbody tr th:only-of-type {\n",
       "        vertical-align: middle;\n",
       "    }\n",
       "\n",
       "    .dataframe tbody tr th {\n",
       "        vertical-align: top;\n",
       "    }\n",
       "\n",
       "    .dataframe thead th {\n",
       "        text-align: right;\n",
       "    }\n",
       "</style>\n",
       "<table border=\"1\" class=\"dataframe\">\n",
       "  <thead>\n",
       "    <tr style=\"text-align: right;\">\n",
       "      <th></th>\n",
       "      <th>Fat</th>\n",
       "      <th>studyID</th>\n",
       "      <th>Date</th>\n",
       "      <th>Weight</th>\n",
       "      <th>BMI</th>\n",
       "    </tr>\n",
       "  </thead>\n",
       "  <tbody>\n",
       "    <tr>\n",
       "      <th>0</th>\n",
       "      <td>0.0</td>\n",
       "      <td>2001</td>\n",
       "      <td>2014-11-17</td>\n",
       "      <td>253.4</td>\n",
       "      <td>36.24</td>\n",
       "    </tr>\n",
       "  </tbody>\n",
       "</table>\n",
       "</div>"
      ],
      "text/plain": [
       "   Fat studyID       Date  Weight    BMI\n",
       "0  0.0    2001 2014-11-17   253.4  36.24"
      ]
     },
     "execution_count": 9,
     "metadata": {},
     "output_type": "execute_result"
    }
   ],
   "source": [
    "#Moves studyID to first column\n",
    "cols = step_count_body.columns.tolist()\n",
    "cols = cols[-1:] + cols[:-1]\n",
    "step_count_body = step_count_body[cols]\n",
    "step_count_body.head(1)"
   ]
  },
  {
   "cell_type": "markdown",
   "metadata": {},
   "source": [
    "#### Resulting Dataframe: Activity + Body"
   ]
  },
  {
   "cell_type": "code",
   "execution_count": 10,
   "metadata": {},
   "outputs": [
    {
     "data": {
      "text/html": [
       "<div>\n",
       "<style scoped>\n",
       "    .dataframe tbody tr th:only-of-type {\n",
       "        vertical-align: middle;\n",
       "    }\n",
       "\n",
       "    .dataframe tbody tr th {\n",
       "        vertical-align: top;\n",
       "    }\n",
       "\n",
       "    .dataframe thead th {\n",
       "        text-align: right;\n",
       "    }\n",
       "</style>\n",
       "<table border=\"1\" class=\"dataframe\">\n",
       "  <thead>\n",
       "    <tr style=\"text-align: right;\">\n",
       "      <th></th>\n",
       "      <th>studyID</th>\n",
       "      <th>Steps</th>\n",
       "      <th>Date</th>\n",
       "      <th>Weight</th>\n",
       "      <th>BMI</th>\n",
       "    </tr>\n",
       "  </thead>\n",
       "  <tbody>\n",
       "    <tr>\n",
       "      <th>0</th>\n",
       "      <td>2001</td>\n",
       "      <td>2,931</td>\n",
       "      <td>2014-11-17</td>\n",
       "      <td>253.4</td>\n",
       "      <td>36.24</td>\n",
       "    </tr>\n",
       "  </tbody>\n",
       "</table>\n",
       "</div>"
      ],
      "text/plain": [
       "  studyID  Steps       Date  Weight    BMI\n",
       "0    2001  2,931 2014-11-17   253.4  36.24"
      ]
     },
     "execution_count": 10,
     "metadata": {},
     "output_type": "execute_result"
    }
   ],
   "source": [
    "#This code merges the desired columns from step_count_activity and step_count_body and creates a single dataframe\n",
    "\n",
    "#Selects 'studyID' and 'Steps' columns from step_count_activity tab\n",
    "step_count_activityselect = step_count_activity[['studyID', 'Steps']].copy()\n",
    "\n",
    "#Selects 'Date', 'Weight', and 'BMI' columns from step_count_body tab\n",
    "step_count_bodyselect = step_count_body[['Date','Weight','BMI']].copy()\n",
    "\n",
    "#Merges desired columns from step_count_activity and step_count_body\n",
    "step_count = pd.concat([step_count_activityselect, step_count_bodyselect], axis=1, sort=False)\n",
    "\n",
    "#Displays new step_count dataframe\n",
    "step_count.head(1)"
   ]
  },
  {
   "cell_type": "markdown",
   "metadata": {},
   "source": [
    "### Anthropometrics Data"
   ]
  },
  {
   "cell_type": "markdown",
   "metadata": {},
   "source": [
    "This dataset contains the studyID for each of the 84 participants as well as the check-in dates established baseline, 3 months, and 6 months. There is a \"Red\" or \"Blue\" study group associated with each participant that is used as a mapping for the other datasets."
   ]
  },
  {
   "cell_type": "code",
   "execution_count": 11,
   "metadata": {},
   "outputs": [
    {
     "data": {
      "text/html": [
       "<div>\n",
       "<style scoped>\n",
       "    .dataframe tbody tr th:only-of-type {\n",
       "        vertical-align: middle;\n",
       "    }\n",
       "\n",
       "    .dataframe tbody tr th {\n",
       "        vertical-align: top;\n",
       "    }\n",
       "\n",
       "    .dataframe thead th {\n",
       "        text-align: right;\n",
       "    }\n",
       "</style>\n",
       "<table border=\"1\" class=\"dataframe\">\n",
       "  <thead>\n",
       "    <tr style=\"text-align: right;\">\n",
       "      <th></th>\n",
       "      <th>studyID</th>\n",
       "      <th>CorrectedDate</th>\n",
       "      <th>StudyGroup</th>\n",
       "    </tr>\n",
       "  </thead>\n",
       "  <tbody>\n",
       "    <tr>\n",
       "      <th>0</th>\n",
       "      <td>2001</td>\n",
       "      <td>2014-11-17</td>\n",
       "      <td>Blue</td>\n",
       "    </tr>\n",
       "  </tbody>\n",
       "</table>\n",
       "</div>"
      ],
      "text/plain": [
       "   studyID CorrectedDate StudyGroup\n",
       "0     2001    2014-11-17       Blue"
      ]
     },
     "execution_count": 11,
     "metadata": {},
     "output_type": "execute_result"
    }
   ],
   "source": [
    "#reads in original anthropometrics file\n",
    "anthropometrics = pd.read_csv('F&T anthropometrics.csv')\n",
    "\n",
    "#puts anthropometrics file in correct date format\n",
    "anthropometrics['CorrectedDate'] =  pd.to_datetime(anthropometrics['CorrectedDate'], format='%d-%b-%y',errors='ignore')\n",
    "anthropometrics['CorrectedRVDate'] = pd.to_datetime(anthropometrics['CorrectedRVDate'], format='%d-%b-%y',errors='ignore')\n",
    "\n",
    "#drops unneeded columns from anthropometrics files\n",
    "anthropometrics = anthropometrics.drop(columns = ['Date','RVDate','RVNotes'], axis = 1)\n",
    "\n",
    "#creates new anthropometrics file, \"anthro\", with only the necessary columns included\n",
    "anthro=anthropometrics[['studyID','CorrectedDate','StudyGroup']].copy()\n",
    "\n",
    "#sorts anthro file by CorrectedDate and studyID\n",
    "anthro['CorrectedDate'] = pd.to_datetime(anthro['CorrectedDate'])\n",
    "anthro = anthro.sort_values(['studyID','CorrectedDate'])\n",
    "anthro.head(1)"
   ]
  },
  {
   "cell_type": "markdown",
   "metadata": {},
   "source": [
    "### Labs Data"
   ]
  },
  {
   "cell_type": "markdown",
   "metadata": {},
   "source": [
    "This dataset contains demographic information such as: age, gender, baseline glucose and baseline A1C measurements taken for each of the 84 participants. Additionally there is the associated \"Red\" or \"Blue\" study group that we use to map between datasets."
   ]
  },
  {
   "cell_type": "code",
   "execution_count": 12,
   "metadata": {},
   "outputs": [
    {
     "data": {
      "text/html": [
       "<div>\n",
       "<style scoped>\n",
       "    .dataframe tbody tr th:only-of-type {\n",
       "        vertical-align: middle;\n",
       "    }\n",
       "\n",
       "    .dataframe tbody tr th {\n",
       "        vertical-align: top;\n",
       "    }\n",
       "\n",
       "    .dataframe thead th {\n",
       "        text-align: right;\n",
       "    }\n",
       "</style>\n",
       "<table border=\"1\" class=\"dataframe\">\n",
       "  <thead>\n",
       "    <tr style=\"text-align: right;\">\n",
       "      <th></th>\n",
       "      <th>studyID</th>\n",
       "      <th>StudyGroup</th>\n",
       "      <th>Age</th>\n",
       "      <th>Gender</th>\n",
       "      <th>Bglucose</th>\n",
       "      <th>BA1C</th>\n",
       "      <th>MO3Glucose</th>\n",
       "      <th>MO3A1C</th>\n",
       "      <th>MO6Glucose</th>\n",
       "      <th>MO6A1C</th>\n",
       "    </tr>\n",
       "  </thead>\n",
       "  <tbody>\n",
       "    <tr>\n",
       "      <th>0</th>\n",
       "      <td>2001</td>\n",
       "      <td>1</td>\n",
       "      <td>28</td>\n",
       "      <td>0</td>\n",
       "      <td>101</td>\n",
       "      <td>5.6</td>\n",
       "      <td>83</td>\n",
       "      <td>5.6</td>\n",
       "      <td>94</td>\n",
       "      <td>5.7</td>\n",
       "    </tr>\n",
       "  </tbody>\n",
       "</table>\n",
       "</div>"
      ],
      "text/plain": [
       "   studyID  StudyGroup  Age  Gender  Bglucose  BA1C  MO3Glucose  MO3A1C  \\\n",
       "0     2001           1   28       0       101   5.6          83     5.6   \n",
       "\n",
       "   MO6Glucose  MO6A1C  \n",
       "0          94     5.7  "
      ]
     },
     "execution_count": 12,
     "metadata": {},
     "output_type": "execute_result"
    }
   ],
   "source": [
    "#Imports original labs file\n",
    "labs=pd.read_excel('F&T labs.xlsx')\n",
    "\n",
    "#Corrects date format for Baseline, Month 3, Month 6\n",
    "labs['BFastDate']=pd.to_datetime(labs['BFastDate'], format='%d-%b-%y',errors='ignore')\n",
    "labs['MO3FastDate']=pd.to_datetime(labs['MO3FastDate'], format='%d-%b-%y',errors='ignore')\n",
    "labs['MO6FastDate']=pd.to_datetime(labs['MO6FastDate'], format='%d-%b-%y',errors='ignore')\n",
    "\n",
    "#Drops M06Validity column\n",
    "labs=labs.drop(columns=['MO6Validity'],axis=1)\n",
    "\n",
    "#Creates new Labs df with desired columns\n",
    "Labs=labs[['studyID','StudyGroup','Age','Gender','Bglucose','BA1C','MO3Glucose','MO3A1C','MO6Glucose','MO6A1C']].copy()\n",
    "\n",
    "#Display Labs\n",
    "Labs.head(1)"
   ]
  },
  {
   "cell_type": "markdown",
   "metadata": {},
   "source": [
    "#### Separation - Red & Blue Labs "
   ]
  },
  {
   "cell_type": "markdown",
   "metadata": {},
   "source": [
    "Because participants were separated into 2 different groups, we needed to extract relevant data according to which group they were in. "
   ]
  },
  {
   "cell_type": "code",
   "execution_count": 13,
   "metadata": {},
   "outputs": [],
   "source": [
    "#Imports Python Numpy package\n",
    "import numpy as np\n",
    "\n",
    "#Specifies two new dataframes from Labs: Blue_labs & Red_labs according to their study group\n",
    "Blue_labs = Labs[Labs.StudyGroup == 1]\n",
    "Red_labs = Labs[Labs.StudyGroup == 2]\n",
    "\n",
    "#Replaced 9999 values with NaN\n",
    "Blue_labs = Blue_labs.replace(9999, np.nan)\n",
    "Red_labs = Red_labs.replace(9999, np.nan)\n",
    "\n",
    "#Drops irrelevant column labels\n",
    "Blue_labs.drop(['MO6Glucose','MO6A1C'], axis=1, inplace=True)\n",
    "Red_labs.drop(['Bglucose','BA1C'], axis=1, inplace=True)\n",
    "\n",
    "#Creates dictionary to rename values to Blue and Red\n",
    "mapping_studyGroup = {1: 'Blue', 2: 'Red'}\n",
    "Blue_labs = Blue_labs.replace({'StudyGroup': mapping_studyGroup})\n",
    "Red_labs = Red_labs.replace({'StudyGroup': mapping_studyGroup})\n",
    "\n",
    "#Creates dictionary to rename Male and Female\n",
    "mapping_gender = {0: 'Male', 1: 'Female'}\n",
    "Blue_labs = Blue_labs.replace({'Gender': mapping_gender})\n",
    "Red_labs = Red_labs.replace({'Gender': mapping_gender})"
   ]
  },
  {
   "cell_type": "code",
   "execution_count": 16,
   "metadata": {},
   "outputs": [],
   "source": [
    "#Creates a copy of anthro file\n",
    "anthro=anthropometrics[['studyID','CorrectedDate','StudyGroup']].copy()\n",
    "\n",
    "#Creates a dictionary from anthro file to connect studyID to StudyGroup\n",
    "mapping = dict(anthro[['studyID','StudyGroup']].values)\n",
    "\n",
    "#Creates new column in step_count with StudyGroup label\n",
    "step_count['StudyGroup'] = step_count.studyID.replace(mapping, inplace = True)"
   ]
  },
  {
   "cell_type": "code",
   "execution_count": 17,
   "metadata": {},
   "outputs": [
    {
     "data": {
      "text/html": [
       "<div>\n",
       "<style scoped>\n",
       "    .dataframe tbody tr th:only-of-type {\n",
       "        vertical-align: middle;\n",
       "    }\n",
       "\n",
       "    .dataframe tbody tr th {\n",
       "        vertical-align: top;\n",
       "    }\n",
       "\n",
       "    .dataframe thead th {\n",
       "        text-align: right;\n",
       "    }\n",
       "</style>\n",
       "<table border=\"1\" class=\"dataframe\">\n",
       "  <thead>\n",
       "    <tr style=\"text-align: right;\">\n",
       "      <th></th>\n",
       "      <th>studyID</th>\n",
       "      <th>Steps</th>\n",
       "      <th>Date</th>\n",
       "      <th>Weight</th>\n",
       "      <th>BMI</th>\n",
       "      <th>StudyGroup</th>\n",
       "    </tr>\n",
       "  </thead>\n",
       "  <tbody>\n",
       "    <tr>\n",
       "      <th>0</th>\n",
       "      <td>2001</td>\n",
       "      <td>2,931</td>\n",
       "      <td>11/17/14</td>\n",
       "      <td>253.4</td>\n",
       "      <td>36.24</td>\n",
       "      <td>Blue</td>\n",
       "    </tr>\n",
       "  </tbody>\n",
       "</table>\n",
       "</div>"
      ],
      "text/plain": [
       "   studyID  Steps      Date  Weight    BMI StudyGroup\n",
       "0     2001  2,931  11/17/14   253.4  36.24       Blue"
      ]
     },
     "execution_count": 17,
     "metadata": {},
     "output_type": "execute_result"
    }
   ],
   "source": [
    "#Manually added study group\n",
    "step_count_new = pd.read_csv('step_count_new.csv')\n",
    "step_count_new.head(1)"
   ]
  },
  {
   "cell_type": "markdown",
   "metadata": {},
   "source": [
    "### Gene Expression "
   ]
  },
  {
   "cell_type": "markdown",
   "metadata": {},
   "source": [
    "This dataset contains the ensemble geneID gene expression for each of the 84 participants taken at baseline, 3 months, and 6 months. We normalized this dataset during feature engineering to contained normalized counts per million of gene expression data. We utilized the external HUGO Database to rename ensemble geneID's into HGNC gene ID's so that would could implement KEGG Pathways analysis of our gene expression data."
   ]
  },
  {
   "cell_type": "code",
   "execution_count": 19,
   "metadata": {},
   "outputs": [
    {
     "data": {
      "text/html": [
       "<div>\n",
       "<style scoped>\n",
       "    .dataframe tbody tr th:only-of-type {\n",
       "        vertical-align: middle;\n",
       "    }\n",
       "\n",
       "    .dataframe tbody tr th {\n",
       "        vertical-align: top;\n",
       "    }\n",
       "\n",
       "    .dataframe thead th {\n",
       "        text-align: right;\n",
       "    }\n",
       "</style>\n",
       "<table border=\"1\" class=\"dataframe\">\n",
       "  <thead>\n",
       "    <tr style=\"text-align: right;\">\n",
       "      <th></th>\n",
       "      <th>2001-01</th>\n",
       "      <th>2001-02</th>\n",
       "      <th>2001-03</th>\n",
       "      <th>2002-01</th>\n",
       "      <th>2002-02</th>\n",
       "      <th>2002-03</th>\n",
       "      <th>2003-01</th>\n",
       "      <th>2003-02</th>\n",
       "      <th>2003-03</th>\n",
       "      <th>2004-01</th>\n",
       "      <th>...</th>\n",
       "      <th>2082-03</th>\n",
       "      <th>2083-01</th>\n",
       "      <th>2083-02</th>\n",
       "      <th>2083-03</th>\n",
       "      <th>2084-01</th>\n",
       "      <th>2084-02</th>\n",
       "      <th>2084-03</th>\n",
       "      <th>2085-01</th>\n",
       "      <th>2085-02</th>\n",
       "      <th>2085-03</th>\n",
       "    </tr>\n",
       "  </thead>\n",
       "  <tbody>\n",
       "    <tr>\n",
       "      <th>ENSG00000223972.5</th>\n",
       "      <td>0</td>\n",
       "      <td>0</td>\n",
       "      <td>0</td>\n",
       "      <td>0</td>\n",
       "      <td>0</td>\n",
       "      <td>0</td>\n",
       "      <td>0</td>\n",
       "      <td>0</td>\n",
       "      <td>0</td>\n",
       "      <td>1</td>\n",
       "      <td>...</td>\n",
       "      <td>0</td>\n",
       "      <td>0</td>\n",
       "      <td>0</td>\n",
       "      <td>0</td>\n",
       "      <td>0</td>\n",
       "      <td>0</td>\n",
       "      <td>0</td>\n",
       "      <td>0</td>\n",
       "      <td>0</td>\n",
       "      <td>0</td>\n",
       "    </tr>\n",
       "  </tbody>\n",
       "</table>\n",
       "<p>1 rows × 176 columns</p>\n",
       "</div>"
      ],
      "text/plain": [
       "                   2001-01  2001-02  2001-03  2002-01  2002-02  2002-03  \\\n",
       "ENSG00000223972.5        0        0        0        0        0        0   \n",
       "\n",
       "                   2003-01  2003-02  2003-03  2004-01   ...     2082-03  \\\n",
       "ENSG00000223972.5        0        0        0        1   ...           0   \n",
       "\n",
       "                   2083-01  2083-02  2083-03  2084-01  2084-02  2084-03  \\\n",
       "ENSG00000223972.5        0        0        0        0        0        0   \n",
       "\n",
       "                   2085-01  2085-02  2085-03  \n",
       "ENSG00000223972.5        0        0        0  \n",
       "\n",
       "[1 rows x 176 columns]"
      ]
     },
     "execution_count": 19,
     "metadata": {},
     "output_type": "execute_result"
    }
   ],
   "source": [
    "#Imports Original Gene Expression data (counts file)\n",
    "counts = pd.read_csv('counts.csv', index_col = 0)\n",
    "\n",
    "#Drops first four columns\n",
    "gene_counts_df = counts.drop(labels = ['N_unmapped', 'N_multimapping', 'N_noFeature', 'N_ambiguous'], axis = 0)\n",
    "\n",
    "#Display\n",
    "gene_counts_df.head(1)"
   ]
  },
  {
   "cell_type": "code",
   "execution_count": null,
   "metadata": {},
   "outputs": [],
   "source": []
  }
 ],
 "metadata": {
  "kernelspec": {
   "display_name": "Python 3",
   "language": "python",
   "name": "python3"
  },
  "language_info": {
   "codemirror_mode": {
    "name": "ipython",
    "version": 3
   },
   "file_extension": ".py",
   "mimetype": "text/x-python",
   "name": "python",
   "nbconvert_exporter": "python",
   "pygments_lexer": "ipython3",
   "version": "3.7.1"
  }
 },
 "nbformat": 4,
 "nbformat_minor": 2
}
