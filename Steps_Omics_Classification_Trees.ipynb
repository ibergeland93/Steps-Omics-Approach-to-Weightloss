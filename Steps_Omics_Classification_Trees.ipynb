{
 "cells": [
  {
   "cell_type": "markdown",
   "metadata": {},
   "source": [
    "## Classification Trees"
   ]
  },
  {
   "cell_type": "code",
   "execution_count": 12,
   "metadata": {},
   "outputs": [
    {
     "name": "stdout",
     "output_type": "stream",
     "text": [
      "Requirement already satisfied: pydotplus in /Users/marikitamarinaki/anaconda3/lib/python3.7/site-packages (2.0.2)\n",
      "Requirement already satisfied: pyparsing>=2.0.1 in /Users/marikitamarinaki/anaconda3/lib/python3.7/site-packages (from pydotplus) (2.3.0)\n",
      "Requirement already satisfied: graphviz in /Users/marikitamarinaki/anaconda3/lib/python3.7/site-packages (0.10.1)\n"
     ]
    }
   ],
   "source": [
    "import pandas as pd\n",
    "import numpy as np\n",
    "from sklearn.model_selection import train_test_split\n",
    "from sklearn import ensemble\n",
    "from sklearn.metrics import mean_squared_error\n",
    "from sklearn import metrics\n",
    "import matplotlib.pyplot as plt\n",
    "import numpy as np\n",
    "from sklearn.ensemble import RandomForestClassifier\n",
    "from sklearn.model_selection import RandomizedSearchCV\n",
    "from sklearn.model_selection import GridSearchCV\n",
    "from sklearn.tree import DecisionTreeRegressor\n",
    "from sklearn.linear_model import LogisticRegression\n",
    "from sklearn.tree import DecisionTreeClassifier\n",
    "from sklearn.metrics import accuracy_score\n",
    "from sklearn.metrics import roc_curve, roc_auc_score\n",
    "from sklearn.tree import export_graphviz\n",
    "from subprocess import call\n",
    "from IPython.display import Image\n",
    "! python -m pip install pydotplus\n",
    "! pip install graphviz\n",
    "import statistics\n",
    "from sklearn.model_selection import cross_val_score\n",
    "from sklearn.metrics import confusion_matrix\n",
    "from sklearn.metrics import average_precision_score\n",
    "from sklearn.metrics import f1_score\n",
    "from sklearn.preprocessing import LabelBinarizer\n",
    "import warnings\n",
    "warnings.filterwarnings('ignore')\n",
    "from sklearn.model_selection import cross_val_score\n",
    "from sklearn.metrics import average_precision_score\n",
    "from sklearn.metrics import recall_score"
   ]
  },
  {
   "cell_type": "code",
   "execution_count": 2,
   "metadata": {},
   "outputs": [
    {
     "data": {
      "text/html": [
       "<div>\n",
       "<style scoped>\n",
       "    .dataframe tbody tr th:only-of-type {\n",
       "        vertical-align: middle;\n",
       "    }\n",
       "\n",
       "    .dataframe tbody tr th {\n",
       "        vertical-align: top;\n",
       "    }\n",
       "\n",
       "    .dataframe thead th {\n",
       "        text-align: right;\n",
       "    }\n",
       "</style>\n",
       "<table border=\"1\" class=\"dataframe\">\n",
       "  <thead>\n",
       "    <tr style=\"text-align: right;\">\n",
       "      <th></th>\n",
       "      <th>Group</th>\n",
       "      <th>Age</th>\n",
       "      <th>Gender</th>\n",
       "      <th>BMI</th>\n",
       "      <th>Weight_loss_band</th>\n",
       "      <th>Steps</th>\n",
       "      <th>path:hsa03040-mean</th>\n",
       "      <th>path:hsa03040-variance</th>\n",
       "      <th>path:hsa03050-mean</th>\n",
       "      <th>path:hsa03050-variance</th>\n",
       "      <th>path:hsa03060-mean</th>\n",
       "      <th>path:hsa03060-variance</th>\n",
       "      <th>path:hsa04130-mean</th>\n",
       "      <th>path:hsa04130-variance</th>\n",
       "      <th>path:hsa04141-mean</th>\n",
       "      <th>path:hsa04141-variance</th>\n",
       "      <th>path:hsa04662-mean</th>\n",
       "      <th>path:hsa04662-variance</th>\n",
       "      <th>path:hsa05220-mean</th>\n",
       "      <th>path:hsa05220-variance</th>\n",
       "    </tr>\n",
       "    <tr>\n",
       "      <th>studyID</th>\n",
       "      <th></th>\n",
       "      <th></th>\n",
       "      <th></th>\n",
       "      <th></th>\n",
       "      <th></th>\n",
       "      <th></th>\n",
       "      <th></th>\n",
       "      <th></th>\n",
       "      <th></th>\n",
       "      <th></th>\n",
       "      <th></th>\n",
       "      <th></th>\n",
       "      <th></th>\n",
       "      <th></th>\n",
       "      <th></th>\n",
       "      <th></th>\n",
       "      <th></th>\n",
       "      <th></th>\n",
       "      <th></th>\n",
       "      <th></th>\n",
       "    </tr>\n",
       "  </thead>\n",
       "  <tbody>\n",
       "    <tr>\n",
       "      <th>2001</th>\n",
       "      <td>0</td>\n",
       "      <td>28</td>\n",
       "      <td>0</td>\n",
       "      <td>36.24</td>\n",
       "      <td>1</td>\n",
       "      <td>10723.455560</td>\n",
       "      <td>86.154219</td>\n",
       "      <td>21800.778330</td>\n",
       "      <td>79.794511</td>\n",
       "      <td>7178.102233</td>\n",
       "      <td>72.230671</td>\n",
       "      <td>3886.474530</td>\n",
       "      <td>50.664777</td>\n",
       "      <td>1633.094649</td>\n",
       "      <td>98.424988</td>\n",
       "      <td>49954.700680</td>\n",
       "      <td>159.915149</td>\n",
       "      <td>37825.957920</td>\n",
       "      <td>107.235180</td>\n",
       "      <td>21103.621460</td>\n",
       "    </tr>\n",
       "    <tr>\n",
       "      <th>2002</th>\n",
       "      <td>1</td>\n",
       "      <td>38</td>\n",
       "      <td>1</td>\n",
       "      <td>35.71</td>\n",
       "      <td>0</td>\n",
       "      <td>4654.916667</td>\n",
       "      <td>97.584318</td>\n",
       "      <td>15007.706570</td>\n",
       "      <td>68.788322</td>\n",
       "      <td>3862.390316</td>\n",
       "      <td>101.742322</td>\n",
       "      <td>5646.975137</td>\n",
       "      <td>43.465865</td>\n",
       "      <td>1679.074231</td>\n",
       "      <td>84.057955</td>\n",
       "      <td>15199.893980</td>\n",
       "      <td>102.296825</td>\n",
       "      <td>9691.314802</td>\n",
       "      <td>73.110464</td>\n",
       "      <td>5785.362121</td>\n",
       "    </tr>\n",
       "    <tr>\n",
       "      <th>2003</th>\n",
       "      <td>0</td>\n",
       "      <td>26</td>\n",
       "      <td>1</td>\n",
       "      <td>42.80</td>\n",
       "      <td>0</td>\n",
       "      <td>5675.133333</td>\n",
       "      <td>95.057381</td>\n",
       "      <td>12617.681560</td>\n",
       "      <td>68.462327</td>\n",
       "      <td>3563.701033</td>\n",
       "      <td>102.477762</td>\n",
       "      <td>11260.700280</td>\n",
       "      <td>49.024537</td>\n",
       "      <td>1575.377166</td>\n",
       "      <td>82.168618</td>\n",
       "      <td>11999.813860</td>\n",
       "      <td>106.311380</td>\n",
       "      <td>13742.844300</td>\n",
       "      <td>74.360748</td>\n",
       "      <td>5684.006951</td>\n",
       "    </tr>\n",
       "    <tr>\n",
       "      <th>2004</th>\n",
       "      <td>1</td>\n",
       "      <td>60</td>\n",
       "      <td>0</td>\n",
       "      <td>26.72</td>\n",
       "      <td>1</td>\n",
       "      <td>9855.843373</td>\n",
       "      <td>88.907581</td>\n",
       "      <td>18117.487590</td>\n",
       "      <td>82.024351</td>\n",
       "      <td>7074.260758</td>\n",
       "      <td>82.144727</td>\n",
       "      <td>4236.446791</td>\n",
       "      <td>48.366668</td>\n",
       "      <td>2024.659491</td>\n",
       "      <td>97.786337</td>\n",
       "      <td>50042.642200</td>\n",
       "      <td>127.510289</td>\n",
       "      <td>20393.076990</td>\n",
       "      <td>87.864261</td>\n",
       "      <td>10414.037840</td>\n",
       "    </tr>\n",
       "    <tr>\n",
       "      <th>2006</th>\n",
       "      <td>1</td>\n",
       "      <td>48</td>\n",
       "      <td>1</td>\n",
       "      <td>43.89</td>\n",
       "      <td>0</td>\n",
       "      <td>7595.388889</td>\n",
       "      <td>84.981499</td>\n",
       "      <td>9910.820112</td>\n",
       "      <td>79.067493</td>\n",
       "      <td>6394.689793</td>\n",
       "      <td>96.999589</td>\n",
       "      <td>9473.002696</td>\n",
       "      <td>48.343406</td>\n",
       "      <td>1081.223172</td>\n",
       "      <td>75.811154</td>\n",
       "      <td>9582.504013</td>\n",
       "      <td>129.117374</td>\n",
       "      <td>18994.681880</td>\n",
       "      <td>80.114105</td>\n",
       "      <td>6362.957057</td>\n",
       "    </tr>\n",
       "  </tbody>\n",
       "</table>\n",
       "</div>"
      ],
      "text/plain": [
       "         Group  Age  Gender    BMI  Weight_loss_band         Steps  \\\n",
       "studyID                                                              \n",
       "2001         0   28       0  36.24                 1  10723.455560   \n",
       "2002         1   38       1  35.71                 0   4654.916667   \n",
       "2003         0   26       1  42.80                 0   5675.133333   \n",
       "2004         1   60       0  26.72                 1   9855.843373   \n",
       "2006         1   48       1  43.89                 0   7595.388889   \n",
       "\n",
       "         path:hsa03040-mean  path:hsa03040-variance  path:hsa03050-mean  \\\n",
       "studyID                                                                   \n",
       "2001              86.154219            21800.778330           79.794511   \n",
       "2002              97.584318            15007.706570           68.788322   \n",
       "2003              95.057381            12617.681560           68.462327   \n",
       "2004              88.907581            18117.487590           82.024351   \n",
       "2006              84.981499             9910.820112           79.067493   \n",
       "\n",
       "         path:hsa03050-variance  path:hsa03060-mean  path:hsa03060-variance  \\\n",
       "studyID                                                                       \n",
       "2001                7178.102233           72.230671             3886.474530   \n",
       "2002                3862.390316          101.742322             5646.975137   \n",
       "2003                3563.701033          102.477762            11260.700280   \n",
       "2004                7074.260758           82.144727             4236.446791   \n",
       "2006                6394.689793           96.999589             9473.002696   \n",
       "\n",
       "         path:hsa04130-mean  path:hsa04130-variance  path:hsa04141-mean  \\\n",
       "studyID                                                                   \n",
       "2001              50.664777             1633.094649           98.424988   \n",
       "2002              43.465865             1679.074231           84.057955   \n",
       "2003              49.024537             1575.377166           82.168618   \n",
       "2004              48.366668             2024.659491           97.786337   \n",
       "2006              48.343406             1081.223172           75.811154   \n",
       "\n",
       "         path:hsa04141-variance  path:hsa04662-mean  path:hsa04662-variance  \\\n",
       "studyID                                                                       \n",
       "2001               49954.700680          159.915149            37825.957920   \n",
       "2002               15199.893980          102.296825             9691.314802   \n",
       "2003               11999.813860          106.311380            13742.844300   \n",
       "2004               50042.642200          127.510289            20393.076990   \n",
       "2006                9582.504013          129.117374            18994.681880   \n",
       "\n",
       "         path:hsa05220-mean  path:hsa05220-variance  \n",
       "studyID                                              \n",
       "2001             107.235180            21103.621460  \n",
       "2002              73.110464             5785.362121  \n",
       "2003              74.360748             5684.006951  \n",
       "2004              87.864261            10414.037840  \n",
       "2006              80.114105             6362.957057  "
      ]
     },
     "execution_count": 2,
     "metadata": {},
     "output_type": "execute_result"
    }
   ],
   "source": [
    "pathways = pd.read_csv('KEGG_7pathways_steps.csv')\n",
    "pathways = pathways.drop(['Unnamed: 0'], axis=1)\n",
    "pathways.set_index('studyID', inplace = True)\n",
    "pathways.head()"
   ]
  },
  {
   "cell_type": "code",
   "execution_count": 3,
   "metadata": {},
   "outputs": [
    {
     "data": {
      "text/html": [
       "<div>\n",
       "<style scoped>\n",
       "    .dataframe tbody tr th:only-of-type {\n",
       "        vertical-align: middle;\n",
       "    }\n",
       "\n",
       "    .dataframe tbody tr th {\n",
       "        vertical-align: top;\n",
       "    }\n",
       "\n",
       "    .dataframe thead th {\n",
       "        text-align: right;\n",
       "    }\n",
       "</style>\n",
       "<table border=\"1\" class=\"dataframe\">\n",
       "  <thead>\n",
       "    <tr style=\"text-align: right;\">\n",
       "      <th></th>\n",
       "      <th>Group</th>\n",
       "      <th>Age</th>\n",
       "      <th>Gender</th>\n",
       "      <th>BMI</th>\n",
       "      <th>Weight_loss_band</th>\n",
       "      <th>Steps</th>\n",
       "    </tr>\n",
       "    <tr>\n",
       "      <th>studyID</th>\n",
       "      <th></th>\n",
       "      <th></th>\n",
       "      <th></th>\n",
       "      <th></th>\n",
       "      <th></th>\n",
       "      <th></th>\n",
       "    </tr>\n",
       "  </thead>\n",
       "  <tbody>\n",
       "    <tr>\n",
       "      <th>2001</th>\n",
       "      <td>0</td>\n",
       "      <td>28</td>\n",
       "      <td>0</td>\n",
       "      <td>36.24</td>\n",
       "      <td>1</td>\n",
       "      <td>10723.455560</td>\n",
       "    </tr>\n",
       "    <tr>\n",
       "      <th>2002</th>\n",
       "      <td>1</td>\n",
       "      <td>38</td>\n",
       "      <td>1</td>\n",
       "      <td>35.71</td>\n",
       "      <td>0</td>\n",
       "      <td>4654.916667</td>\n",
       "    </tr>\n",
       "    <tr>\n",
       "      <th>2003</th>\n",
       "      <td>0</td>\n",
       "      <td>26</td>\n",
       "      <td>1</td>\n",
       "      <td>42.80</td>\n",
       "      <td>0</td>\n",
       "      <td>5675.133333</td>\n",
       "    </tr>\n",
       "    <tr>\n",
       "      <th>2004</th>\n",
       "      <td>1</td>\n",
       "      <td>60</td>\n",
       "      <td>0</td>\n",
       "      <td>26.72</td>\n",
       "      <td>1</td>\n",
       "      <td>9855.843373</td>\n",
       "    </tr>\n",
       "    <tr>\n",
       "      <th>2006</th>\n",
       "      <td>1</td>\n",
       "      <td>48</td>\n",
       "      <td>1</td>\n",
       "      <td>43.89</td>\n",
       "      <td>0</td>\n",
       "      <td>7595.388889</td>\n",
       "    </tr>\n",
       "  </tbody>\n",
       "</table>\n",
       "</div>"
      ],
      "text/plain": [
       "         Group  Age  Gender    BMI  Weight_loss_band         Steps\n",
       "studyID                                                           \n",
       "2001         0   28       0  36.24                 1  10723.455560\n",
       "2002         1   38       1  35.71                 0   4654.916667\n",
       "2003         0   26       1  42.80                 0   5675.133333\n",
       "2004         1   60       0  26.72                 1   9855.843373\n",
       "2006         1   48       1  43.89                 0   7595.388889"
      ]
     },
     "execution_count": 3,
     "metadata": {},
     "output_type": "execute_result"
    }
   ],
   "source": [
    "steps = pathways.drop(['path:hsa03040-mean',\n",
    "       'path:hsa03040-variance', 'path:hsa03050-mean',\n",
    "       'path:hsa03050-variance', 'path:hsa03060-mean',\n",
    "       'path:hsa03060-variance', 'path:hsa04130-mean',\n",
    "       'path:hsa04130-variance', 'path:hsa04141-mean',\n",
    "       'path:hsa04141-variance', 'path:hsa04662-mean',\n",
    "       'path:hsa04662-variance', 'path:hsa05220-mean',\n",
    "       'path:hsa05220-variance'], axis=1)\n",
    "steps.head()"
   ]
  },
  {
   "cell_type": "code",
   "execution_count": 4,
   "metadata": {},
   "outputs": [
    {
     "data": {
      "text/html": [
       "<div>\n",
       "<style scoped>\n",
       "    .dataframe tbody tr th:only-of-type {\n",
       "        vertical-align: middle;\n",
       "    }\n",
       "\n",
       "    .dataframe tbody tr th {\n",
       "        vertical-align: top;\n",
       "    }\n",
       "\n",
       "    .dataframe thead th {\n",
       "        text-align: right;\n",
       "    }\n",
       "</style>\n",
       "<table border=\"1\" class=\"dataframe\">\n",
       "  <thead>\n",
       "    <tr style=\"text-align: right;\">\n",
       "      <th></th>\n",
       "      <th>PC1</th>\n",
       "      <th>PC2</th>\n",
       "      <th>PC3</th>\n",
       "      <th>PC4</th>\n",
       "      <th>PC5</th>\n",
       "      <th>Gender</th>\n",
       "      <th>BMI</th>\n",
       "      <th>Weight_loss_band</th>\n",
       "      <th>Steps</th>\n",
       "    </tr>\n",
       "    <tr>\n",
       "      <th>studyID</th>\n",
       "      <th></th>\n",
       "      <th></th>\n",
       "      <th></th>\n",
       "      <th></th>\n",
       "      <th></th>\n",
       "      <th></th>\n",
       "      <th></th>\n",
       "      <th></th>\n",
       "      <th></th>\n",
       "    </tr>\n",
       "  </thead>\n",
       "  <tbody>\n",
       "    <tr>\n",
       "      <th>2001</th>\n",
       "      <td>8.061646</td>\n",
       "      <td>-5.761836</td>\n",
       "      <td>-4.841193</td>\n",
       "      <td>-2.171323</td>\n",
       "      <td>-2.788218</td>\n",
       "      <td>0</td>\n",
       "      <td>36.24</td>\n",
       "      <td>1</td>\n",
       "      <td>10723.455560</td>\n",
       "    </tr>\n",
       "    <tr>\n",
       "      <th>2002</th>\n",
       "      <td>8.430937</td>\n",
       "      <td>6.946562</td>\n",
       "      <td>1.794457</td>\n",
       "      <td>-0.015105</td>\n",
       "      <td>-3.024961</td>\n",
       "      <td>1</td>\n",
       "      <td>35.71</td>\n",
       "      <td>0</td>\n",
       "      <td>4654.916667</td>\n",
       "    </tr>\n",
       "    <tr>\n",
       "      <th>2003</th>\n",
       "      <td>8.256683</td>\n",
       "      <td>8.288072</td>\n",
       "      <td>2.570019</td>\n",
       "      <td>-0.302641</td>\n",
       "      <td>-3.554665</td>\n",
       "      <td>1</td>\n",
       "      <td>42.80</td>\n",
       "      <td>0</td>\n",
       "      <td>5675.133333</td>\n",
       "    </tr>\n",
       "    <tr>\n",
       "      <th>2004</th>\n",
       "      <td>8.376866</td>\n",
       "      <td>-0.916554</td>\n",
       "      <td>-6.212482</td>\n",
       "      <td>1.182002</td>\n",
       "      <td>-0.328640</td>\n",
       "      <td>0</td>\n",
       "      <td>26.72</td>\n",
       "      <td>1</td>\n",
       "      <td>9855.843373</td>\n",
       "    </tr>\n",
       "    <tr>\n",
       "      <th>2006</th>\n",
       "      <td>8.258802</td>\n",
       "      <td>0.870977</td>\n",
       "      <td>4.219331</td>\n",
       "      <td>0.654543</td>\n",
       "      <td>-3.580225</td>\n",
       "      <td>1</td>\n",
       "      <td>43.89</td>\n",
       "      <td>0</td>\n",
       "      <td>7595.388889</td>\n",
       "    </tr>\n",
       "  </tbody>\n",
       "</table>\n",
       "</div>"
      ],
      "text/plain": [
       "              PC1       PC2       PC3       PC4       PC5  Gender    BMI  \\\n",
       "studyID                                                                    \n",
       "2001     8.061646 -5.761836 -4.841193 -2.171323 -2.788218       0  36.24   \n",
       "2002     8.430937  6.946562  1.794457 -0.015105 -3.024961       1  35.71   \n",
       "2003     8.256683  8.288072  2.570019 -0.302641 -3.554665       1  42.80   \n",
       "2004     8.376866 -0.916554 -6.212482  1.182002 -0.328640       0  26.72   \n",
       "2006     8.258802  0.870977  4.219331  0.654543 -3.580225       1  43.89   \n",
       "\n",
       "         Weight_loss_band         Steps  \n",
       "studyID                                  \n",
       "2001                    1  10723.455560  \n",
       "2002                    0   4654.916667  \n",
       "2003                    0   5675.133333  \n",
       "2004                    1   9855.843373  \n",
       "2006                    0   7595.388889  "
      ]
     },
     "execution_count": 4,
     "metadata": {},
     "output_type": "execute_result"
    }
   ],
   "source": [
    "pcs = pd.read_csv('PC_final result(use in modeling) (1).csv')\n",
    "pcs = pcs.iloc[:,:6]\n",
    "pcs.set_index('studyID',inplace = True)\n",
    "pathways_2 = pd.read_csv('KEGG_7pathways_steps.csv')\n",
    "pathways_2 = pathways_2.drop(['Unnamed: 0', 'Group', 'Age', \n",
    "       'path:hsa03040-mean',\n",
    "       'path:hsa03040-variance', 'path:hsa03050-mean',\n",
    "       'path:hsa03050-variance', 'path:hsa03060-mean',\n",
    "       'path:hsa03060-variance', 'path:hsa04130-mean',\n",
    "       'path:hsa04130-variance', 'path:hsa04141-mean',\n",
    "       'path:hsa04141-variance', 'path:hsa04662-mean',\n",
    "       'path:hsa04662-variance', 'path:hsa05220-mean',\n",
    "       'path:hsa05220-variance'], axis=1)\n",
    "pathways_2.set_index('studyID', inplace = True)\n",
    "pcs = pcs.merge(pathways_2, how = 'outer', on ='studyID')\n",
    "pcs.head()"
   ]
  },
  {
   "cell_type": "markdown",
   "metadata": {},
   "source": [
    "## Demographics"
   ]
  },
  {
   "cell_type": "code",
   "execution_count": 5,
   "metadata": {},
   "outputs": [],
   "source": [
    "demographics = pathways.drop(['Steps','path:hsa03040-mean',\n",
    "       'path:hsa03040-variance', 'path:hsa03050-mean',\n",
    "       'path:hsa03050-variance', 'path:hsa03060-mean',\n",
    "       'path:hsa03060-variance', 'path:hsa04130-mean',\n",
    "       'path:hsa04130-variance', 'path:hsa04141-mean',\n",
    "       'path:hsa04141-variance', 'path:hsa04662-mean',\n",
    "       'path:hsa04662-variance', 'path:hsa05220-mean',\n",
    "       'path:hsa05220-variance'], axis = 1)\n"
   ]
  },
  {
   "cell_type": "code",
   "execution_count": 6,
   "metadata": {},
   "outputs": [
    {
     "data": {
      "text/html": [
       "<div>\n",
       "<style scoped>\n",
       "    .dataframe tbody tr th:only-of-type {\n",
       "        vertical-align: middle;\n",
       "    }\n",
       "\n",
       "    .dataframe tbody tr th {\n",
       "        vertical-align: top;\n",
       "    }\n",
       "\n",
       "    .dataframe thead th {\n",
       "        text-align: right;\n",
       "    }\n",
       "</style>\n",
       "<table border=\"1\" class=\"dataframe\">\n",
       "  <thead>\n",
       "    <tr style=\"text-align: right;\">\n",
       "      <th></th>\n",
       "      <th>Group</th>\n",
       "      <th>Age</th>\n",
       "      <th>Gender</th>\n",
       "      <th>BMI</th>\n",
       "      <th>Weight_loss_band</th>\n",
       "    </tr>\n",
       "    <tr>\n",
       "      <th>studyID</th>\n",
       "      <th></th>\n",
       "      <th></th>\n",
       "      <th></th>\n",
       "      <th></th>\n",
       "      <th></th>\n",
       "    </tr>\n",
       "  </thead>\n",
       "  <tbody>\n",
       "    <tr>\n",
       "      <th>2001</th>\n",
       "      <td>0</td>\n",
       "      <td>28</td>\n",
       "      <td>0</td>\n",
       "      <td>36.24</td>\n",
       "      <td>1</td>\n",
       "    </tr>\n",
       "    <tr>\n",
       "      <th>2002</th>\n",
       "      <td>1</td>\n",
       "      <td>38</td>\n",
       "      <td>1</td>\n",
       "      <td>35.71</td>\n",
       "      <td>0</td>\n",
       "    </tr>\n",
       "    <tr>\n",
       "      <th>2003</th>\n",
       "      <td>0</td>\n",
       "      <td>26</td>\n",
       "      <td>1</td>\n",
       "      <td>42.80</td>\n",
       "      <td>0</td>\n",
       "    </tr>\n",
       "    <tr>\n",
       "      <th>2004</th>\n",
       "      <td>1</td>\n",
       "      <td>60</td>\n",
       "      <td>0</td>\n",
       "      <td>26.72</td>\n",
       "      <td>1</td>\n",
       "    </tr>\n",
       "    <tr>\n",
       "      <th>2006</th>\n",
       "      <td>1</td>\n",
       "      <td>48</td>\n",
       "      <td>1</td>\n",
       "      <td>43.89</td>\n",
       "      <td>0</td>\n",
       "    </tr>\n",
       "  </tbody>\n",
       "</table>\n",
       "</div>"
      ],
      "text/plain": [
       "         Group  Age  Gender    BMI  Weight_loss_band\n",
       "studyID                                             \n",
       "2001         0   28       0  36.24                 1\n",
       "2002         1   38       1  35.71                 0\n",
       "2003         0   26       1  42.80                 0\n",
       "2004         1   60       0  26.72                 1\n",
       "2006         1   48       1  43.89                 0"
      ]
     },
     "execution_count": 6,
     "metadata": {},
     "output_type": "execute_result"
    }
   ],
   "source": [
    "demographics.head()"
   ]
  },
  {
   "cell_type": "markdown",
   "metadata": {},
   "source": [
    "First let's do some hyperparameter tuning, by  exhaustive grid search"
   ]
  },
  {
   "cell_type": "code",
   "execution_count": 7,
   "metadata": {},
   "outputs": [],
   "source": [
    "param_grid = {'criterion': ['gini','entropy'],\n",
    "              \"min_samples_split\": [2, 10, 20],\n",
    "              \"max_depth\": [None, 2, 5, 10],\n",
    "              \"min_samples_leaf\": [1, 5, 10],\n",
    "              \"max_leaf_nodes\": [None, 5, 10, 20],\n",
    "              }"
   ]
  },
  {
   "cell_type": "code",
   "execution_count": 8,
   "metadata": {},
   "outputs": [],
   "source": [
    "X_dem = demographics[['Group', 'Age', 'Gender', 'BMI']]\n",
    "Y_dem = demographics['Weight_loss_band']                  \n",
    "X_train_dem, X_test_dem, y_train_dem, y_test_dem = train_test_split(X_dem,Y_dem, test_size = 0.3, random_state=42)"
   ]
  },
  {
   "cell_type": "code",
   "execution_count": 9,
   "metadata": {},
   "outputs": [
    {
     "data": {
      "text/plain": [
       "DecisionTreeClassifier(class_weight=None, criterion='gini', max_depth=None,\n",
       "            max_features=None, max_leaf_nodes=None,\n",
       "            min_impurity_decrease=0.0, min_impurity_split=None,\n",
       "            min_samples_leaf=1, min_samples_split=20,\n",
       "            min_weight_fraction_leaf=0.0, presort=False, random_state=None,\n",
       "            splitter='best')"
      ]
     },
     "execution_count": 9,
     "metadata": {},
     "output_type": "execute_result"
    }
   ],
   "source": [
    "classifier = DecisionTreeClassifier()\n",
    "clas_grid = GridSearchCV(classifier, param_grid, cv=5)\n",
    "clas_grid.fit(X_train_dem, y_train_dem)\n",
    "clas_grid.best_estimator_"
   ]
  },
  {
   "cell_type": "code",
   "execution_count": 10,
   "metadata": {},
   "outputs": [
    {
     "data": {
      "image/png": "[encoded data removed]",
      "text/plain": [
       "<Figure size 432x288 with 1 Axes>"
      ]
     },
     "metadata": {
      "needs_background": "light"
     },
     "output_type": "display_data"
    }
   ],
   "source": [
    "classifier = DecisionTreeClassifier(criterion='entropy', max_depth=5, max_features=None,\n",
    "           max_leaf_nodes=20, min_impurity_split=1e-07, min_samples_leaf=1,\n",
    "           min_samples_split=20, min_weight_fraction_leaf=0.0,\n",
    "           presort=False, random_state=42, splitter='best')\n",
    "classifier.fit(X_train_dem,y_train_dem)\n",
    "y_pred_clas = classifier.predict(X_test_dem)\n",
    "feat_importances = pd.Series(classifier.feature_importances_, index=X_dem.columns)\n",
    "feat_importances.nlargest(10).plot(kind='bar')\n",
    "plt.show()"
   ]
  },
  {
   "cell_type": "markdown",
   "metadata": {},
   "source": [
    "If you want to display the tree un-comment this code (Only runs on mac contact me for Windows)"
   ]
  },
  {
   "cell_type": "code",
   "execution_count": 66,
   "metadata": {},
   "outputs": [],
   "source": [
    "# export_graphviz(classifier, out_file='demographics.dot',\n",
    "#                 feature_names = X_dem.columns,\n",
    "        \n",
    "#                 rounded = True, proportion = False, \n",
    "#                 precision = 2, filled = True)\n",
    "# call(['dot', '-Tpng', 'demographics.dot', '-o', 'demographics.png', '-Gdpi=600'])\n",
    "# Image(filename = 'demographics.png')"
   ]
  },
  {
   "cell_type": "markdown",
   "metadata": {},
   "source": [
    "Random States from 1 to 300"
   ]
  },
  {
   "cell_type": "code",
   "execution_count": 15,
   "metadata": {},
   "outputs": [
    {
     "name": "stdout",
     "output_type": "stream",
     "text": [
      "Mean Training Accuracy: 0.7911842895120487\n",
      "Mean Test Accuracy: 0.6153846153846154\n",
      "Standard Deviation for test accuracy 0.11001221731185196\n",
      "AUC score equals 0.5815227136297371\n",
      "Standard Deviation for auc score 0.11845534317652652\n",
      "Precision Score 0.40081401580454795\n",
      "F1 0.38570086466221154\n",
      "Average precision score: 0.40081401580454795\n",
      "Average recall score 0.4467988533205925\n"
     ]
    }
   ],
   "source": [
    "random_state = list(range(1,300))\n",
    "#print(random_state)\n",
    "d1_train_acc = []\n",
    "d1_test_acc = []\n",
    "d1_auc_score = []\n",
    "precision = []\n",
    "f1_hi=[]\n",
    "d1_prec_score = []\n",
    "d1_recall_score = []\n",
    "\n",
    "for i in random_state :\n",
    "    \n",
    "    X_dem = demographics[['Group', 'Age', 'Gender', 'BMI']]\n",
    "    Y_dem = demographics['Weight_loss_band']\n",
    "    \n",
    "    X_train, X_test, y_train, y_test= train_test_split(X_dem,Y_dem, test_size = 0.3, random_state = i) \n",
    "    \n",
    "    clf = DecisionTreeClassifier(class_weight=None, criterion='entropy', max_depth=None,\n",
    "            max_features=None, max_leaf_nodes=None,\n",
    "            min_impurity_decrease=0.0, min_impurity_split=None,\n",
    "            min_samples_leaf=1, min_samples_split=20,\n",
    "            min_weight_fraction_leaf=0.0, presort=False, random_state=None,\n",
    "            splitter='best')\n",
    "    \n",
    "    clf.fit(X_train,y_train)\n",
    "    y_pred = clf.predict(X_test) \n",
    "\n",
    "    train_acc = clf.score(X_train, y_train)\n",
    "    test_acc = accuracy_score(y_test,y_pred)\n",
    "    auc_score = roc_auc_score(y_test,y_pred)\n",
    "    average_precision = average_precision_score(y_test, y_pred)\n",
    "    f1_score_pred = f1_score(y_test,y_pred)\n",
    "    prec_score = average_precision_score(y_test, y_pred)\n",
    "    rec_score = recall_score(y_test,y_pred)\n",
    "\n",
    "    \n",
    "    d1_train_acc.append(train_acc)\n",
    "    d1_test_acc.append(test_acc)\n",
    "    d1_auc_score.append(auc_score)\n",
    "    precision.append(average_precision)\n",
    "    f1_hi.append(f1_score_pred)\n",
    "    d1_prec_score.append(prec_score)\n",
    "    d1_recall_score.append(rec_score)\n",
    "\n",
    "\n",
    "print('Mean Training Accuracy:', np.mean(d1_train_acc)) \n",
    "print('Mean Test Accuracy:', np.mean(d1_test_acc))\n",
    "print('Standard Deviation for test accuracy',statistics.stdev(d1_test_acc))\n",
    "print('AUC score equals',np.mean(d1_auc_score))\n",
    "print('Standard Deviation for auc score',statistics.stdev(d1_auc_score))\n",
    "print('Precision Score', np.mean(precision))\n",
    "print('F1', np.mean(f1_hi))\n",
    "print('Average precision score:', np.mean(d1_prec_score))\n",
    "print('Average recall score', np.mean(d1_recall_score))"
   ]
  },
  {
   "cell_type": "code",
   "execution_count": 16,
   "metadata": {},
   "outputs": [
    {
     "data": {
      "text/plain": [
       "array([[5, 4],\n",
       "       [4, 4]])"
      ]
     },
     "execution_count": 16,
     "metadata": {},
     "output_type": "execute_result"
    }
   ],
   "source": [
    "cm = confusion_matrix(y_test, y_pred)\n",
    "cm"
   ]
  },
  {
   "cell_type": "markdown",
   "metadata": {},
   "source": [
    "3 Fold Cross Validation"
   ]
  },
  {
   "cell_type": "code",
   "execution_count": 23,
   "metadata": {},
   "outputs": [
    {
     "name": "stdout",
     "output_type": "stream",
     "text": [
      "Accuracy: 0.72 (+/- 0.05)\n",
      "Recall 0.0 0.0\n",
      "Precision 0.0 0.0\n",
      "F1 0.0 std 0.0\n"
     ]
    }
   ],
   "source": [
    "scores = cross_val_score(clf,X_train,y_train, cv=3)\n",
    "scores               \n",
    "print(\"Accuracy: %0.2f (+/- %0.2f)\" % (scores.mean(), scores.std() * 2))\n",
    "\n",
    "lb = LabelBinarizer()\n",
    "y_train = np.array([number[0] for number in lb.fit_transform(y_train)])\n",
    "\n",
    "recall = cross_val_score(clf, X_train, y_train, cv=5, scoring='recall')\n",
    "print('Recall', np.mean(recall), recall.std())\n",
    "precision = cross_val_score(clf, X_train, y_train, cv=5, scoring='precision')\n",
    "print('Precision', np.mean(precision), precision.std())\n",
    "f1 = cross_val_score(clf, X_train, y_train, cv=5, scoring='f1')\n",
    "print('F1', np.mean(f1), 'std',f1.std())\n"
   ]
  },
  {
   "cell_type": "markdown",
   "metadata": {},
   "source": [
    "## Step counts"
   ]
  },
  {
   "cell_type": "code",
   "execution_count": 24,
   "metadata": {},
   "outputs": [],
   "source": [
    "X_steps = steps[['Group', 'Age', 'Gender', 'BMI','Steps']]\n",
    "Y_steps = steps['Weight_loss_band']                  \n",
    "X_train, X_test, y_train, y_test = train_test_split(X_steps,Y_steps, test_size = 0.3, random_state=42)"
   ]
  },
  {
   "cell_type": "code",
   "execution_count": 93,
   "metadata": {},
   "outputs": [
    {
     "name": "stderr",
     "output_type": "stream",
     "text": [
      "/Users/marikitamarinaki/anaconda3/lib/python3.7/site-packages/sklearn/model_selection/_search.py:841: DeprecationWarning: The default of the `iid` parameter will change from True to False in version 0.22 and will be removed in 0.24. This will change numeric results when test-set sizes are unequal.\n",
      "  DeprecationWarning)\n"
     ]
    },
    {
     "data": {
      "text/plain": [
       "DecisionTreeClassifier(class_weight=None, criterion='gini', max_depth=2,\n",
       "            max_features=None, max_leaf_nodes=None,\n",
       "            min_impurity_decrease=0.0, min_impurity_split=None,\n",
       "            min_samples_leaf=1, min_samples_split=10,\n",
       "            min_weight_fraction_leaf=0.0, presort=False, random_state=None,\n",
       "            splitter='best')"
      ]
     },
     "execution_count": 93,
     "metadata": {},
     "output_type": "execute_result"
    }
   ],
   "source": [
    "classifier = DecisionTreeClassifier()\n",
    "clas_grid = GridSearchCV(classifier, param_grid, cv=5)\n",
    "clas_grid.fit(X_train, y_train)\n",
    "clas_grid.best_estimator_"
   ]
  },
  {
   "cell_type": "code",
   "execution_count": 94,
   "metadata": {},
   "outputs": [
    {
     "data": {
      "image/png": "[encoded data removed]",
      "text/plain": [
       "<Figure size 432x288 with 1 Axes>"
      ]
     },
     "metadata": {
      "needs_background": "light"
     },
     "output_type": "display_data"
    }
   ],
   "source": [
    "classifier = DecisionTreeClassifier(class_weight=None, criterion='entropy', max_depth=None,\n",
    "            max_features=None, max_leaf_nodes=None,\n",
    "            min_impurity_decrease=0.0, min_impurity_split=None,\n",
    "            min_samples_leaf=1, min_samples_split=10,\n",
    "            min_weight_fraction_leaf=0.0, presort=False, random_state=None,\n",
    "            splitter='best')\n",
    "classifier.fit(X_train,y_train)\n",
    "y_pred_clas = classifier.predict(X_test)\n",
    "feat_importances = pd.Series(classifier.feature_importances_, index=X_steps.columns)\n",
    "feat_importances.nlargest(10).plot(kind='bar')\n",
    "plt.show()"
   ]
  },
  {
   "cell_type": "code",
   "execution_count": 25,
   "metadata": {
    "scrolled": true
   },
   "outputs": [
    {
     "name": "stdout",
     "output_type": "stream",
     "text": [
      "Mean Training Accuracy: 0.8701655089614956\n",
      "Mean Test Accuracy: 0.6118433995671847\n",
      "Standard Deviation for test accuracy 0.11754039108696746\n",
      "AUC score equals 0.553222242269065\n",
      "Standard Deviation for auc score 0.11875919202060295\n",
      "Precision Score 0.3937810495079473\n",
      "F1 0.34499385514042213\n",
      "Average precision score: 0.3937810495079473\n",
      "Average recall score 0.35195625630408234\n"
     ]
    }
   ],
   "source": [
    "random_state = list(range(1,300))\n",
    "#print(random_state)\n",
    "d1_train_acc = []\n",
    "d1_test_acc = []\n",
    "d1_auc_score = []\n",
    "precision = []\n",
    "f1_hi=[]\n",
    "d1_prec_score = []\n",
    "d1_recall_score = []\n",
    "\n",
    "for i in random_state :\n",
    "    \n",
    "    X_steps = steps[['Group', 'Age', 'Gender', 'BMI','Steps']]\n",
    "    Y_steps = steps['Weight_loss_band']\n",
    "    \n",
    "    X_train, X_test, y_train, y_test= train_test_split(X_steps,Y_steps, test_size = 0.3, random_state = i) \n",
    "    \n",
    "    clf = DecisionTreeClassifier(class_weight=None, criterion='entropy', max_depth=None,\n",
    "            max_features=None, max_leaf_nodes=None,\n",
    "            min_impurity_decrease=0.0, min_impurity_split=None,\n",
    "            min_samples_leaf=1, min_samples_split=10,\n",
    "            min_weight_fraction_leaf=0.0, presort=False, random_state=None,\n",
    "            splitter='best')\n",
    "    \n",
    "    clf.fit(X_train,y_train)\n",
    "    y_pred = clf.predict(X_test) \n",
    "\n",
    "    train_acc = clf.score(X_train, y_train)\n",
    "    test_acc = accuracy_score(y_test,y_pred)\n",
    "    auc_score = roc_auc_score(y_test,y_pred)\n",
    "    average_precision = average_precision_score(y_test, y_pred)\n",
    "    f1_score_pred = f1_score(y_test,y_pred)\n",
    "    prec_score = average_precision_score(y_test, y_pred)\n",
    "    rec_score = recall_score(y_test,y_pred)\n",
    "\n",
    "    d1_train_acc.append(train_acc)\n",
    "    d1_test_acc.append(test_acc)\n",
    "    d1_auc_score.append(auc_score)\n",
    "    precision.append(average_precision)\n",
    "    f1_hi.append(f1_score_pred)\n",
    "    d1_prec_score.append(prec_score)\n",
    "    d1_recall_score.append(rec_score)\n",
    "\n",
    "\n",
    "print('Mean Training Accuracy:', np.mean(d1_train_acc)) \n",
    "print('Mean Test Accuracy:', np.mean(d1_test_acc))\n",
    "print('Standard Deviation for test accuracy',statistics.stdev(d1_test_acc))\n",
    "\n",
    "print('AUC score equals',np.mean(d1_auc_score))\n",
    "print('Standard Deviation for auc score',statistics.stdev(d1_auc_score))\n",
    "print('Precision Score', np.mean(precision))\n",
    "print('F1', np.mean(f1_hi))\n",
    "print('Average precision score:', np.mean(d1_prec_score))\n",
    "print('Average recall score', np.mean(d1_recall_score))"
   ]
  },
  {
   "cell_type": "markdown",
   "metadata": {},
   "source": [
    "3 Fold Cross Validation"
   ]
  },
  {
   "cell_type": "code",
   "execution_count": 96,
   "metadata": {
    "scrolled": true
   },
   "outputs": [
    {
     "name": "stdout",
     "output_type": "stream",
     "text": [
      "Accuracy: 0.74 (+/- 0.20)\n"
     ]
    }
   ],
   "source": [
    "scores = cross_val_score(clf,X_train,y_train, cv=3)\n",
    "scores               \n",
    "print(\"Accuracy: %0.2f (+/- %0.2f)\" % (scores.mean(), scores.std() * 2))"
   ]
  },
  {
   "cell_type": "code",
   "execution_count": 97,
   "metadata": {},
   "outputs": [
    {
     "data": {
      "text/plain": [
       "array([[7, 2],\n",
       "       [7, 1]])"
      ]
     },
     "execution_count": 97,
     "metadata": {},
     "output_type": "execute_result"
    }
   ],
   "source": [
    "cm = confusion_matrix(y_test, y_pred)\n",
    "cm"
   ]
  },
  {
   "cell_type": "markdown",
   "metadata": {},
   "source": [
    "## Pathways"
   ]
  },
  {
   "cell_type": "code",
   "execution_count": 26,
   "metadata": {},
   "outputs": [],
   "source": [
    "X_pa = pathways[['Group', 'Age', 'Gender', 'BMI', 'Steps',\n",
    "       'path:hsa03040-mean', 'path:hsa03040-variance', 'path:hsa03050-mean',\n",
    "       'path:hsa03050-variance', 'path:hsa03060-mean',\n",
    "       'path:hsa03060-variance', 'path:hsa04130-mean',\n",
    "       'path:hsa04130-variance', 'path:hsa04141-mean',\n",
    "       'path:hsa04141-variance', 'path:hsa04662-mean',\n",
    "       'path:hsa04662-variance', 'path:hsa05220-mean',\n",
    "       'path:hsa05220-variance']]\n",
    "Y_pa =pathways['Weight_loss_band']                  \n",
    "X_train, X_test, y_train, y_test = train_test_split(X_pa,Y_pa, test_size = 0.2, random_state=42)"
   ]
  },
  {
   "cell_type": "code",
   "execution_count": 99,
   "metadata": {},
   "outputs": [
    {
     "name": "stderr",
     "output_type": "stream",
     "text": [
      "/Users/marikitamarinaki/anaconda3/lib/python3.7/site-packages/sklearn/model_selection/_search.py:841: DeprecationWarning: The default of the `iid` parameter will change from True to False in version 0.22 and will be removed in 0.24. This will change numeric results when test-set sizes are unequal.\n",
      "  DeprecationWarning)\n"
     ]
    },
    {
     "data": {
      "text/plain": [
       "DecisionTreeClassifier(class_weight=None, criterion='entropy', max_depth=None,\n",
       "            max_features=None, max_leaf_nodes=5, min_impurity_decrease=0.0,\n",
       "            min_impurity_split=None, min_samples_leaf=5,\n",
       "            min_samples_split=2, min_weight_fraction_leaf=0.0,\n",
       "            presort=False, random_state=None, splitter='best')"
      ]
     },
     "execution_count": 99,
     "metadata": {},
     "output_type": "execute_result"
    }
   ],
   "source": [
    "classifier = DecisionTreeClassifier()\n",
    "clas_grid = GridSearchCV(classifier, param_grid, cv=5)\n",
    "clas_grid.fit(X_train, y_train)\n",
    "clas_grid.best_estimator_"
   ]
  },
  {
   "cell_type": "code",
   "execution_count": 100,
   "metadata": {},
   "outputs": [
    {
     "data": {
      "image/png": "[encoded data removed]",
      "text/plain": [
       "<Figure size 432x288 with 1 Axes>"
      ]
     },
     "metadata": {
      "needs_background": "light"
     },
     "output_type": "display_data"
    }
   ],
   "source": [
    "classifier =DecisionTreeClassifier(class_weight=None, criterion='entropy', max_depth=None,\n",
    "            max_features=None, max_leaf_nodes=20,\n",
    "            min_impurity_decrease=0.0, min_impurity_split=None,\n",
    "            min_samples_leaf=5, min_samples_split=2,\n",
    "            min_weight_fraction_leaf=0.0, presort=False, random_state=None,\n",
    "            splitter='best')\n",
    "classifier.fit(X_train,y_train)\n",
    "y_pred_clas = classifier.predict(X_test)\n",
    "feat_importances = pd.Series(classifier.feature_importances_, index=X_pa.columns)\n",
    "feat_importances.nlargest(10).plot(kind='bar')\n",
    "plt.show()"
   ]
  },
  {
   "cell_type": "code",
   "execution_count": 27,
   "metadata": {},
   "outputs": [
    {
     "name": "stdout",
     "output_type": "stream",
     "text": [
      "Mean Training Accuracy: 0.9318240288139955\n",
      "Mean Test Accuracy: 0.5660043281526658\n",
      "Standard Deviation for test accuracy 0.10337280860134347\n",
      "AUC score equals 0.5173630438680605\n",
      "Standard Deviation for auc score 0.11615789207830164\n",
      "F1 0.31948958880345235\n",
      "Average precision score: 0.36405203391053165\n",
      "Average recall score 0.34899001964219356\n"
     ]
    }
   ],
   "source": [
    "random_state = list(range(1,300))\n",
    "#print(random_state)\n",
    "d1_train_acc = []\n",
    "d1_test_acc = []\n",
    "d1_auc_score = []\n",
    "f1_hi=[]\n",
    "d1_prec_score = []\n",
    "d1_recall_score = []\n",
    "\n",
    "for i in random_state :\n",
    "    \n",
    "    X_pa = pathways[['Group', 'Age', 'Gender', 'BMI', 'Steps',\n",
    "       'path:hsa03040-mean', 'path:hsa03040-variance', 'path:hsa03050-mean',\n",
    "       'path:hsa03050-variance', 'path:hsa03060-mean',\n",
    "       'path:hsa03060-variance', 'path:hsa04130-mean',\n",
    "       'path:hsa04130-variance', 'path:hsa04141-mean',\n",
    "       'path:hsa04141-variance', 'path:hsa04662-mean',\n",
    "       'path:hsa04662-variance', 'path:hsa05220-mean',\n",
    "       'path:hsa05220-variance']]\n",
    "    Y_pa = pathways['Weight_loss_band']\n",
    "    \n",
    "    X_train, X_test, y_train, y_test= train_test_split(X_pa,Y_pa, test_size = 0.3, random_state = i) \n",
    "    \n",
    "    clf = DecisionTreeClassifier(class_weight=None, criterion='entropy', max_depth=None,\n",
    "            max_features=None, max_leaf_nodes=None,\n",
    "            min_impurity_decrease=0.0, min_impurity_split=None,\n",
    "            min_samples_leaf=1, min_samples_split=10,\n",
    "            min_weight_fraction_leaf=0.0, presort=False, random_state=None,\n",
    "            splitter='best')\n",
    "    \n",
    "    clf.fit(X_train,y_train)\n",
    "    y_pred = clf.predict(X_test) \n",
    "\n",
    "    train_acc = clf.score(X_train, y_train)\n",
    "    test_acc = accuracy_score(y_test,y_pred)\n",
    "    auc_score = roc_auc_score(y_test,y_pred)\n",
    "    f1_score_pred = f1_score(y_test,y_pred)\n",
    "    prec_score = average_precision_score(y_test, y_pred)\n",
    "    rec_score = recall_score(y_test,y_pred)\n",
    "    \n",
    "    d1_train_acc.append(train_acc)\n",
    "    d1_test_acc.append(test_acc)\n",
    "    d1_auc_score.append(auc_score)\n",
    "    f1_hi.append(f1_score_pred)\n",
    "    d1_prec_score.append(prec_score)\n",
    "    d1_recall_score.append(rec_score)\n",
    "\n",
    "print('Mean Training Accuracy:', np.mean(d1_train_acc)) \n",
    "print('Mean Test Accuracy:', np.mean(d1_test_acc))\n",
    "print('Standard Deviation for test accuracy',statistics.stdev(d1_test_acc))\n",
    "\n",
    "print('AUC score equals',np.mean(d1_auc_score))\n",
    "print('Standard Deviation for auc score',statistics.stdev(d1_auc_score))\n",
    "print('F1', np.mean(f1_hi))\n",
    "print('Average precision score:', np.mean(d1_prec_score))\n",
    "print('Average recall score', np.mean(d1_recall_score))"
   ]
  },
  {
   "cell_type": "markdown",
   "metadata": {},
   "source": [
    "5 fold cross validation"
   ]
  },
  {
   "cell_type": "code",
   "execution_count": 28,
   "metadata": {},
   "outputs": [
    {
     "name": "stdout",
     "output_type": "stream",
     "text": [
      "Accuracy: 0.69 (+/- 0.13)\n"
     ]
    }
   ],
   "source": [
    "scores = cross_val_score(clf,X_train,y_train, cv=5)\n",
    "scores               \n",
    "print(\"Accuracy: %0.2f (+/- %0.2f)\" % (scores.mean(), scores.std() * 2))"
   ]
  },
  {
   "cell_type": "code",
   "execution_count": 29,
   "metadata": {},
   "outputs": [
    {
     "name": "stdout",
     "output_type": "stream",
     "text": [
      "Average precision-recall score: 0.45\n"
     ]
    }
   ],
   "source": [
    "average_precision = average_precision_score(y_test, y_pred)\n",
    "\n",
    "print('Average precision-recall score: {0:0.2f}'.format(\n",
    "      average_precision))"
   ]
  },
  {
   "cell_type": "code",
   "execution_count": 30,
   "metadata": {},
   "outputs": [
    {
     "data": {
      "text/plain": [
       "array([[7, 2],\n",
       "       [7, 1]])"
      ]
     },
     "execution_count": 30,
     "metadata": {},
     "output_type": "execute_result"
    }
   ],
   "source": [
    "cm = confusion_matrix(y_test, y_pred)\n",
    "cm"
   ]
  },
  {
   "cell_type": "markdown",
   "metadata": {},
   "source": [
    "# Extra Model without some Features"
   ]
  },
  {
   "cell_type": "code",
   "execution_count": 31,
   "metadata": {},
   "outputs": [
    {
     "name": "stdout",
     "output_type": "stream",
     "text": [
      "Mean Training Accuracy: 0.9112426035502958\n",
      "Mean Test Accuracy: 0.60987605744639\n",
      "Standard Deviation for test accuracy 0.1026535247045416\n",
      "AUC score equals 0.5502193922762485\n",
      "Standard Deviation for auc score 0.1130417734019276\n",
      "F1 0.34462331556567244\n",
      "Average precision score: 0.38407788394064424\n",
      "Average recall score 0.3531016085363911\n"
     ]
    }
   ],
   "source": [
    "random_state = list(range(1,300))\n",
    "#print(random_state)\n",
    "d1_train_acc = []\n",
    "d1_test_acc = []\n",
    "d1_auc_score = []\n",
    "precision = []\n",
    "f1_hi=[]\n",
    "d1_prec_score = []\n",
    "d1_recall_score = []\n",
    "\n",
    "for i in random_state :\n",
    "    \n",
    "    X_pa = pathways[['Group', 'Age', 'Gender', 'BMI', 'Steps','path:hsa03040-variance','path:hsa03060-mean']]\n",
    "    Y_pa = pathways['Weight_loss_band']\n",
    "    \n",
    "    X_train, X_test, y_train, y_test= train_test_split(X_pa,Y_pa, test_size = 0.3, random_state = i) \n",
    "    \n",
    "    clf = DecisionTreeClassifier(class_weight=None, criterion='entropy', max_depth=None,\n",
    "            max_features=None, max_leaf_nodes=None,\n",
    "            min_impurity_decrease=0.0, min_impurity_split=None,\n",
    "            min_samples_leaf=1, min_samples_split=10,\n",
    "            min_weight_fraction_leaf=0.0, presort=False, random_state=None,\n",
    "            splitter='best')\n",
    "    \n",
    "    clf.fit(X_train,y_train)\n",
    "    y_pred = clf.predict(X_test) \n",
    "\n",
    "    train_acc = clf.score(X_train, y_train)\n",
    "    test_acc = accuracy_score(y_test,y_pred)\n",
    "    auc_score = roc_auc_score(y_test,y_pred)\n",
    "    f1_score_pred = f1_score(y_test,y_pred)\n",
    "    prec_score = average_precision_score(y_test, y_pred)\n",
    "    rec_score = recall_score(y_test,y_pred)\n",
    "\n",
    "    \n",
    "    d1_train_acc.append(train_acc)\n",
    "    d1_test_acc.append(test_acc)\n",
    "    d1_auc_score.append(auc_score)\n",
    "    f1_hi.append(f1_score_pred)\n",
    "    d1_prec_score.append(prec_score)\n",
    "    d1_recall_score.append(rec_score)\n",
    "    \n",
    "\n",
    "print('Mean Training Accuracy:', np.mean(d1_train_acc)) \n",
    "print('Mean Test Accuracy:', np.mean(d1_test_acc))\n",
    "print('Standard Deviation for test accuracy',statistics.stdev(d1_test_acc))\n",
    "\n",
    "print('AUC score equals',np.mean(d1_auc_score))\n",
    "print('Standard Deviation for auc score',statistics.stdev(d1_auc_score))\n",
    "print('F1', np.mean(f1_hi))\n",
    "print('Average precision score:', np.mean(d1_prec_score))\n",
    "print('Average recall score', np.mean(d1_recall_score))"
   ]
  },
  {
   "cell_type": "code",
   "execution_count": 106,
   "metadata": {},
   "outputs": [
    {
     "name": "stdout",
     "output_type": "stream",
     "text": [
      "Accuracy: 0.80 (+/- 0.35)\n"
     ]
    }
   ],
   "source": [
    "scores = cross_val_score(clf,X_train,y_train, cv=5)\n",
    "scores               \n",
    "print(\"Accuracy: %0.2f (+/- %0.2f)\" % (scores.mean(), scores.std() * 2))"
   ]
  },
  {
   "cell_type": "code",
   "execution_count": 107,
   "metadata": {},
   "outputs": [
    {
     "data": {
      "text/plain": [
       "array([[7, 2],\n",
       "       [5, 3]])"
      ]
     },
     "execution_count": 107,
     "metadata": {},
     "output_type": "execute_result"
    }
   ],
   "source": [
    "cm = confusion_matrix(y_test, y_pred)\n",
    "cm"
   ]
  },
  {
   "cell_type": "code",
   "execution_count": 108,
   "metadata": {},
   "outputs": [
    {
     "name": "stdout",
     "output_type": "stream",
     "text": [
      "Average precision-recall score: 0.52\n"
     ]
    }
   ],
   "source": [
    "average_precision = average_precision_score(y_test, y_pred)\n",
    "\n",
    "print('Average precision-recall score: {0:0.2f}'.format(\n",
    "      average_precision))"
   ]
  },
  {
   "cell_type": "code",
   "execution_count": 109,
   "metadata": {},
   "outputs": [
    {
     "name": "stdout",
     "output_type": "stream",
     "text": [
      "Precision 0.6\n",
      "Recall 0.375\n",
      "0.4615384615384615\n"
     ]
    }
   ],
   "source": [
    "precision = float(3/(3+2))\n",
    "print('Precision', precision)\n",
    "recall = 3/(3+5)\n",
    "print('Recall', recall)\n",
    "f1 = 2*(precision*recall)/(precision+recall)\n",
    "print(f1)"
   ]
  },
  {
   "cell_type": "markdown",
   "metadata": {},
   "source": [
    "## PCA"
   ]
  },
  {
   "cell_type": "code",
   "execution_count": 32,
   "metadata": {},
   "outputs": [],
   "source": [
    "X_pcs= pcs[['PC1', 'PC2', 'PC3', 'PC4', 'PC5','Steps','Gender','BMI']]\n",
    "Y_pcs = pcs['Weight_loss_band']                \n",
    "X_train, X_test, y_train, y_test= train_test_split(X_pcs,Y_pcs, test_size = 0.2, random_state = 42)"
   ]
  },
  {
   "cell_type": "code",
   "execution_count": 39,
   "metadata": {},
   "outputs": [
    {
     "name": "stderr",
     "output_type": "stream",
     "text": [
      "/Users/marikitamarinaki/anaconda3/lib/python3.7/site-packages/sklearn/model_selection/_search.py:841: DeprecationWarning: The default of the `iid` parameter will change from True to False in version 0.22 and will be removed in 0.24. This will change numeric results when test-set sizes are unequal.\n",
      "  DeprecationWarning)\n"
     ]
    },
    {
     "data": {
      "text/plain": [
       "DecisionTreeClassifier(class_weight=None, criterion='gini', max_depth=None,\n",
       "            max_features=None, max_leaf_nodes=5, min_impurity_decrease=0.0,\n",
       "            min_impurity_split=None, min_samples_leaf=1,\n",
       "            min_samples_split=2, min_weight_fraction_leaf=0.0,\n",
       "            presort=False, random_state=None, splitter='best')"
      ]
     },
     "execution_count": 39,
     "metadata": {},
     "output_type": "execute_result"
    }
   ],
   "source": [
    "reg = DecisionTreeClassifier()\n",
    "reg_grid = GridSearchCV(reg, param_grid, cv=5)\n",
    "reg_grid.fit(X_train, y_train)\n",
    "reg_grid.best_estimator_"
   ]
  },
  {
   "cell_type": "code",
   "execution_count": 42,
   "metadata": {},
   "outputs": [
    {
     "data": {
      "image/png": "[encoded data removed]",
      "text/plain": [
       "<Figure size 432x288 with 1 Axes>"
      ]
     },
     "metadata": {
      "needs_background": "light"
     },
     "output_type": "display_data"
    }
   ],
   "source": [
    "classifier = DecisionTreeClassifier(criterion='gini', max_depth=None, max_features=None,\n",
    "           max_leaf_nodes=None, min_impurity_split=None, min_samples_leaf=5,\n",
    "           min_samples_split=2, min_weight_fraction_leaf=0.0,\n",
    "           presort=False,  splitter='best')\n",
    "classifier.fit(X_train,y_train)\n",
    "y_pred= classifier.predict(X_test)\n",
    "feat_importances = pd.Series(classifier.feature_importances_, index=X_pcs.columns)\n",
    "feat_importances.nlargest(10).plot(kind='bar')\n",
    "plt.show()"
   ]
  },
  {
   "cell_type": "code",
   "execution_count": 33,
   "metadata": {
    "scrolled": true
   },
   "outputs": [
    {
     "name": "stdout",
     "output_type": "stream",
     "text": [
      "Mean Training Accuracy: 0.9278792556384529\n",
      "Mean Test Accuracy: 0.6293527444422585\n",
      "Standard Deviation for test accuracy 0.10962110490158418\n",
      "AUC score equals 0.5869066505772191\n",
      "Standard Deviation for auc score 0.1318829006400624\n",
      "F1 0.41071648840165154\n",
      "Average precision score: 0.4152250226802656\n",
      "Average recall score 0.43762276370972014\n"
     ]
    }
   ],
   "source": [
    "random_state = list(range(1,300))\n",
    "\n",
    "d1_train_acc = []\n",
    "d1_test_acc = []\n",
    "d1_auc_score = []\n",
    "f1_hi=[]\n",
    "d1_prec_score = []\n",
    "d1_recall_score = []\n",
    "\n",
    "for i in random_state :\n",
    "    \n",
    "    X_pcs= pcs[['PC1', 'PC2', 'PC3', 'PC4', 'PC5','Steps','Gender','BMI']]\n",
    "    Y_pcs = pcs['Weight_loss_band']\n",
    "    \n",
    "    X_train, X_test, y_train, y_test= train_test_split(X_pcs,Y_pcs, test_size = 0.3, random_state = i) \n",
    "    \n",
    "    clf = DecisionTreeClassifier(class_weight=None, criterion='entropy', max_depth=None,\n",
    "            max_features=None, max_leaf_nodes=None,\n",
    "            min_impurity_decrease=0.0, min_impurity_split=None,\n",
    "            min_samples_leaf=1, min_samples_split=10,\n",
    "            min_weight_fraction_leaf=0.0, presort=False, random_state=None,\n",
    "            splitter='best')\n",
    "    \n",
    "    clf.fit(X_train,y_train)\n",
    "    y_pred = clf.predict(X_test) \n",
    "\n",
    "    train_acc = clf.score(X_train, y_train)\n",
    "    test_acc = accuracy_score(y_test,y_pred)\n",
    "    auc_score = roc_auc_score(y_test,y_pred)\n",
    "    f1_score_pred = f1_score(y_test,y_pred)\n",
    "    prec_score = average_precision_score(y_test, y_pred)\n",
    "    rec_score = recall_score(y_test,y_pred)\n",
    "    \n",
    "    d1_train_acc.append(train_acc)\n",
    "    d1_test_acc.append(test_acc)\n",
    "    d1_auc_score.append(auc_score)\n",
    "    f1_hi.append(f1_score_pred)\n",
    "    d1_prec_score.append(prec_score)\n",
    "    d1_recall_score.append(rec_score)\n",
    "    \n",
    "\n",
    "print('Mean Training Accuracy:', np.mean(d1_train_acc)) \n",
    "print('Mean Test Accuracy:', np.mean(d1_test_acc))\n",
    "print('Standard Deviation for test accuracy',statistics.stdev(d1_test_acc))\n",
    "\n",
    "print('AUC score equals',np.mean(d1_auc_score))\n",
    "print('Standard Deviation for auc score',statistics.stdev(d1_auc_score))\n",
    "print('F1', np.mean(f1_hi))\n",
    "print('Average precision score:', np.mean(d1_prec_score))\n",
    "print('Average recall score', np.mean(d1_recall_score))"
   ]
  },
  {
   "cell_type": "code",
   "execution_count": 44,
   "metadata": {},
   "outputs": [
    {
     "name": "stdout",
     "output_type": "stream",
     "text": [
      "[0.66666667 0.875      0.75       0.57142857 0.57142857]\n",
      "Accuracy: 0.69 (+/- 0.23)\n"
     ]
    }
   ],
   "source": [
    "scores = cross_val_score(classifier,X_train,y_train, cv=5)\n",
    "print(scores)               \n",
    "print(\"Accuracy: %0.2f (+/- %0.2f)\" % (scores.mean(), scores.std() * 2))"
   ]
  },
  {
   "cell_type": "code",
   "execution_count": 45,
   "metadata": {},
   "outputs": [
    {
     "data": {
      "text/plain": [
       "array([[7, 2],\n",
       "       [6, 2]])"
      ]
     },
     "execution_count": 45,
     "metadata": {},
     "output_type": "execute_result"
    }
   ],
   "source": [
    "cm = confusion_matrix(y_test, y_pred)\n",
    "cm"
   ]
  },
  {
   "cell_type": "code",
   "execution_count": null,
   "metadata": {},
   "outputs": [],
   "source": []
  }
 ],
 "metadata": {
  "kernelspec": {
   "display_name": "Python 3",
   "language": "python",
   "name": "python3"
  },
  "language_info": {
   "codemirror_mode": {
    "name": "ipython",
    "version": 3
   },
   "file_extension": ".py",
   "mimetype": "text/x-python",
   "name": "python",
   "nbconvert_exporter": "python",
   "pygments_lexer": "ipython3",
   "version": "3.7.1"
  }
 },
 "nbformat": 4,
 "nbformat_minor": 2
}
